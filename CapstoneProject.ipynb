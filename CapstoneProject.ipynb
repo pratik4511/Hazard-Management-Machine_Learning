{
 "cells": [
  {
   "cell_type": "markdown",
   "metadata": {},
   "source": [
    "## Importing Libraries"
   ]
  },
  {
   "cell_type": "code",
   "execution_count": 594,
   "metadata": {},
   "outputs": [],
   "source": [
    "import pandas as pd\n",
    "import numpy as np\n",
    "import matplotlib.pyplot as plt\n",
    "%matplotlib inline\n",
    "import seaborn as sns\n",
    "from plotly.offline import iplot\n",
    "import plotly as py\n",
    "import statsmodels.api as sm\n",
    "from sklearn import metrics"
   ]
  },
  {
   "cell_type": "markdown",
   "metadata": {},
   "source": [
    "## Reading Dataset"
   ]
  },
  {
   "cell_type": "code",
   "execution_count": 595,
   "metadata": {},
   "outputs": [
    {
     "data": {
      "text/html": [
       "<div>\n",
       "<style scoped>\n",
       "    .dataframe tbody tr th:only-of-type {\n",
       "        vertical-align: middle;\n",
       "    }\n",
       "\n",
       "    .dataframe tbody tr th {\n",
       "        vertical-align: top;\n",
       "    }\n",
       "\n",
       "    .dataframe thead th {\n",
       "        text-align: right;\n",
       "    }\n",
       "</style>\n",
       "<table border=\"1\" class=\"dataframe\">\n",
       "  <thead>\n",
       "    <tr style=\"text-align: right;\">\n",
       "      <th></th>\n",
       "      <th>Hazard_type</th>\n",
       "      <th>Hazard_identification</th>\n",
       "      <th>hazard_identification_score</th>\n",
       "      <th>action_completed_date</th>\n",
       "      <th>FormSubmissionDate</th>\n",
       "      <th>potential_risk</th>\n",
       "      <th>potential_risk_score</th>\n",
       "      <th>further_action_required</th>\n",
       "      <th>immediate_action_required_and_performed</th>\n",
       "      <th>immediate_action_taken</th>\n",
       "      <th>...</th>\n",
       "      <th>Duration</th>\n",
       "      <th>per_first_name</th>\n",
       "      <th>per_last_name</th>\n",
       "      <th>per_gender</th>\n",
       "      <th>ReportSent</th>\n",
       "      <th>Supervisor</th>\n",
       "      <th>Supervisor_Name</th>\n",
       "      <th>action_status</th>\n",
       "      <th>sha_enable</th>\n",
       "      <th>Completion_Time_Bucket</th>\n",
       "    </tr>\n",
       "  </thead>\n",
       "  <tbody>\n",
       "    <tr>\n",
       "      <th>0</th>\n",
       "      <td>Near Miss</td>\n",
       "      <td>Water</td>\n",
       "      <td>4.0</td>\n",
       "      <td>5/21/2017</td>\n",
       "      <td>2017-05-26T04:00:00.000Z</td>\n",
       "      <td>2201.0</td>\n",
       "      <td>5.0</td>\n",
       "      <td>0.0</td>\n",
       "      <td>1.0</td>\n",
       "      <td>Turn off water valve</td>\n",
       "      <td>...</td>\n",
       "      <td>NaN</td>\n",
       "      <td>Sean</td>\n",
       "      <td>Thibert</td>\n",
       "      <td>6454.0</td>\n",
       "      <td>2.0</td>\n",
       "      <td>1340</td>\n",
       "      <td>Sean Thibert</td>\n",
       "      <td>COMPLETE</td>\n",
       "      <td>1</td>\n",
       "      <td>Immediate</td>\n",
       "    </tr>\n",
       "    <tr>\n",
       "      <th>1</th>\n",
       "      <td>Stop &amp; Correct</td>\n",
       "      <td>Working at Heights</td>\n",
       "      <td>3.0</td>\n",
       "      <td>6/30/2017</td>\n",
       "      <td>2017-05-28T04:00:00.000Z</td>\n",
       "      <td>2199.0</td>\n",
       "      <td>1.0</td>\n",
       "      <td>0.0</td>\n",
       "      <td>0.0</td>\n",
       "      <td>NaN</td>\n",
       "      <td>...</td>\n",
       "      <td>NaN</td>\n",
       "      <td>Curtis</td>\n",
       "      <td>Giroux</td>\n",
       "      <td>6454.0</td>\n",
       "      <td>2.0</td>\n",
       "      <td>489</td>\n",
       "      <td>Curtis Giroux</td>\n",
       "      <td>COMPLETE</td>\n",
       "      <td>1</td>\n",
       "      <td>Within 2 Months</td>\n",
       "    </tr>\n",
       "    <tr>\n",
       "      <th>2</th>\n",
       "      <td>Unsafe Act</td>\n",
       "      <td>Energy Sources</td>\n",
       "      <td>4.0</td>\n",
       "      <td>5/29/2017</td>\n",
       "      <td>2017-05-28T04:00:00.000Z</td>\n",
       "      <td>2201.0</td>\n",
       "      <td>5.0</td>\n",
       "      <td>1.0</td>\n",
       "      <td>1.0</td>\n",
       "      <td>Stopped work and had employee lock out.</td>\n",
       "      <td>...</td>\n",
       "      <td>60.0</td>\n",
       "      <td>Bradley</td>\n",
       "      <td>Hofford</td>\n",
       "      <td>6454.0</td>\n",
       "      <td>2.0</td>\n",
       "      <td>489</td>\n",
       "      <td>Bradley Hofford</td>\n",
       "      <td>COMPLETE</td>\n",
       "      <td>1</td>\n",
       "      <td>Within 1 Week</td>\n",
       "    </tr>\n",
       "    <tr>\n",
       "      <th>3</th>\n",
       "      <td>Unsafe Condition</td>\n",
       "      <td>Housekeeping</td>\n",
       "      <td>3.0</td>\n",
       "      <td>NaN</td>\n",
       "      <td>2017-05-28T04:00:00.000Z</td>\n",
       "      <td>2199.0</td>\n",
       "      <td>1.0</td>\n",
       "      <td>0.0</td>\n",
       "      <td>1.0</td>\n",
       "      <td>Informed Pierre B and Curtis G of the hazard a...</td>\n",
       "      <td>...</td>\n",
       "      <td>60.0</td>\n",
       "      <td>Bradley</td>\n",
       "      <td>Hofford</td>\n",
       "      <td>6454.0</td>\n",
       "      <td>2.0</td>\n",
       "      <td>489</td>\n",
       "      <td>Bradley Hofford</td>\n",
       "      <td>Complete</td>\n",
       "      <td>1</td>\n",
       "      <td>More than 1 Year</td>\n",
       "    </tr>\n",
       "    <tr>\n",
       "      <th>4</th>\n",
       "      <td>Unsafe Condition</td>\n",
       "      <td>Housekeeping</td>\n",
       "      <td>3.0</td>\n",
       "      <td>06/01/17</td>\n",
       "      <td>2017-05-28T04:00:00.000Z</td>\n",
       "      <td>2199.0</td>\n",
       "      <td>1.0</td>\n",
       "      <td>1.0</td>\n",
       "      <td>1.0</td>\n",
       "      <td>Informed Pierre B and Curtis G of the housekee...</td>\n",
       "      <td>...</td>\n",
       "      <td>NaN</td>\n",
       "      <td>Bradley</td>\n",
       "      <td>Hofford</td>\n",
       "      <td>6454.0</td>\n",
       "      <td>2.0</td>\n",
       "      <td>489</td>\n",
       "      <td>Bradley Hofford</td>\n",
       "      <td>COMPLETE</td>\n",
       "      <td>1</td>\n",
       "      <td>Within 1 Week</td>\n",
       "    </tr>\n",
       "  </tbody>\n",
       "</table>\n",
       "<p>5 rows × 26 columns</p>\n",
       "</div>"
      ],
      "text/plain": [
       "        Hazard_type Hazard_identification  hazard_identification_score  \\\n",
       "0         Near Miss                 Water                          4.0   \n",
       "1    Stop & Correct    Working at Heights                          3.0   \n",
       "2        Unsafe Act        Energy Sources                          4.0   \n",
       "3  Unsafe Condition          Housekeeping                          3.0   \n",
       "4  Unsafe Condition          Housekeeping                          3.0   \n",
       "\n",
       "  action_completed_date        FormSubmissionDate  potential_risk  \\\n",
       "0             5/21/2017  2017-05-26T04:00:00.000Z          2201.0   \n",
       "1             6/30/2017  2017-05-28T04:00:00.000Z          2199.0   \n",
       "2             5/29/2017  2017-05-28T04:00:00.000Z          2201.0   \n",
       "3                   NaN  2017-05-28T04:00:00.000Z          2199.0   \n",
       "4              06/01/17  2017-05-28T04:00:00.000Z          2199.0   \n",
       "\n",
       "   potential_risk_score  further_action_required  \\\n",
       "0                   5.0                      0.0   \n",
       "1                   1.0                      0.0   \n",
       "2                   5.0                      1.0   \n",
       "3                   1.0                      0.0   \n",
       "4                   1.0                      1.0   \n",
       "\n",
       "   immediate_action_required_and_performed  \\\n",
       "0                                      1.0   \n",
       "1                                      0.0   \n",
       "2                                      1.0   \n",
       "3                                      1.0   \n",
       "4                                      1.0   \n",
       "\n",
       "                              immediate_action_taken  ... Duration  \\\n",
       "0                               Turn off water valve  ...      NaN   \n",
       "1                                                NaN  ...      NaN   \n",
       "2            Stopped work and had employee lock out.  ...     60.0   \n",
       "3  Informed Pierre B and Curtis G of the hazard a...  ...     60.0   \n",
       "4  Informed Pierre B and Curtis G of the housekee...  ...      NaN   \n",
       "\n",
       "   per_first_name  per_last_name  per_gender  ReportSent Supervisor  \\\n",
       "0            Sean        Thibert      6454.0         2.0       1340   \n",
       "1          Curtis         Giroux      6454.0         2.0        489   \n",
       "2         Bradley        Hofford      6454.0         2.0        489   \n",
       "3         Bradley        Hofford      6454.0         2.0        489   \n",
       "4         Bradley        Hofford      6454.0         2.0        489   \n",
       "\n",
       "   Supervisor_Name action_status sha_enable  Completion_Time_Bucket  \n",
       "0     Sean Thibert      COMPLETE          1               Immediate  \n",
       "1    Curtis Giroux      COMPLETE          1         Within 2 Months  \n",
       "2  Bradley Hofford      COMPLETE          1           Within 1 Week  \n",
       "3  Bradley Hofford      Complete          1        More than 1 Year  \n",
       "4  Bradley Hofford      COMPLETE          1           Within 1 Week  \n",
       "\n",
       "[5 rows x 26 columns]"
      ]
     },
     "execution_count": 595,
     "metadata": {},
     "output_type": "execute_result"
    }
   ],
   "source": [
    "hazardData = pd.read_csv('/Users/pratik_4511/Desktop/Northeastern University /Quarter_5A:B/Capstone/new_latest_01.csv')\n",
    "hazardData.head(5)"
   ]
  },
  {
   "cell_type": "code",
   "execution_count": 596,
   "metadata": {},
   "outputs": [
    {
     "name": "stdout",
     "output_type": "stream",
     "text": [
      "<class 'pandas.core.frame.DataFrame'>\n",
      "RangeIndex: 13420 entries, 0 to 13419\n",
      "Data columns (total 26 columns):\n",
      " #   Column                                   Non-Null Count  Dtype  \n",
      "---  ------                                   --------------  -----  \n",
      " 0   Hazard_type                              13420 non-null  object \n",
      " 1   Hazard_identification                    13393 non-null  object \n",
      " 2   hazard_identification_score              13413 non-null  float64\n",
      " 3   action_completed_date                    6491 non-null   object \n",
      " 4   FormSubmissionDate                       13420 non-null  object \n",
      " 5   potential_risk                           13375 non-null  float64\n",
      " 6   potential_risk_score                     13409 non-null  float64\n",
      " 7   further_action_required                  13407 non-null  float64\n",
      " 8   immediate_action_required_and_performed  13411 non-null  float64\n",
      " 9   immediate_action_taken                   8348 non-null   object \n",
      " 10  recommended_action                       6654 non-null   object \n",
      " 11  immediate_action_score                   11830 non-null  float64\n",
      " 12  completed_action_score                   13005 non-null  float64\n",
      " 13  Site                                     13420 non-null  int64  \n",
      " 14  SiteLevel                                13420 non-null  int64  \n",
      " 15  Workplace                                13419 non-null  object \n",
      " 16  Duration                                 7617 non-null   float64\n",
      " 17  per_first_name                           13420 non-null  object \n",
      " 18  per_last_name                            13420 non-null  object \n",
      " 19  per_gender                               13222 non-null  float64\n",
      " 20  ReportSent                               13134 non-null  float64\n",
      " 21  Supervisor                               13420 non-null  object \n",
      " 22  Supervisor_Name                          13420 non-null  object \n",
      " 23  action_status                            13115 non-null  object \n",
      " 24  sha_enable                               13420 non-null  int64  \n",
      " 25  Completion_Time_Bucket                   13347 non-null  object \n",
      "dtypes: float64(10), int64(3), object(13)\n",
      "memory usage: 2.7+ MB\n"
     ]
    }
   ],
   "source": [
    "hazardData.info()"
   ]
  },
  {
   "cell_type": "code",
   "execution_count": 597,
   "metadata": {},
   "outputs": [
    {
     "data": {
      "text/plain": [
       "array(['Immediate', 'Within 2 Months', 'Within 1 Week',\n",
       "       'More than 1 Year', 'Within 2 Weeks', 'Within 1 Month',\n",
       "       'More than 2 Months', nan], dtype=object)"
      ]
     },
     "execution_count": 597,
     "metadata": {},
     "output_type": "execute_result"
    }
   ],
   "source": [
    "hazardData['Completion_Time_Bucket'].unique()"
   ]
  },
  {
   "cell_type": "code",
   "execution_count": 598,
   "metadata": {},
   "outputs": [],
   "source": [
    "# Drop null values from the 'Completion_Time_Bucket' column\n",
    "hazardData = hazardData.dropna(subset=['Completion_Time_Bucket'])\n"
   ]
  },
  {
   "cell_type": "code",
   "execution_count": 599,
   "metadata": {},
   "outputs": [],
   "source": [
    "### ---> Merrging the classes to make : Immediate <--- ###\n",
    "hazardData['Completion_Time_Bucket'] = hazardData['Completion_Time_Bucket'].replace(\n",
    "    {\n",
    "        'Within 1 Week': 'Immediate', \n",
    "        'Within 2 Weeks': 'Immediate'\n",
    "     }\n",
    "    )"
   ]
  },
  {
   "cell_type": "code",
   "execution_count": 600,
   "metadata": {},
   "outputs": [],
   "source": [
    "### ---> Merrging the classes to make : Within 2 Months <--- ###\n",
    "hazardData['Completion_Time_Bucket'] = hazardData['Completion_Time_Bucket'].replace(\n",
    "    {\n",
    "        'Within 2 Months':'Within 2 Months', \n",
    "        'Within 1 Month' :'Within 2 Months',\n",
    "        \n",
    "    }\n",
    ")"
   ]
  },
  {
   "cell_type": "code",
   "execution_count": 601,
   "metadata": {},
   "outputs": [],
   "source": [
    "### ---> Merging the classes to make : More than 2 Months <--- ###\n",
    "hazardData['Completion_Time_Bucket'] = hazardData['Completion_Time_Bucket'].replace(\n",
    "    {\n",
    "        'More than 2 Months':'More than 2 months',\n",
    "        'More than 1 Year':'More than 2 months',\n",
    "    }\n",
    ")"
   ]
  },
  {
   "cell_type": "code",
   "execution_count": 170,
   "metadata": {},
   "outputs": [],
   "source": [
    "### -----> Use this just for top selected class <------ ###\n",
    "\n",
    "# Define the values to be removed\n",
    "values_to_remove = ['Within 2 Months', 'Within 1 Week', 'Within 2 Weeks', 'More than 2 Months']\n",
    "\n",
    "# Remove the values from the Completion_Time_Bucket column\n",
    "hazardData = hazardData[~hazardData['Completion_Time_Bucket'].isin(values_to_remove)]\n"
   ]
  },
  {
   "cell_type": "code",
   "execution_count": 602,
   "metadata": {},
   "outputs": [
    {
     "data": {
      "text/plain": [
       "array(['Immediate', 'Within 2 Months', 'More than 2 months'], dtype=object)"
      ]
     },
     "execution_count": 602,
     "metadata": {},
     "output_type": "execute_result"
    }
   ],
   "source": [
    "hazardData['Completion_Time_Bucket'].unique()"
   ]
  },
  {
   "cell_type": "markdown",
   "metadata": {},
   "source": [
    "## Cleaning Phase"
   ]
  },
  {
   "cell_type": "code",
   "execution_count": 603,
   "metadata": {},
   "outputs": [
    {
     "name": "stdout",
     "output_type": "stream",
     "text": [
      "<class 'pandas.core.frame.DataFrame'>\n",
      "Int64Index: 13347 entries, 0 to 13346\n",
      "Data columns (total 26 columns):\n",
      " #   Column                                   Non-Null Count  Dtype  \n",
      "---  ------                                   --------------  -----  \n",
      " 0   Hazard_type                              13347 non-null  object \n",
      " 1   Hazard_identification                    13320 non-null  object \n",
      " 2   hazard_identification_score              13345 non-null  float64\n",
      " 3   action_completed_date                    6465 non-null   object \n",
      " 4   FormSubmissionDate                       13347 non-null  object \n",
      " 5   potential_risk                           13302 non-null  float64\n",
      " 6   potential_risk_score                     13341 non-null  float64\n",
      " 7   further_action_required                  13334 non-null  float64\n",
      " 8   immediate_action_required_and_performed  13338 non-null  float64\n",
      " 9   immediate_action_taken                   8322 non-null   object \n",
      " 10  recommended_action                       6590 non-null   object \n",
      " 11  immediate_action_score                   11764 non-null  float64\n",
      " 12  completed_action_score                   12958 non-null  float64\n",
      " 13  Site                                     13347 non-null  int64  \n",
      " 14  SiteLevel                                13347 non-null  int64  \n",
      " 15  Workplace                                13346 non-null  object \n",
      " 16  Duration                                 7617 non-null   float64\n",
      " 17  per_first_name                           13347 non-null  object \n",
      " 18  per_last_name                            13347 non-null  object \n",
      " 19  per_gender                               13201 non-null  float64\n",
      " 20  ReportSent                               13061 non-null  float64\n",
      " 21  Supervisor                               13347 non-null  object \n",
      " 22  Supervisor_Name                          13347 non-null  object \n",
      " 23  action_status                            13042 non-null  object \n",
      " 24  sha_enable                               13347 non-null  int64  \n",
      " 25  Completion_Time_Bucket                   13347 non-null  object \n",
      "dtypes: float64(10), int64(3), object(13)\n",
      "memory usage: 2.7+ MB\n"
     ]
    }
   ],
   "source": [
    "# -----> 1. data info <------ #\n",
    "hazardData.info()"
   ]
  },
  {
   "cell_type": "code",
   "execution_count": 604,
   "metadata": {},
   "outputs": [
    {
     "data": {
      "text/plain": [
       "23"
      ]
     },
     "execution_count": 604,
     "metadata": {},
     "output_type": "execute_result"
    }
   ],
   "source": [
    "### ------>  Dropping the Duplicate and unnecessary columns <----- ###\n",
    "\n",
    "# Drop columns from the DataFrame\n",
    "#columns_to_drop = ['immediate_action_taken.1','recommended_action.1','Duration','Supervisor']\n",
    "columns_to_drop = ['Duration','Supervisor']\n",
    "hazardData.drop(columns=columns_to_drop, inplace=True)\n",
    "\n",
    "# Checking for duplicate values\n",
    "hazardData.duplicated().sum()"
   ]
  },
  {
   "cell_type": "code",
   "execution_count": 605,
   "metadata": {},
   "outputs": [
    {
     "data": {
      "text/html": [
       "<div>\n",
       "<style scoped>\n",
       "    .dataframe tbody tr th:only-of-type {\n",
       "        vertical-align: middle;\n",
       "    }\n",
       "\n",
       "    .dataframe tbody tr th {\n",
       "        vertical-align: top;\n",
       "    }\n",
       "\n",
       "    .dataframe thead th {\n",
       "        text-align: right;\n",
       "    }\n",
       "</style>\n",
       "<table border=\"1\" class=\"dataframe\">\n",
       "  <thead>\n",
       "    <tr style=\"text-align: right;\">\n",
       "      <th></th>\n",
       "      <th>Hazard_type</th>\n",
       "      <th>Hazard_identification</th>\n",
       "      <th>hazard_identification_score</th>\n",
       "      <th>action_completed_date</th>\n",
       "      <th>FormSubmissionDate</th>\n",
       "      <th>potential_risk</th>\n",
       "      <th>potential_risk_score</th>\n",
       "      <th>further_action_required</th>\n",
       "      <th>immediate_action_required_and_performed</th>\n",
       "      <th>immediate_action_taken</th>\n",
       "      <th>...</th>\n",
       "      <th>SiteLevel</th>\n",
       "      <th>Workplace</th>\n",
       "      <th>per_first_name</th>\n",
       "      <th>per_last_name</th>\n",
       "      <th>per_gender</th>\n",
       "      <th>ReportSent</th>\n",
       "      <th>Supervisor_Name</th>\n",
       "      <th>action_status</th>\n",
       "      <th>sha_enable</th>\n",
       "      <th>Completion_Time_Bucket</th>\n",
       "    </tr>\n",
       "  </thead>\n",
       "  <tbody>\n",
       "    <tr>\n",
       "      <th>0</th>\n",
       "      <td>Near Miss</td>\n",
       "      <td>Water</td>\n",
       "      <td>4.0</td>\n",
       "      <td>5/21/2017</td>\n",
       "      <td>2017-05-26T04:00:00.000Z</td>\n",
       "      <td>2201.0</td>\n",
       "      <td>5.0</td>\n",
       "      <td>0.0</td>\n",
       "      <td>1.0</td>\n",
       "      <td>Turn off water valve</td>\n",
       "      <td>...</td>\n",
       "      <td>4331</td>\n",
       "      <td>1860 up ramp</td>\n",
       "      <td>Sean</td>\n",
       "      <td>Thibert</td>\n",
       "      <td>6454.0</td>\n",
       "      <td>2.0</td>\n",
       "      <td>Sean Thibert</td>\n",
       "      <td>COMPLETE</td>\n",
       "      <td>1</td>\n",
       "      <td>Immediate</td>\n",
       "    </tr>\n",
       "    <tr>\n",
       "      <th>1</th>\n",
       "      <td>Stop &amp; Correct</td>\n",
       "      <td>Working at Heights</td>\n",
       "      <td>3.0</td>\n",
       "      <td>6/30/2017</td>\n",
       "      <td>2017-05-28T04:00:00.000Z</td>\n",
       "      <td>2199.0</td>\n",
       "      <td>1.0</td>\n",
       "      <td>0.0</td>\n",
       "      <td>0.0</td>\n",
       "      <td>NaN</td>\n",
       "      <td>...</td>\n",
       "      <td>4320</td>\n",
       "      <td>Nickel Rim South</td>\n",
       "      <td>Curtis</td>\n",
       "      <td>Giroux</td>\n",
       "      <td>6454.0</td>\n",
       "      <td>2.0</td>\n",
       "      <td>Curtis Giroux</td>\n",
       "      <td>COMPLETE</td>\n",
       "      <td>1</td>\n",
       "      <td>Within 2 Months</td>\n",
       "    </tr>\n",
       "    <tr>\n",
       "      <th>2</th>\n",
       "      <td>Unsafe Act</td>\n",
       "      <td>Energy Sources</td>\n",
       "      <td>4.0</td>\n",
       "      <td>5/29/2017</td>\n",
       "      <td>2017-05-28T04:00:00.000Z</td>\n",
       "      <td>2201.0</td>\n",
       "      <td>5.0</td>\n",
       "      <td>1.0</td>\n",
       "      <td>1.0</td>\n",
       "      <td>Stopped work and had employee lock out.</td>\n",
       "      <td>...</td>\n",
       "      <td>4324</td>\n",
       "      <td>Shop, 1780L, 1820L, and Ramp</td>\n",
       "      <td>Bradley</td>\n",
       "      <td>Hofford</td>\n",
       "      <td>6454.0</td>\n",
       "      <td>2.0</td>\n",
       "      <td>Bradley Hofford</td>\n",
       "      <td>COMPLETE</td>\n",
       "      <td>1</td>\n",
       "      <td>Immediate</td>\n",
       "    </tr>\n",
       "    <tr>\n",
       "      <th>3</th>\n",
       "      <td>Unsafe Condition</td>\n",
       "      <td>Housekeeping</td>\n",
       "      <td>3.0</td>\n",
       "      <td>NaN</td>\n",
       "      <td>2017-05-28T04:00:00.000Z</td>\n",
       "      <td>2199.0</td>\n",
       "      <td>1.0</td>\n",
       "      <td>0.0</td>\n",
       "      <td>1.0</td>\n",
       "      <td>Informed Pierre B and Curtis G of the hazard a...</td>\n",
       "      <td>...</td>\n",
       "      <td>4324</td>\n",
       "      <td>Shop, 1780L, 1820L, and Ramp</td>\n",
       "      <td>Bradley</td>\n",
       "      <td>Hofford</td>\n",
       "      <td>6454.0</td>\n",
       "      <td>2.0</td>\n",
       "      <td>Bradley Hofford</td>\n",
       "      <td>Complete</td>\n",
       "      <td>1</td>\n",
       "      <td>More than 2 months</td>\n",
       "    </tr>\n",
       "    <tr>\n",
       "      <th>4</th>\n",
       "      <td>Unsafe Condition</td>\n",
       "      <td>Housekeeping</td>\n",
       "      <td>3.0</td>\n",
       "      <td>06/01/17</td>\n",
       "      <td>2017-05-28T04:00:00.000Z</td>\n",
       "      <td>2199.0</td>\n",
       "      <td>1.0</td>\n",
       "      <td>1.0</td>\n",
       "      <td>1.0</td>\n",
       "      <td>Informed Pierre B and Curtis G of the housekee...</td>\n",
       "      <td>...</td>\n",
       "      <td>4329</td>\n",
       "      <td>NRD ramp from top to 1820L</td>\n",
       "      <td>Bradley</td>\n",
       "      <td>Hofford</td>\n",
       "      <td>6454.0</td>\n",
       "      <td>2.0</td>\n",
       "      <td>Bradley Hofford</td>\n",
       "      <td>COMPLETE</td>\n",
       "      <td>1</td>\n",
       "      <td>Immediate</td>\n",
       "    </tr>\n",
       "  </tbody>\n",
       "</table>\n",
       "<p>5 rows × 24 columns</p>\n",
       "</div>"
      ],
      "text/plain": [
       "        Hazard_type Hazard_identification  hazard_identification_score  \\\n",
       "0         Near Miss                 Water                          4.0   \n",
       "1    Stop & Correct    Working at Heights                          3.0   \n",
       "2        Unsafe Act        Energy Sources                          4.0   \n",
       "3  Unsafe Condition          Housekeeping                          3.0   \n",
       "4  Unsafe Condition          Housekeeping                          3.0   \n",
       "\n",
       "  action_completed_date        FormSubmissionDate  potential_risk  \\\n",
       "0             5/21/2017  2017-05-26T04:00:00.000Z          2201.0   \n",
       "1             6/30/2017  2017-05-28T04:00:00.000Z          2199.0   \n",
       "2             5/29/2017  2017-05-28T04:00:00.000Z          2201.0   \n",
       "3                   NaN  2017-05-28T04:00:00.000Z          2199.0   \n",
       "4              06/01/17  2017-05-28T04:00:00.000Z          2199.0   \n",
       "\n",
       "   potential_risk_score  further_action_required  \\\n",
       "0                   5.0                      0.0   \n",
       "1                   1.0                      0.0   \n",
       "2                   5.0                      1.0   \n",
       "3                   1.0                      0.0   \n",
       "4                   1.0                      1.0   \n",
       "\n",
       "   immediate_action_required_and_performed  \\\n",
       "0                                      1.0   \n",
       "1                                      0.0   \n",
       "2                                      1.0   \n",
       "3                                      1.0   \n",
       "4                                      1.0   \n",
       "\n",
       "                              immediate_action_taken  ... SiteLevel  \\\n",
       "0                               Turn off water valve  ...      4331   \n",
       "1                                                NaN  ...      4320   \n",
       "2            Stopped work and had employee lock out.  ...      4324   \n",
       "3  Informed Pierre B and Curtis G of the hazard a...  ...      4324   \n",
       "4  Informed Pierre B and Curtis G of the housekee...  ...      4329   \n",
       "\n",
       "                      Workplace  per_first_name  per_last_name  per_gender  \\\n",
       "0                  1860 up ramp            Sean        Thibert      6454.0   \n",
       "1              Nickel Rim South          Curtis         Giroux      6454.0   \n",
       "2  Shop, 1780L, 1820L, and Ramp         Bradley        Hofford      6454.0   \n",
       "3  Shop, 1780L, 1820L, and Ramp         Bradley        Hofford      6454.0   \n",
       "4    NRD ramp from top to 1820L         Bradley        Hofford      6454.0   \n",
       "\n",
       "  ReportSent  Supervisor_Name action_status  sha_enable  \\\n",
       "0        2.0     Sean Thibert      COMPLETE           1   \n",
       "1        2.0    Curtis Giroux      COMPLETE           1   \n",
       "2        2.0  Bradley Hofford      COMPLETE           1   \n",
       "3        2.0  Bradley Hofford      Complete           1   \n",
       "4        2.0  Bradley Hofford      COMPLETE           1   \n",
       "\n",
       "   Completion_Time_Bucket  \n",
       "0               Immediate  \n",
       "1         Within 2 Months  \n",
       "2               Immediate  \n",
       "3      More than 2 months  \n",
       "4               Immediate  \n",
       "\n",
       "[5 rows x 24 columns]"
      ]
     },
     "execution_count": 605,
     "metadata": {},
     "output_type": "execute_result"
    }
   ],
   "source": [
    "hazardData = hazardData.drop_duplicates()\n",
    "hazardData.head(5)"
   ]
  },
  {
   "cell_type": "code",
   "execution_count": 606,
   "metadata": {},
   "outputs": [
    {
     "name": "stdout",
     "output_type": "stream",
     "text": [
      "Not Specified                                                                                                                                                                                                 5012\n",
      "Yes                                                                                                                                                                                                             41\n",
      "Yes                                                                                                                                                                                                             18\n",
      " test immediate action taken                                                                                                                                                                                    17\n",
      "Selenium test immediate action taken                                                                                                                                                                            14\n",
      "                                                                                                                                                                                                              ... \n",
      "Covered as much as possible in line up and got crew to come back after the warm room meeting to complete line up and review some JHA hazards as well as discussed MOL visits coming up and past incidents.       1\n",
      "Protruding screen removed with bolt cutters.                                                                                                                                                                     1\n",
      "Chargers moved to flat area next to fridge and microwave on table. And other items moved to bottom shelf.                                                                                                        1\n",
      "Discussion / Mentoring                                                                                                                                                                                           1\n",
      "Left a message to warn people                                                                                                                                                                                    1\n",
      "Name: immediate_action_taken, Length: 7933, dtype: int64\n",
      "Not Specified                                                                         6748\n",
      " test recommended action taken                                                          34\n",
      "Selenium test recommended action taken                                                  28\n",
      "Testing                                                                                 25\n",
      "Do something                                                                             8\n",
      "                                                                                      ... \n",
      "Rehab 335 remuch walls   6 or 7 screen required                                          1\n",
      "Replace 2 inch discharge pipe with 4 inch.  Add tees and valves for line cleanout.       1\n",
      "Organize equipment in the yard to be sent back to the shop                               1\n",
      "Have Glencore muck out the area and spread ballast.                                      1\n",
      "Fix the table                                                                            1\n",
      "Name: recommended_action, Length: 6389, dtype: int64\n"
     ]
    }
   ],
   "source": [
    "### ------> instead of dropping the null values we are replacing with 'Not Specified' <------- ###   \n",
    "\n",
    "import pandas as pd\n",
    "\n",
    "# Replace NaN values in 'immediate_action_taken' column with 'Not Specified'\n",
    "hazardData['immediate_action_taken'].fillna('Not Specified', inplace=True)\n",
    "\n",
    "# Verify the changes\n",
    "print(hazardData['immediate_action_taken'].value_counts())\n",
    "\n",
    "# ---------------------------------------------------------------------------------- #\n",
    "\n",
    "# Replace NaN values in 'recommended_action' column with 'Not Specified'\n",
    "hazardData['recommended_action'].fillna('Not Specified', inplace=True)\n",
    "\n",
    "# Verify the changes\n",
    "print(hazardData['recommended_action'].value_counts())"
   ]
  },
  {
   "cell_type": "code",
   "execution_count": 531,
   "metadata": {},
   "outputs": [
    {
     "ename": "KeyError",
     "evalue": "\"['Duration'] not found in axis\"",
     "output_type": "error",
     "traceback": [
      "\u001b[0;31m---------------------------------------------------------------------------\u001b[0m",
      "\u001b[0;31mKeyError\u001b[0m                                  Traceback (most recent call last)",
      "\u001b[1;32m/Users/pratik_4511/Desktop/Northeastern University /Quarter_5A:B/Capstone/CapstoneProject.ipynb Cell 18\u001b[0m in \u001b[0;36m<cell line: 5>\u001b[0;34m()\u001b[0m\n\u001b[1;32m      <a href='vscode-notebook-cell:/Users/pratik_4511/Desktop/Northeastern%20University%20/Quarter_5A%3AB/Capstone/CapstoneProject.ipynb#ch0000085?line=2'>3</a>\u001b[0m columns_to_drop2 \u001b[39m=\u001b[39m [\u001b[39m'\u001b[39m\u001b[39mper_gender\u001b[39m\u001b[39m'\u001b[39m,\u001b[39m'\u001b[39m\u001b[39maction_status\u001b[39m\u001b[39m'\u001b[39m,\u001b[39m'\u001b[39m\u001b[39mDuration\u001b[39m\u001b[39m'\u001b[39m]\n\u001b[1;32m      <a href='vscode-notebook-cell:/Users/pratik_4511/Desktop/Northeastern%20University%20/Quarter_5A%3AB/Capstone/CapstoneProject.ipynb#ch0000085?line=3'>4</a>\u001b[0m \u001b[39m#columns_to_drop2 = ['action_completed_date']\u001b[39;00m\n\u001b[0;32m----> <a href='vscode-notebook-cell:/Users/pratik_4511/Desktop/Northeastern%20University%20/Quarter_5A%3AB/Capstone/CapstoneProject.ipynb#ch0000085?line=4'>5</a>\u001b[0m hazardData\u001b[39m.\u001b[39;49mdrop(columns\u001b[39m=\u001b[39;49mcolumns_to_drop2, inplace\u001b[39m=\u001b[39;49m\u001b[39mTrue\u001b[39;49;00m)\n",
      "File \u001b[0;32m/Library/Frameworks/Python.framework/Versions/3.10/lib/python3.10/site-packages/pandas/util/_decorators.py:311\u001b[0m, in \u001b[0;36mdeprecate_nonkeyword_arguments.<locals>.decorate.<locals>.wrapper\u001b[0;34m(*args, **kwargs)\u001b[0m\n\u001b[1;32m    305\u001b[0m \u001b[39mif\u001b[39;00m \u001b[39mlen\u001b[39m(args) \u001b[39m>\u001b[39m num_allow_args:\n\u001b[1;32m    306\u001b[0m     warnings\u001b[39m.\u001b[39mwarn(\n\u001b[1;32m    307\u001b[0m         msg\u001b[39m.\u001b[39mformat(arguments\u001b[39m=\u001b[39marguments),\n\u001b[1;32m    308\u001b[0m         \u001b[39mFutureWarning\u001b[39;00m,\n\u001b[1;32m    309\u001b[0m         stacklevel\u001b[39m=\u001b[39mstacklevel,\n\u001b[1;32m    310\u001b[0m     )\n\u001b[0;32m--> 311\u001b[0m \u001b[39mreturn\u001b[39;00m func(\u001b[39m*\u001b[39;49margs, \u001b[39m*\u001b[39;49m\u001b[39m*\u001b[39;49mkwargs)\n",
      "File \u001b[0;32m/Library/Frameworks/Python.framework/Versions/3.10/lib/python3.10/site-packages/pandas/core/frame.py:4954\u001b[0m, in \u001b[0;36mDataFrame.drop\u001b[0;34m(self, labels, axis, index, columns, level, inplace, errors)\u001b[0m\n\u001b[1;32m   4806\u001b[0m \u001b[39m@deprecate_nonkeyword_arguments\u001b[39m(version\u001b[39m=\u001b[39m\u001b[39mNone\u001b[39;00m, allowed_args\u001b[39m=\u001b[39m[\u001b[39m\"\u001b[39m\u001b[39mself\u001b[39m\u001b[39m\"\u001b[39m, \u001b[39m\"\u001b[39m\u001b[39mlabels\u001b[39m\u001b[39m\"\u001b[39m])\n\u001b[1;32m   4807\u001b[0m \u001b[39mdef\u001b[39;00m \u001b[39mdrop\u001b[39m(\n\u001b[1;32m   4808\u001b[0m     \u001b[39mself\u001b[39m,\n\u001b[0;32m   (...)\u001b[0m\n\u001b[1;32m   4815\u001b[0m     errors: \u001b[39mstr\u001b[39m \u001b[39m=\u001b[39m \u001b[39m\"\u001b[39m\u001b[39mraise\u001b[39m\u001b[39m\"\u001b[39m,\n\u001b[1;32m   4816\u001b[0m ):\n\u001b[1;32m   4817\u001b[0m     \u001b[39m\"\"\"\u001b[39;00m\n\u001b[1;32m   4818\u001b[0m \u001b[39m    Drop specified labels from rows or columns.\u001b[39;00m\n\u001b[1;32m   4819\u001b[0m \n\u001b[0;32m   (...)\u001b[0m\n\u001b[1;32m   4952\u001b[0m \u001b[39m            weight  1.0     0.8\u001b[39;00m\n\u001b[1;32m   4953\u001b[0m \u001b[39m    \"\"\"\u001b[39;00m\n\u001b[0;32m-> 4954\u001b[0m     \u001b[39mreturn\u001b[39;00m \u001b[39msuper\u001b[39;49m()\u001b[39m.\u001b[39;49mdrop(\n\u001b[1;32m   4955\u001b[0m         labels\u001b[39m=\u001b[39;49mlabels,\n\u001b[1;32m   4956\u001b[0m         axis\u001b[39m=\u001b[39;49maxis,\n\u001b[1;32m   4957\u001b[0m         index\u001b[39m=\u001b[39;49mindex,\n\u001b[1;32m   4958\u001b[0m         columns\u001b[39m=\u001b[39;49mcolumns,\n\u001b[1;32m   4959\u001b[0m         level\u001b[39m=\u001b[39;49mlevel,\n\u001b[1;32m   4960\u001b[0m         inplace\u001b[39m=\u001b[39;49minplace,\n\u001b[1;32m   4961\u001b[0m         errors\u001b[39m=\u001b[39;49merrors,\n\u001b[1;32m   4962\u001b[0m     )\n",
      "File \u001b[0;32m/Library/Frameworks/Python.framework/Versions/3.10/lib/python3.10/site-packages/pandas/core/generic.py:4267\u001b[0m, in \u001b[0;36mNDFrame.drop\u001b[0;34m(self, labels, axis, index, columns, level, inplace, errors)\u001b[0m\n\u001b[1;32m   4265\u001b[0m \u001b[39mfor\u001b[39;00m axis, labels \u001b[39min\u001b[39;00m axes\u001b[39m.\u001b[39mitems():\n\u001b[1;32m   4266\u001b[0m     \u001b[39mif\u001b[39;00m labels \u001b[39mis\u001b[39;00m \u001b[39mnot\u001b[39;00m \u001b[39mNone\u001b[39;00m:\n\u001b[0;32m-> 4267\u001b[0m         obj \u001b[39m=\u001b[39m obj\u001b[39m.\u001b[39;49m_drop_axis(labels, axis, level\u001b[39m=\u001b[39;49mlevel, errors\u001b[39m=\u001b[39;49merrors)\n\u001b[1;32m   4269\u001b[0m \u001b[39mif\u001b[39;00m inplace:\n\u001b[1;32m   4270\u001b[0m     \u001b[39mself\u001b[39m\u001b[39m.\u001b[39m_update_inplace(obj)\n",
      "File \u001b[0;32m/Library/Frameworks/Python.framework/Versions/3.10/lib/python3.10/site-packages/pandas/core/generic.py:4311\u001b[0m, in \u001b[0;36mNDFrame._drop_axis\u001b[0;34m(self, labels, axis, level, errors, consolidate, only_slice)\u001b[0m\n\u001b[1;32m   4309\u001b[0m         new_axis \u001b[39m=\u001b[39m axis\u001b[39m.\u001b[39mdrop(labels, level\u001b[39m=\u001b[39mlevel, errors\u001b[39m=\u001b[39merrors)\n\u001b[1;32m   4310\u001b[0m     \u001b[39melse\u001b[39;00m:\n\u001b[0;32m-> 4311\u001b[0m         new_axis \u001b[39m=\u001b[39m axis\u001b[39m.\u001b[39;49mdrop(labels, errors\u001b[39m=\u001b[39;49merrors)\n\u001b[1;32m   4312\u001b[0m     indexer \u001b[39m=\u001b[39m axis\u001b[39m.\u001b[39mget_indexer(new_axis)\n\u001b[1;32m   4314\u001b[0m \u001b[39m# Case for non-unique axis\u001b[39;00m\n\u001b[1;32m   4315\u001b[0m \u001b[39melse\u001b[39;00m:\n",
      "File \u001b[0;32m/Library/Frameworks/Python.framework/Versions/3.10/lib/python3.10/site-packages/pandas/core/indexes/base.py:6644\u001b[0m, in \u001b[0;36mIndex.drop\u001b[0;34m(self, labels, errors)\u001b[0m\n\u001b[1;32m   6642\u001b[0m \u001b[39mif\u001b[39;00m mask\u001b[39m.\u001b[39many():\n\u001b[1;32m   6643\u001b[0m     \u001b[39mif\u001b[39;00m errors \u001b[39m!=\u001b[39m \u001b[39m\"\u001b[39m\u001b[39mignore\u001b[39m\u001b[39m\"\u001b[39m:\n\u001b[0;32m-> 6644\u001b[0m         \u001b[39mraise\u001b[39;00m \u001b[39mKeyError\u001b[39;00m(\u001b[39mf\u001b[39m\u001b[39m\"\u001b[39m\u001b[39m{\u001b[39;00m\u001b[39mlist\u001b[39m(labels[mask])\u001b[39m}\u001b[39;00m\u001b[39m not found in axis\u001b[39m\u001b[39m\"\u001b[39m)\n\u001b[1;32m   6645\u001b[0m     indexer \u001b[39m=\u001b[39m indexer[\u001b[39m~\u001b[39mmask]\n\u001b[1;32m   6646\u001b[0m \u001b[39mreturn\u001b[39;00m \u001b[39mself\u001b[39m\u001b[39m.\u001b[39mdelete(indexer)\n",
      "\u001b[0;31mKeyError\u001b[0m: \"['Duration'] not found in axis\""
     ]
    }
   ],
   "source": [
    "### ----> Dropping unnessary columns <----- ###\n",
    "\n",
    "columns_to_drop2 = ['per_gender','action_status','Duration']\n",
    "#columns_to_drop2 = ['action_completed_date']\n",
    "hazardData.drop(columns=columns_to_drop2, inplace=True)"
   ]
  },
  {
   "cell_type": "code",
   "execution_count": 607,
   "metadata": {},
   "outputs": [
    {
     "name": "stdout",
     "output_type": "stream",
     "text": [
      "Check duplicates:\n",
      " 0 \n",
      "\n",
      "Check missing values:\n",
      " Hazard_type                                   0\n",
      "Hazard_identification                        27\n",
      "hazard_identification_score                   2\n",
      "action_completed_date                      6864\n",
      "FormSubmissionDate                            0\n",
      "potential_risk                               45\n",
      "potential_risk_score                          6\n",
      "further_action_required                      13\n",
      "immediate_action_required_and_performed       9\n",
      "immediate_action_taken                        0\n",
      "recommended_action                            0\n",
      "immediate_action_score                     1579\n",
      "completed_action_score                      386\n",
      "Site                                          0\n",
      "SiteLevel                                     0\n",
      "Workplace                                     1\n",
      "per_first_name                                0\n",
      "per_last_name                                 0\n",
      "per_gender                                  142\n",
      "ReportSent                                  286\n",
      "Supervisor_Name                               0\n",
      "action_status                               302\n",
      "sha_enable                                    0\n",
      "Completion_Time_Bucket                        0\n",
      "dtype: int64 \n",
      "\n",
      "Missing data:\n",
      "                                     Feature  Missing Values  \\\n",
      "0                     Hazard_identification              27   \n",
      "1               hazard_identification_score               2   \n",
      "2                     action_completed_date            6864   \n",
      "3                            potential_risk              45   \n",
      "4                      potential_risk_score               6   \n",
      "5                   further_action_required              13   \n",
      "6   immediate_action_required_and_performed               9   \n",
      "7                    immediate_action_score            1579   \n",
      "8                    completed_action_score             386   \n",
      "9                                 Workplace               1   \n",
      "10                               per_gender             142   \n",
      "11                               ReportSent             286   \n",
      "12                            action_status             302   \n",
      "\n",
      "    Percentage of Missing Values  \n",
      "0                           0.20  \n",
      "1                           0.02  \n",
      "2                          51.52  \n",
      "3                           0.34  \n",
      "4                           0.05  \n",
      "5                           0.10  \n",
      "6                           0.07  \n",
      "7                          11.85  \n",
      "8                           2.90  \n",
      "9                           0.01  \n",
      "10                          1.07  \n",
      "11                          2.15  \n",
      "12                          2.27   \n",
      "\n"
     ]
    },
    {
     "data": {
      "image/png": "[encoded data removed]",
      "text/plain": [
       "<Figure size 864x576 with 1 Axes>"
      ]
     },
     "metadata": {
      "needs_background": "light"
     },
     "output_type": "display_data"
    }
   ],
   "source": [
    "### -----> Dealing with Duplicates <------ ###\n",
    "\n",
    "\n",
    "def missing_data(df):\n",
    "    print(\"Check duplicates:\\n\", df.duplicated().sum(), \"\\n\")\n",
    "    print(\"Check missing values:\\n\", df.isna().sum(), \"\\n\")\n",
    "    \n",
    "    # Analyzing missing data\n",
    "    missing_data = df.isnull().sum().reset_index()\n",
    "    missing_data.columns = ['Feature', 'Missing Values']\n",
    "    missing_data = missing_data[missing_data['Missing Values'] > 0].reset_index(drop=True)\n",
    "    missing_data['Percentage of Missing Values'] = round((missing_data['Missing Values'] / len(df)) * 100, 2)\n",
    "    print(\"Missing data:\\n\", missing_data, \"\\n\")\n",
    "    \n",
    "    # Plot missing data\n",
    "    fig, ax = plt.subplots(figsize=(12, 8))\n",
    "    colors = sns.color_palette(\"Blues\", len(missing_data))\n",
    "    sns.barplot(x='Feature', y='Percentage of Missing Values', data=missing_data, ax=ax, palette=colors)\n",
    "    ax.set_ylim(0, 100)\n",
    "    ax.set_title('Distribution of Missing Values', fontsize=16)\n",
    "    ax.set_xlabel('Features', fontsize=12)\n",
    "    ax.set_ylabel('Percentage of Missing Values', fontsize=12)\n",
    "    \n",
    "    # Add percentage labels to the bars\n",
    "    for i, bar in enumerate(ax.patches):\n",
    "        height = bar.get_height()\n",
    "        ax.text(bar.get_x() + bar.get_width() / 2, height + 1,\n",
    "                f\"{missing_data['Percentage of Missing Values'].values[i]}%\",\n",
    "                ha='center', va='bottom', fontsize=10)\n",
    "\n",
    "    plt.xticks(rotation=90)\n",
    "    plt.tight_layout()\n",
    "    plt.show()\n",
    "\n",
    "missing_data(hazardData)"
   ]
  },
  {
   "cell_type": "code",
   "execution_count": 608,
   "metadata": {},
   "outputs": [],
   "source": [
    "### ---> Dropping the NULL valeus <--- ###\n",
    "\n",
    "hazardData = hazardData.dropna(subset=['Hazard_identification', 'potential_risk','potential_risk_score','further_action_required',\n",
    "                                       'completed_action_score','Workplace','ReportSent','action_completed_date', 'immediate_action_score','action_status'])\n"
   ]
  },
  {
   "cell_type": "code",
   "execution_count": 609,
   "metadata": {},
   "outputs": [
    {
     "name": "stdout",
     "output_type": "stream",
     "text": [
      "<class 'pandas.core.frame.DataFrame'>\n",
      "Int64Index: 4676 entries, 0 to 13339\n",
      "Data columns (total 24 columns):\n",
      " #   Column                                   Non-Null Count  Dtype  \n",
      "---  ------                                   --------------  -----  \n",
      " 0   Hazard_type                              4676 non-null   object \n",
      " 1   Hazard_identification                    4676 non-null   object \n",
      " 2   hazard_identification_score              4676 non-null   float64\n",
      " 3   action_completed_date                    4676 non-null   object \n",
      " 4   FormSubmissionDate                       4676 non-null   object \n",
      " 5   potential_risk                           4676 non-null   float64\n",
      " 6   potential_risk_score                     4676 non-null   float64\n",
      " 7   further_action_required                  4676 non-null   float64\n",
      " 8   immediate_action_required_and_performed  4676 non-null   float64\n",
      " 9   immediate_action_taken                   4676 non-null   object \n",
      " 10  recommended_action                       4676 non-null   object \n",
      " 11  immediate_action_score                   4676 non-null   float64\n",
      " 12  completed_action_score                   4676 non-null   float64\n",
      " 13  Site                                     4676 non-null   int64  \n",
      " 14  SiteLevel                                4676 non-null   int64  \n",
      " 15  Workplace                                4676 non-null   object \n",
      " 16  per_first_name                           4676 non-null   object \n",
      " 17  per_last_name                            4676 non-null   object \n",
      " 18  per_gender                               4643 non-null   float64\n",
      " 19  ReportSent                               4676 non-null   float64\n",
      " 20  Supervisor_Name                          4676 non-null   object \n",
      " 21  action_status                            4676 non-null   object \n",
      " 22  sha_enable                               4676 non-null   int64  \n",
      " 23  Completion_Time_Bucket                   4676 non-null   object \n",
      "dtypes: float64(9), int64(3), object(12)\n",
      "memory usage: 913.3+ KB\n"
     ]
    }
   ],
   "source": [
    "hazardData.info()"
   ]
  },
  {
   "cell_type": "code",
   "execution_count": 610,
   "metadata": {},
   "outputs": [
    {
     "name": "stdout",
     "output_type": "stream",
     "text": [
      "Male      4581\n",
      "Female      62\n",
      "Name: per_gender, dtype: int64\n",
      "Null values :  33\n"
     ]
    },
    {
     "data": {
      "text/plain": [
       "(4643, 24)"
      ]
     },
     "execution_count": 610,
     "metadata": {},
     "output_type": "execute_result"
    }
   ],
   "source": [
    "### ----> Assigning the values to MALE/FEMALE <---- ###\n",
    "\n",
    "# Replace values in 'per_gender' column\n",
    "hazardData['per_gender'] = hazardData['per_gender'].replace({6454.0: 'Male', 8610.0: 'Female'})\n",
    "\n",
    "# Verify the updated DataFrame\n",
    "print(hazardData['per_gender'].value_counts())\n",
    "\n",
    "print(\"Null values : \",hazardData['per_gender'].isnull().sum())\n",
    "\n",
    "# Drop rows with null values in 'per_gender' column\n",
    "hazardData.dropna(subset=['per_gender'], inplace=True)\n",
    "\n",
    "# Drop rows with null values in 'immediate_action_score' column\n",
    "hazardData.dropna(subset=['immediate_action_score'], inplace=True)\n",
    "\n",
    "hazardData.shape\n",
    "\n",
    "#-------------------------------------------------------------#\n",
    "\n",
    "### ----> Making the 'action_status' in Lower case <---- ###\n",
    "\n",
    "# Convert 'action_status' values to lowercase\n",
    "#hazardData['action_status'] = hazardData['action_status'].str.lower()\n",
    "\n",
    "# Verify the updated DataFrame\n",
    "#print(hazardData['action_status'].value_counts())"
   ]
  },
  {
   "cell_type": "markdown",
   "metadata": {},
   "source": [
    "## Visualization"
   ]
  },
  {
   "cell_type": "code",
   "execution_count": 392,
   "metadata": {},
   "outputs": [
    {
     "data": {
      "image/png": "[encoded data removed]",
      "text/plain": [
       "<Figure size 1440x576 with 1 Axes>"
      ]
     },
     "metadata": {
      "needs_background": "light"
     },
     "output_type": "display_data"
    }
   ],
   "source": [
    "#1 \n",
    "\n",
    "# Bar chart for count of hazards based on Hazard Type\n",
    "plt.figure(figsize=(20, 8))\n",
    "ax = sns.countplot(x='Hazard_type', data=hazardData)\n",
    "\n",
    "# Add values on top of each bar\n",
    "for p in ax.patches:\n",
    "    ax.annotate(format(p.get_height(), '.0f'),\n",
    "                (p.get_x() + p.get_width() / 2., p.get_height()),\n",
    "                ha='center', va='center', xytext=(0, 5),\n",
    "                textcoords='offset points', fontsize=12)\n",
    "\n",
    "plt.title('Count of Hazards by Hazard Type')\n",
    "plt.show()"
   ]
  },
  {
   "cell_type": "code",
   "execution_count": 537,
   "metadata": {},
   "outputs": [
    {
     "data": {
      "image/png": "[encoded data removed]",
      "text/plain": [
       "<Figure size 1080x432 with 1 Axes>"
      ]
     },
     "metadata": {
      "needs_background": "light"
     },
     "output_type": "display_data"
    }
   ],
   "source": [
    "# Bar chart for count of hazards based on Completion_Time_Bucket\n",
    "plt.figure(figsize=(15, 6))\n",
    "ax = sns.countplot(x='Completion_Time_Bucket', data=hazardData)\n",
    "\n",
    "# Add values on top of each bar\n",
    "for p in ax.patches:\n",
    "    ax.annotate(format(p.get_height(), '.0f'),\n",
    "                (p.get_x() + p.get_width() / 2., p.get_height()),\n",
    "                ha='center', va='center', xytext=(0, 5),\n",
    "                textcoords='offset points', fontsize=12)\n",
    "\n",
    "plt.title('Count of Hazards by Completion Time Bucket')\n",
    "plt.show()"
   ]
  },
  {
   "cell_type": "code",
   "execution_count": 194,
   "metadata": {},
   "outputs": [
    {
     "data": {
      "image/png": "[encoded data removed]",
      "text/plain": [
       "<Figure size 576x432 with 1 Axes>"
      ]
     },
     "metadata": {
      "needs_background": "light"
     },
     "output_type": "display_data"
    }
   ],
   "source": [
    "# Box plot for hazard score distribution based on Hazard_type\n",
    "plt.figure(figsize=(8,6))\n",
    "sns.boxplot(x='Hazard_type', y='hazard_identification_score', data=hazardData)\n",
    "plt.title('Hazard Score Distribution by Hazard Type')\n",
    "plt.xticks(rotation=90)\n",
    "plt.show()"
   ]
  },
  {
   "cell_type": "code",
   "execution_count": 226,
   "metadata": {},
   "outputs": [
    {
     "data": {
      "image/png": "[encoded data removed]",
      "text/plain": [
       "<Figure size 504x288 with 1 Axes>"
      ]
     },
     "metadata": {
      "needs_background": "light"
     },
     "output_type": "display_data"
    }
   ],
   "source": [
    "# Histogram for immediate_action_score\n",
    "plt.figure(figsize=(7,4))\n",
    "sns.histplot(data=hazardData, x='immediate_action_score', kde=True)\n",
    "plt.title('Distribution of Immediate Action Score')\n",
    "plt.show()"
   ]
  },
  {
   "cell_type": "code",
   "execution_count": 324,
   "metadata": {},
   "outputs": [
    {
     "name": "stderr",
     "output_type": "stream",
     "text": [
      "No artists with labels found to put in legend.  Note that artists whose label start with an underscore are ignored when legend() is called with no argument.\n"
     ]
    },
    {
     "data": {
      "image/png": "[encoded data removed]",
      "text/plain": [
       "<Figure size 720x432 with 3 Axes>"
      ]
     },
     "metadata": {
      "needs_background": "light"
     },
     "output_type": "display_data"
    }
   ],
   "source": [
    "\n",
    "# Prepare the data for the bar chart\n",
    "bar_data = hazardData['Hazard_identification'].value_counts().sort_index()\n",
    "\n",
    "# Prepare the data for the line chart\n",
    "line_data = hazardData.groupby('Hazard_identification')['immediate_action_required_and_performed'].mean().sort_index()\n",
    "\n",
    "# Create the combination graph\n",
    "fig, ax1 = plt.subplots(figsize=(10, 6))  # Adjust the figure size as needed\n",
    "\n",
    "# Bar chart\n",
    "bar_data.plot(kind='bar', color='steelblue', alpha=0.7, label='Hazard Identification', ax=ax1)\n",
    "ax1.set_ylabel('Count')\n",
    "ax1.tick_params(axis='y')\n",
    "ax1.legend(loc='upper left')\n",
    "\n",
    "# Line chart\n",
    "ax2 = ax1.twinx()\n",
    "line_data.plot(secondary_y=True, color='darkorange', linestyle='--', marker='o', label='Avg. Immediate Action Required', ax=ax2)\n",
    "ax2.set_ylabel('Average Immediate Action Required')\n",
    "ax2.tick_params(axis='y')\n",
    "ax2.legend(loc='upper right')\n",
    "\n",
    "# Customize the graph\n",
    "plt.title('Hazard Identification and Average Immediate Action Required')\n",
    "plt.xlabel('Hazard Identification')\n",
    "plt.xticks(rotation=45)\n",
    "plt.grid(axis='y', linestyle='--')\n",
    "plt.tight_layout()\n",
    "\n",
    "plt.show()"
   ]
  },
  {
   "cell_type": "code",
   "execution_count": 325,
   "metadata": {},
   "outputs": [
    {
     "name": "stderr",
     "output_type": "stream",
     "text": [
      "No artists with labels found to put in legend.  Note that artists whose label start with an underscore are ignored when legend() is called with no argument.\n"
     ]
    },
    {
     "data": {
      "image/png": "[encoded data removed]",
      "text/plain": [
       "<Figure size 720x432 with 3 Axes>"
      ]
     },
     "metadata": {
      "needs_background": "light"
     },
     "output_type": "display_data"
    }
   ],
   "source": [
    "#5\n",
    "\n",
    "# Prepare the data for the bar chart\n",
    "bar_data = hazardData['Hazard_type'].value_counts().sort_values(ascending=False)\n",
    "\n",
    "# Prepare the data for the line chart\n",
    "line_data = hazardData.groupby('Hazard_type')['potential_risk'].mean().sort_values(ascending=False)\n",
    "\n",
    "# Create the combination graph\n",
    "fig, ax1 = plt.subplots(figsize=(10, 6))  # Adjust the figure size as needed\n",
    "\n",
    "# Bar chart\n",
    "bar_data.plot(kind='bar', color='steelblue', alpha=0.7, label='Hazard Type', ax=ax1)\n",
    "ax1.set_ylabel('Count')\n",
    "ax1.tick_params(axis='y')\n",
    "ax1.legend(loc='upper left')\n",
    "\n",
    "# Line chart\n",
    "ax2 = ax1.twinx()\n",
    "line_data.plot(secondary_y=True, color='darkorange', linestyle='--', marker='o', label='Average Potential Risk', ax=ax2)\n",
    "ax2.set_ylabel('Average Potential Risk')\n",
    "ax2.tick_params(axis='y')\n",
    "ax2.legend(loc='upper right')\n",
    "\n",
    "# Customize the graph\n",
    "plt.title('Hazard Type and Average Potential Risk')\n",
    "plt.xlabel('Hazard Type')\n",
    "plt.xticks(rotation=45)\n",
    "plt.grid(axis='y', linestyle='--')\n",
    "plt.tight_layout()\n",
    "\n",
    "plt.show()"
   ]
  },
  {
   "cell_type": "markdown",
   "metadata": {},
   "source": [
    "## Preparing for Machine Learning Model"
   ]
  },
  {
   "cell_type": "code",
   "execution_count": 611,
   "metadata": {},
   "outputs": [
    {
     "name": "stdout",
     "output_type": "stream",
     "text": [
      "Hazard_type                  6\n",
      "Hazard_identification       37\n",
      "Completion_Time_Bucket       3\n",
      "immediate_action_taken    1707\n",
      "recommended_action        4566\n",
      "Workplace                 2161\n",
      "Supervisor_Name            224\n",
      "dtype: int64\n"
     ]
    }
   ],
   "source": [
    "### -----> 'Hazard_Type' <------- ###\n",
    "\n",
    "cols = ['Hazard_type', 'Hazard_identification', 'Completion_Time_Bucket', 'immediate_action_taken', 'recommended_action', 'Workplace', 'Supervisor_Name']\n",
    "print(hazardData[cols].nunique())"
   ]
  },
  {
   "cell_type": "code",
   "execution_count": 612,
   "metadata": {},
   "outputs": [
    {
     "name": "stdout",
     "output_type": "stream",
     "text": [
      "       Hazard_type  Hazard_identification  hazard_identification_score  \\\n",
      "0                0                     34                          4.0   \n",
      "2                4                      8                          4.0   \n",
      "4                5                     17                          3.0   \n",
      "5                5                     10                          2.0   \n",
      "7                5                     26                          3.0   \n",
      "...            ...                    ...                          ...   \n",
      "13237            1                      2                          2.0   \n",
      "13238            1                      2                          2.0   \n",
      "13248            0                      1                          5.0   \n",
      "13291            0                      1                          5.0   \n",
      "13292            3                      1                          5.0   \n",
      "\n",
      "      action_completed_date        FormSubmissionDate  potential_risk  \\\n",
      "0                 5/21/2017  2017-05-26T04:00:00.000Z          2201.0   \n",
      "2                 5/29/2017  2017-05-28T04:00:00.000Z          2201.0   \n",
      "4                  06/01/17  2017-05-28T04:00:00.000Z          2199.0   \n",
      "5                  06/02/17  2017-05-28T04:00:00.000Z          2200.0   \n",
      "7                 5/26/2017  2017-05-28T04:00:00.000Z          2200.0   \n",
      "...                     ...                       ...             ...   \n",
      "13237              03/01/23  2023-03-17T15:32:07.000Z          3140.0   \n",
      "13238              04/10/23  2023-03-17T15:32:07.000Z          3140.0   \n",
      "13248              06/06/23  2023-03-23T14:31:02.000Z          3137.0   \n",
      "13291              04/10/23  2023-04-10T19:45:44.000Z          3136.0   \n",
      "13292              04/10/23  2023-04-10T19:49:40.000Z          3137.0   \n",
      "\n",
      "       potential_risk_score  further_action_required  \\\n",
      "0                       5.0                      0.0   \n",
      "2                       5.0                      1.0   \n",
      "4                       1.0                      1.0   \n",
      "5                       3.0                      1.0   \n",
      "7                       3.0                      0.0   \n",
      "...                     ...                      ...   \n",
      "13237                   0.0                      1.0   \n",
      "13238                   0.0                      1.0   \n",
      "13248                   8.0                      1.0   \n",
      "13291                  10.0                      1.0   \n",
      "13292                   8.0                      1.0   \n",
      "\n",
      "       immediate_action_required_and_performed  immediate_action_taken  ...  \\\n",
      "0                                          1.0                    1561  ...   \n",
      "2                                          1.0                    1406  ...   \n",
      "4                                          1.0                     675  ...   \n",
      "5                                          1.0                     678  ...   \n",
      "7                                          1.0                     597  ...   \n",
      "...                                        ...                     ...  ...   \n",
      "13237                                      0.0                     892  ...   \n",
      "13238                                      0.0                     892  ...   \n",
      "13248                                      1.0                    1703  ...   \n",
      "13291                                      1.0                     477  ...   \n",
      "13292                                      1.0                    1503  ...   \n",
      "\n",
      "       SiteLevel  Workplace  per_first_name  per_last_name  per_gender  \\\n",
      "0           4331        196            Sean        Thibert        Male   \n",
      "2           4324       1586         Bradley        Hofford        Male   \n",
      "4           4329       1368         Bradley        Hofford        Male   \n",
      "5           4329       1368         Bradley        Hofford        Male   \n",
      "7           4329       1368         Bradley        Hofford        Male   \n",
      "...          ...        ...             ...            ...         ...   \n",
      "13237       4654       1497             Dan          Suciu        Male   \n",
      "13238       4654       1497             Dan          Suciu        Male   \n",
      "13248       6194       1859          Robert         Rivest        Male   \n",
      "13291       6182       1729            Adam           Best        Male   \n",
      "13292       4386       1729            Adam           Best        Male   \n",
      "\n",
      "       ReportSent Supervisor_Name action_status sha_enable  \\\n",
      "0             2.0             197      COMPLETE          1   \n",
      "2             2.0              22      COMPLETE          1   \n",
      "4             2.0              22      COMPLETE          1   \n",
      "5             2.0              22      COMPLETE          1   \n",
      "7             2.0              22      COMPLETE          1   \n",
      "...           ...             ...           ...        ...   \n",
      "13237         0.0              49      COMPLETE          1   \n",
      "13238         0.0              49      Complete          1   \n",
      "13248         0.0             184      Complete          1   \n",
      "13291         0.0               1      Complete          1   \n",
      "13292         0.0               1      COMPLETE          1   \n",
      "\n",
      "       Completion_Time_Bucket  \n",
      "0                           0  \n",
      "2                           0  \n",
      "4                           0  \n",
      "5                           0  \n",
      "7                           0  \n",
      "...                       ...  \n",
      "13237                       0  \n",
      "13238                       2  \n",
      "13248                       1  \n",
      "13291                       0  \n",
      "13292                       0  \n",
      "\n",
      "[4643 rows x 24 columns]\n"
     ]
    }
   ],
   "source": [
    "### -----> All categorical variables ready for Lable Encode <---- ###\n",
    "\n",
    "from sklearn.preprocessing import LabelEncoder\n",
    "\n",
    "cols2 = ['Hazard_identification', 'immediate_action_taken', 'recommended_action', 'Workplace', 'Completion_Time_Bucket','Hazard_type', 'Supervisor_Name']\n",
    "encoder = LabelEncoder()\n",
    "for col in cols2:\n",
    "    hazardData[col] = encoder.fit_transform(hazardData[col])\n",
    "\n",
    "# Print the updated DataFrame\n",
    "print(hazardData)"
   ]
  },
  {
   "cell_type": "code",
   "execution_count": 613,
   "metadata": {},
   "outputs": [],
   "source": [
    "### ----> Dropping unnessary columns <----- ###\n",
    "\n",
    "columns_to_drop2 = ['per_first_name','per_last_name','FormSubmissionDate']\n",
    "hazardData.drop(columns=columns_to_drop2, inplace=True)"
   ]
  },
  {
   "cell_type": "code",
   "execution_count": 614,
   "metadata": {},
   "outputs": [
    {
     "name": "stdout",
     "output_type": "stream",
     "text": [
      "<class 'pandas.core.frame.DataFrame'>\n",
      "Int64Index: 4643 entries, 0 to 13292\n",
      "Data columns (total 21 columns):\n",
      " #   Column                                   Non-Null Count  Dtype  \n",
      "---  ------                                   --------------  -----  \n",
      " 0   Hazard_type                              4643 non-null   int64  \n",
      " 1   Hazard_identification                    4643 non-null   int64  \n",
      " 2   hazard_identification_score              4643 non-null   float64\n",
      " 3   action_completed_date                    4643 non-null   object \n",
      " 4   potential_risk                           4643 non-null   float64\n",
      " 5   potential_risk_score                     4643 non-null   float64\n",
      " 6   further_action_required                  4643 non-null   float64\n",
      " 7   immediate_action_required_and_performed  4643 non-null   float64\n",
      " 8   immediate_action_taken                   4643 non-null   int64  \n",
      " 9   recommended_action                       4643 non-null   int64  \n",
      " 10  immediate_action_score                   4643 non-null   float64\n",
      " 11  completed_action_score                   4643 non-null   float64\n",
      " 12  Site                                     4643 non-null   int64  \n",
      " 13  SiteLevel                                4643 non-null   int64  \n",
      " 14  Workplace                                4643 non-null   int64  \n",
      " 15  per_gender                               4643 non-null   object \n",
      " 16  ReportSent                               4643 non-null   float64\n",
      " 17  Supervisor_Name                          4643 non-null   int64  \n",
      " 18  action_status                            4643 non-null   object \n",
      " 19  sha_enable                               4643 non-null   int64  \n",
      " 20  Completion_Time_Bucket                   4643 non-null   int64  \n",
      "dtypes: float64(8), int64(10), object(3)\n",
      "memory usage: 798.0+ KB\n"
     ]
    }
   ],
   "source": [
    "hazardData.info()"
   ]
  },
  {
   "cell_type": "code",
   "execution_count": 615,
   "metadata": {},
   "outputs": [
    {
     "data": {
      "text/plain": [
       "Hazard_type                                0\n",
       "Hazard_identification                      0\n",
       "hazard_identification_score                0\n",
       "action_completed_date                      0\n",
       "potential_risk                             0\n",
       "potential_risk_score                       0\n",
       "further_action_required                    0\n",
       "immediate_action_required_and_performed    0\n",
       "immediate_action_taken                     0\n",
       "recommended_action                         0\n",
       "immediate_action_score                     0\n",
       "completed_action_score                     0\n",
       "Site                                       0\n",
       "SiteLevel                                  0\n",
       "Workplace                                  0\n",
       "per_gender                                 0\n",
       "ReportSent                                 0\n",
       "Supervisor_Name                            0\n",
       "action_status                              0\n",
       "sha_enable                                 0\n",
       "Completion_Time_Bucket                     0\n",
       "dtype: int64"
      ]
     },
     "execution_count": 615,
     "metadata": {},
     "output_type": "execute_result"
    }
   ],
   "source": [
    "### -----> This pure data without having nay null values <---- ###\n",
    "\n",
    "hazardData.isnull().sum()"
   ]
  },
  {
   "cell_type": "code",
   "execution_count": 616,
   "metadata": {},
   "outputs": [
    {
     "data": {
      "text/plain": [
       "0    2962\n",
       "2    1010\n",
       "1     671\n",
       "Name: Completion_Time_Bucket, dtype: int64"
      ]
     },
     "execution_count": 616,
     "metadata": {},
     "output_type": "execute_result"
    }
   ],
   "source": [
    "### ----> Prepration for Traget Variable : Completion_Time_Bucket <----- ###\n",
    "\n",
    "hazardData['Completion_Time_Bucket'].unique()\n",
    "hazardData['Completion_Time_Bucket'].value_counts()"
   ]
  },
  {
   "cell_type": "markdown",
   "metadata": {},
   "source": [
    "## ML Model : XG-Boost (1)"
   ]
  },
  {
   "cell_type": "code",
   "execution_count": 544,
   "metadata": {},
   "outputs": [],
   "source": [
    "from sklearn.model_selection import train_test_split\n",
    "from sklearn import datasets, linear_model\n",
    "from scipy import stats\n",
    "from sklearn.preprocessing import RobustScaler, StandardScaler\n",
    "from sklearn import svm\n",
    "from sklearn.metrics import precision_score, recall_score, f1_score, accuracy_score\n",
    "from sklearn.inspection import permutation_importance\n",
    "from sklearn.metrics import classification_report"
   ]
  },
  {
   "cell_type": "code",
   "execution_count": 545,
   "metadata": {},
   "outputs": [
    {
     "name": "stderr",
     "output_type": "stream",
     "text": [
      "/var/folders/0j/7r8blzjd6q97qbmmc643xsvw0000gn/T/ipykernel_89016/3560768330.py:1: SettingWithCopyWarning:\n",
      "\n",
      "\n",
      "A value is trying to be set on a copy of a slice from a DataFrame\n",
      "\n",
      "See the caveats in the documentation: https://pandas.pydata.org/pandas-docs/stable/user_guide/indexing.html#returning-a-view-versus-a-copy\n",
      "\n"
     ]
    }
   ],
   "source": [
    "hazardData.drop(columns='Supervisor_Name', inplace=True)\n"
   ]
  },
  {
   "cell_type": "code",
   "execution_count": 546,
   "metadata": {},
   "outputs": [
    {
     "name": "stderr",
     "output_type": "stream",
     "text": [
      "/var/folders/0j/7r8blzjd6q97qbmmc643xsvw0000gn/T/ipykernel_89016/219096849.py:1: SettingWithCopyWarning:\n",
      "\n",
      "\n",
      "A value is trying to be set on a copy of a slice from a DataFrame\n",
      "\n",
      "See the caveats in the documentation: https://pandas.pydata.org/pandas-docs/stable/user_guide/indexing.html#returning-a-view-versus-a-copy\n",
      "\n"
     ]
    }
   ],
   "source": [
    "hazardData.drop(columns='per_gender', inplace=True)"
   ]
  },
  {
   "cell_type": "code",
   "execution_count": 547,
   "metadata": {},
   "outputs": [
    {
     "name": "stderr",
     "output_type": "stream",
     "text": [
      "/var/folders/0j/7r8blzjd6q97qbmmc643xsvw0000gn/T/ipykernel_89016/1178868829.py:1: SettingWithCopyWarning:\n",
      "\n",
      "\n",
      "A value is trying to be set on a copy of a slice from a DataFrame\n",
      "\n",
      "See the caveats in the documentation: https://pandas.pydata.org/pandas-docs/stable/user_guide/indexing.html#returning-a-view-versus-a-copy\n",
      "\n"
     ]
    }
   ],
   "source": [
    "hazardData.drop(columns='action_status', inplace=True)"
   ]
  },
  {
   "cell_type": "code",
   "execution_count": 548,
   "metadata": {},
   "outputs": [
    {
     "name": "stderr",
     "output_type": "stream",
     "text": [
      "/var/folders/0j/7r8blzjd6q97qbmmc643xsvw0000gn/T/ipykernel_89016/176243378.py:1: SettingWithCopyWarning:\n",
      "\n",
      "\n",
      "A value is trying to be set on a copy of a slice from a DataFrame\n",
      "\n",
      "See the caveats in the documentation: https://pandas.pydata.org/pandas-docs/stable/user_guide/indexing.html#returning-a-view-versus-a-copy\n",
      "\n"
     ]
    }
   ],
   "source": [
    "hazardData.drop(columns='action_completed_date', inplace=True)\n",
    "#hazardData.drop(columns='FormSubmissionDate',inplace=True)"
   ]
  },
  {
   "cell_type": "code",
   "execution_count": 549,
   "metadata": {},
   "outputs": [],
   "source": [
    "#### ---------> Training and Testing split <----------- ###\n",
    "\n",
    "x = hazardData.drop(['Completion_Time_Bucket'],axis=1)\n",
    "y = hazardData['Completion_Time_Bucket']\n",
    "\n",
    "# Specify the test size for the minority class\n",
    "test_size_minority = 0.3\n",
    "\n",
    "feature_names = x.columns.tolist()\n",
    "\n",
    "# Split the dataset into training and testing sets\n",
    "x_train, x_test, y_train, y_test = train_test_split(x, y, test_size=test_size_minority, stratify=y)"
   ]
  },
  {
   "cell_type": "code",
   "execution_count": 550,
   "metadata": {},
   "outputs": [
    {
     "name": "stdout",
     "output_type": "stream",
     "text": [
      "Optimal number of features : 7\n"
     ]
    }
   ],
   "source": [
    "### ---------> RFE with Cross Validation <--------- #### \n",
    "\n",
    "from sklearn.feature_selection import RFE\n",
    "from xgboost import XGBClassifier\n",
    "from sklearn.preprocessing import StandardScaler\n",
    "import time\n",
    "from sklearn.feature_selection import RFECV\n",
    "from sklearn.model_selection import StratifiedKFold\n",
    "\n",
    "model1 = XGBClassifier()\n",
    "\n",
    "# create RFE selector with cross-validation and fit it to the data\n",
    "rfecv = RFECV(estimator = model1, step=1, cv=StratifiedKFold(5), scoring='accuracy')\n",
    "rfecv.fit(x_train, y_train)   ## x_trin_balanced / y_train_balanced \n",
    "\n",
    "# print the optimal number of features\n",
    "print(\"Optimal number of features : %d\" % rfecv.n_features_)"
   ]
  },
  {
   "cell_type": "code",
   "execution_count": 551,
   "metadata": {},
   "outputs": [
    {
     "name": "stdout",
     "output_type": "stream",
     "text": [
      "XGBClassifier\n",
      "Selected Features from this model : \n",
      "          Selected Features\n",
      "0           potential_risk\n",
      "1  further_action_required\n",
      "2   immediate_action_score\n",
      "3   completed_action_score\n",
      "4                     Site\n",
      "5                SiteLevel\n",
      "6                Workplace\n"
     ]
    }
   ],
   "source": [
    "### -------> Feature selection with RFE <-------- ###\n",
    "rfe = RFE(model1, n_features_to_select=7)        \n",
    "X_train_rfe = rfe.fit_transform(x_train, y_train)\n",
    "X_test_rfe = rfe.transform(x_test) \n",
    "selected_features = [feature_names[i] for i in range(len(feature_names)) if rfe.support_[i]]\n",
    "selected_features_df = pd.DataFrame(selected_features, columns=['Selected Features'])\n",
    "\n",
    "print(f\"{type(model1).__name__}\")\n",
    "print(\"Selected Features from this model : \\n\", selected_features_df)"
   ]
  },
  {
   "cell_type": "code",
   "execution_count": 552,
   "metadata": {},
   "outputs": [
    {
     "name": "stdout",
     "output_type": "stream",
     "text": [
      "Execution time: 4.59 seconds\n",
      "XGBClassifier: Selected features = 7, Accuracy = 0.63, Precision = 0.6010448356751483\n",
      "Classification Report : \n",
      "               precision    recall  f1-score   support\n",
      "\n",
      "           0       0.72      0.82      0.77       889\n",
      "           1       0.38      0.26      0.31       201\n",
      "           2       0.40      0.31      0.35       303\n",
      "\n",
      "    accuracy                           0.63      1393\n",
      "   macro avg       0.50      0.47      0.48      1393\n",
      "weighted avg       0.60      0.63      0.61      1393\n",
      "\n"
     ]
    }
   ],
   "source": [
    "start_time = time.time() \n",
    "\n",
    "model = XGBClassifier(learning_rate=0.1, max_depth=7, n_estimators=500)\n",
    "\n",
    "# Training the model\n",
    "model.fit(X_train_rfe, y_train)\n",
    "\n",
    "# Testing the model\n",
    "y_pred = model.predict(X_test_rfe)\n",
    "acc = accuracy_score(y_test, y_pred)\n",
    "prec = precision_score(y_test, y_pred, average='weighted')\n",
    "\n",
    "end_time = time.time()\n",
    "execution_time = end_time - start_time\n",
    "\n",
    "print(f\"Execution time: {execution_time:.2f} seconds\")\n",
    "\n",
    "print(f\"{type(model).__name__}: Selected features = {X_train_rfe.shape[1]}, Accuracy = {acc:.2f}, Precision = {prec}\") \n",
    "print(\"Classification Report : \\n\", classification_report(y_test, y_pred))  "
   ]
  },
  {
   "cell_type": "markdown",
   "metadata": {},
   "source": [
    "## ML Model : XG-Boost (2) - with balanced data"
   ]
  },
  {
   "cell_type": "code",
   "execution_count": 499,
   "metadata": {},
   "outputs": [],
   "source": [
    "from sklearn.model_selection import train_test_split\n",
    "from sklearn import datasets, linear_model\n",
    "from scipy import stats\n",
    "from sklearn.preprocessing import RobustScaler, StandardScaler\n",
    "from sklearn import svm\n",
    "from sklearn.metrics import precision_score, recall_score, f1_score, accuracy_score\n",
    "from sklearn.inspection import permutation_importance\n",
    "from sklearn.metrics import classification_report"
   ]
  },
  {
   "cell_type": "code",
   "execution_count": 553,
   "metadata": {},
   "outputs": [],
   "source": [
    "#### ---------> Training and Testing split <----------- ###\n",
    "\n",
    "x = hazardData.drop(['Completion_Time_Bucket'],axis=1)\n",
    "y = hazardData['Completion_Time_Bucket']\n",
    "\n",
    "# Specify the test size for the minority class\n",
    "test_size_minority = 0.3\n",
    "\n",
    "feature_names = x.columns.tolist()\n",
    "\n",
    "# Split the dataset into training and testing sets\n",
    "x_train, x_test, y_train, y_test = train_test_split(x, y, test_size=test_size_minority, stratify=y)"
   ]
  },
  {
   "cell_type": "code",
   "execution_count": 554,
   "metadata": {},
   "outputs": [
    {
     "name": "stdout",
     "output_type": "stream",
     "text": [
      "Before Upsampling, counts of label '0': 2073\n",
      "Before Upsampling, counts of label '1': 470\n",
      "Before Upsampling, counts of label '2': 707\n",
      "\n",
      "After Upsampling, counts of label '0': 2073\n",
      "After Upsampling, counts of label '1': 2073\n",
      "After Upsampling, counts of label '2': 2073\n",
      "\n"
     ]
    }
   ],
   "source": [
    "### -----> Applying SMOTE <----- ###\n",
    "\n",
    "from imblearn.over_sampling import RandomOverSampler\n",
    "from imblearn.under_sampling import RandomUnderSampler\n",
    "\n",
    "\n",
    "print(\"Before Upsampling, counts of label '0': {}\".format(sum(y_train==0))) \n",
    "print (\"Before Upsampling, counts of label '1': {}\".format(sum(y_train==1)))\n",
    "print(\"Before Upsampling, counts of label '2': {}\\n\".format(sum(y_train==2))) \n",
    "#print (\"Before Upsampling, counts of label '3': {}\".format(sum(y_train==3)))\n",
    "#print(\"Before Upsampling, counts of label '4': {}\".format(sum(y_train==4))) \n",
    "#print (\"Before Upsampling, counts of label '5': {}\".format(sum(y_train==5)))\n",
    "#print (\"Before Upsampling, counts of label '6': {} \\n\".format(sum(y_train==6)))\n",
    "\n",
    "# Perform oversampling on minority classes\n",
    "ros = RandomOverSampler(sampling_strategy='not majority', random_state=42)\n",
    "x_train_oversampled, y_train_oversampled = ros.fit_resample(x_train, y_train)\n",
    "\n",
    "# Perform undersampling on majority class\n",
    "rus = RandomUnderSampler(sampling_strategy='majority', random_state=42)\n",
    "x_train_balanced, y_train_balanced = rus.fit_resample(x_train_oversampled, y_train_oversampled)\n",
    "\n",
    "print(\"After Upsampling, counts of label '0': {}\".format(sum(y_train_balanced==0))) \n",
    "print (\"After Upsampling, counts of label '1': {}\".format(sum(y_train_balanced==1)))\n",
    "print(\"After Upsampling, counts of label '2': {}\\n\".format(sum(y_train_balanced==2))) \n",
    "#print (\"After Upsampling, counts of label '3': {}\".format(sum(y_train_balanced==3)))\n",
    "#print(\"After Upsampling, counts of label '4': {}\".format(sum(y_train_balanced==4))) \n",
    "#print (\"After Upsampling, counts of label '5': {}\".format(sum(y_train_balanced==5)))\n",
    "#print (\"After Upsampling, counts of label '6': {} \\n\".format(sum(y_train_balanced==6)))"
   ]
  },
  {
   "cell_type": "code",
   "execution_count": 555,
   "metadata": {},
   "outputs": [
    {
     "name": "stdout",
     "output_type": "stream",
     "text": [
      "Optimal number of features : 14\n"
     ]
    }
   ],
   "source": [
    "### ---------> RFE with Cross Validation <--------- #### \n",
    "\n",
    "from sklearn.feature_selection import RFE\n",
    "from xgboost import XGBClassifier\n",
    "from sklearn.preprocessing import StandardScaler\n",
    "import time\n",
    "from sklearn.feature_selection import RFECV\n",
    "from sklearn.model_selection import StratifiedKFold\n",
    "\n",
    "model1 = XGBClassifier()\n",
    "\n",
    "# create RFE selector with cross-validation and fit it to the data\n",
    "rfecv = RFECV(estimator = model1, step=1, cv=StratifiedKFold(5), scoring='accuracy')\n",
    "rfecv.fit(x_train_balanced, y_train_balanced)   ## x_trin_balanced / y_train_balanced \n",
    "\n",
    "# print the optimal number of features\n",
    "print(\"Optimal number of features : %d\" % rfecv.n_features_)"
   ]
  },
  {
   "cell_type": "code",
   "execution_count": 556,
   "metadata": {},
   "outputs": [
    {
     "name": "stdout",
     "output_type": "stream",
     "text": [
      "XGBClassifier\n",
      "Selected Features from this model : \n",
      "                           Selected Features\n",
      "0                               Hazard_type\n",
      "1                     Hazard_identification\n",
      "2               hazard_identification_score\n",
      "3                            potential_risk\n",
      "4                      potential_risk_score\n",
      "5                   further_action_required\n",
      "6   immediate_action_required_and_performed\n",
      "7                    immediate_action_taken\n",
      "8                        recommended_action\n",
      "9                    immediate_action_score\n",
      "10                   completed_action_score\n",
      "11                                     Site\n",
      "12                                SiteLevel\n",
      "13                                Workplace\n"
     ]
    }
   ],
   "source": [
    "### -------> Feature selection with RFE <-------- ###\n",
    "\n",
    "rfe = RFE(model1, n_features_to_select=14)        \n",
    "X_train_rfe = rfe.fit_transform(x_train_balanced, y_train_balanced)\n",
    "X_test_rfe = rfe.transform(x_test) \n",
    "selected_features = [feature_names[i] for i in range(len(feature_names)) if rfe.support_[i]]\n",
    "selected_features_df = pd.DataFrame(selected_features, columns=['Selected Features'])\n",
    "\n",
    "print(f\"{type(model1).__name__}\")\n",
    "print(\"Selected Features from this model : \\n\", selected_features_df)"
   ]
  },
  {
   "cell_type": "code",
   "execution_count": 557,
   "metadata": {},
   "outputs": [
    {
     "name": "stdout",
     "output_type": "stream",
     "text": [
      "Execution time: 10.61 seconds\n",
      "XGBClassifier: Selected features = 14, Accuracy = 0.61, Precision = 0.5882335258489166\n",
      "Classification Report : \n",
      "               precision    recall  f1-score   support\n",
      "\n",
      "           0       0.71      0.78      0.74       889\n",
      "           1       0.43      0.37      0.40       201\n",
      "           2       0.32      0.27      0.29       303\n",
      "\n",
      "    accuracy                           0.61      1393\n",
      "   macro avg       0.49      0.47      0.48      1393\n",
      "weighted avg       0.59      0.61      0.60      1393\n",
      "\n"
     ]
    }
   ],
   "source": [
    "start_time = time.time() \n",
    "\n",
    "model = XGBClassifier(learning_rate=0.1, max_depth=7, n_estimators=500)\n",
    "\n",
    "# Training the model\n",
    "model.fit(X_train_rfe, y_train_balanced)\n",
    "\n",
    "# Testing the model\n",
    "y_pred2 = model.predict(X_test_rfe)\n",
    "acc = accuracy_score(y_test, y_pred2)\n",
    "prec = precision_score(y_test, y_pred2, average='weighted')\n",
    "\n",
    "end_time = time.time()\n",
    "execution_time = end_time - start_time\n",
    "\n",
    "print(f\"Execution time: {execution_time:.2f} seconds\")\n",
    "\n",
    "print(f\"{type(model).__name__}: Selected features = {X_train_rfe.shape[1]}, Accuracy = {acc:.2f}, Precision = {prec}\") \n",
    "print(\"Classification Report : \\n\", classification_report(y_test, y_pred2))  "
   ]
  },
  {
   "cell_type": "markdown",
   "metadata": {},
   "source": [
    "## ML Model : Random Forest (1)"
   ]
  },
  {
   "cell_type": "code",
   "execution_count": 291,
   "metadata": {},
   "outputs": [],
   "source": [
    "from sklearn.model_selection import train_test_split\n",
    "from sklearn import datasets, linear_model\n",
    "from scipy import stats\n",
    "from sklearn.preprocessing import RobustScaler, StandardScaler\n",
    "from sklearn import svm\n",
    "from sklearn.metrics import precision_score, recall_score, f1_score, accuracy_score\n",
    "from sklearn.inspection import permutation_importance\n",
    "from sklearn.metrics import classification_report"
   ]
  },
  {
   "cell_type": "code",
   "execution_count": 558,
   "metadata": {},
   "outputs": [],
   "source": [
    "#### ---------> Training and Testing split <----------- ###\n",
    "\n",
    "x = hazardData.drop(['Completion_Time_Bucket'],axis=1)\n",
    "y = hazardData['Completion_Time_Bucket']\n",
    "\n",
    "# Specify the test size for the minority class\n",
    "test_size_minority = 0.3\n",
    "\n",
    "feature_names = x.columns.tolist()\n",
    "\n",
    "# Split the dataset into training and testing sets\n",
    "x_train, x_test, y_train, y_test = train_test_split(x, y, test_size=test_size_minority, stratify=y)"
   ]
  },
  {
   "cell_type": "code",
   "execution_count": 559,
   "metadata": {},
   "outputs": [
    {
     "name": "stdout",
     "output_type": "stream",
     "text": [
      "Optimal number of features : 7\n"
     ]
    }
   ],
   "source": [
    "### ---------> RFE with Cross Validation <--------- #### \n",
    "\n",
    "from sklearn.feature_selection import RFE\n",
    "from sklearn.ensemble import RandomForestClassifier\n",
    "from sklearn.preprocessing import StandardScaler\n",
    "import time\n",
    "from sklearn.feature_selection import RFECV\n",
    "from sklearn.model_selection import StratifiedKFold\n",
    "\n",
    "model1 = RandomForestClassifier()\n",
    "\n",
    "# create RFE selector with cross-validation and fit it to the data\n",
    "rfecv = RFECV(estimator = model1, step=1, cv=StratifiedKFold(5), scoring='accuracy')\n",
    "rfecv.fit(x_train, y_train)   ## x_trin_balanced / y_train_balanced \n",
    "\n",
    "# print the optimal number of features\n",
    "print(\"Optimal number of features : %d\" % rfecv.n_features_)"
   ]
  },
  {
   "cell_type": "code",
   "execution_count": 561,
   "metadata": {},
   "outputs": [
    {
     "name": "stdout",
     "output_type": "stream",
     "text": [
      "RandomForestClassifier\n",
      "Selected Features from this model : \n",
      "         Selected Features\n",
      "0   Hazard_identification\n",
      "1          potential_risk\n",
      "2  immediate_action_taken\n",
      "3      recommended_action\n",
      "4                    Site\n",
      "5               SiteLevel\n",
      "6               Workplace\n"
     ]
    }
   ],
   "source": [
    "### -------> Feature selection with RFE <-------- ###\n",
    "rfe = RFE(model1, n_features_to_select=7)        \n",
    "X_train_rfe = rfe.fit_transform(x_train, y_train)\n",
    "X_test_rfe = rfe.transform(x_test) \n",
    "selected_features = [feature_names[i] for i in range(len(feature_names)) if rfe.support_[i]]\n",
    "selected_features_df = pd.DataFrame(selected_features, columns=['Selected Features'])\n",
    "\n",
    "print(f\"{type(model1).__name__}\")\n",
    "print(\"Selected Features from this model : \\n\", selected_features_df)"
   ]
  },
  {
   "cell_type": "code",
   "execution_count": 562,
   "metadata": {},
   "outputs": [
    {
     "name": "stdout",
     "output_type": "stream",
     "text": [
      "Execution time: 7.68 seconds\n",
      "RandomForestClassifier: Selected features = 7, Accuracy = 0.65, Precision = 0.6000362577399501\n",
      "Classification Report : \n",
      "               precision    recall  f1-score   support\n",
      "\n",
      "           0       0.70      0.89      0.78       889\n",
      "           1       0.44      0.23      0.30       201\n",
      "           2       0.43      0.21      0.28       303\n",
      "\n",
      "    accuracy                           0.65      1393\n",
      "   macro avg       0.52      0.44      0.46      1393\n",
      "weighted avg       0.60      0.65      0.60      1393\n",
      "\n"
     ]
    }
   ],
   "source": [
    "start_time = time.time() \n",
    "\n",
    "model = RandomForestClassifier(max_depth=50, min_samples_leaf=1, min_samples_split=2, n_estimators=1000)\n",
    "\n",
    "# Training the model\n",
    "model.fit(X_train_rfe, y_train)\n",
    "\n",
    "# Testing the model\n",
    "y_pred = model.predict(X_test_rfe)\n",
    "acc = accuracy_score(y_test, y_pred)\n",
    "prec = precision_score(y_test, y_pred, average='weighted')\n",
    "\n",
    "end_time = time.time()\n",
    "execution_time = end_time - start_time\n",
    "\n",
    "print(f\"Execution time: {execution_time:.2f} seconds\")\n",
    "\n",
    "print(f\"{type(model).__name__}: Selected features = {X_train_rfe.shape[1]}, Accuracy = {acc:.2f}, Precision = {prec}\") \n",
    "print(\"Classification Report : \\n\", classification_report(y_test, y_pred))  "
   ]
  },
  {
   "cell_type": "markdown",
   "metadata": {},
   "source": [
    "## ML Model : Random Forest - (2) - with balanced data"
   ]
  },
  {
   "cell_type": "code",
   "execution_count": 573,
   "metadata": {},
   "outputs": [],
   "source": [
    "from sklearn.model_selection import train_test_split\n",
    "from sklearn import datasets, linear_model\n",
    "from scipy import stats\n",
    "from sklearn.preprocessing import RobustScaler, StandardScaler\n",
    "from sklearn import svm\n",
    "from sklearn.metrics import precision_score, recall_score, f1_score, accuracy_score\n",
    "from sklearn.inspection import permutation_importance\n",
    "from sklearn.metrics import classification_report"
   ]
  },
  {
   "cell_type": "code",
   "execution_count": 574,
   "metadata": {},
   "outputs": [],
   "source": [
    "#### ---------> Training and Testing split <----------- ###\n",
    "\n",
    "x = hazardData.drop(['Completion_Time_Bucket'],axis=1)\n",
    "y = hazardData['Completion_Time_Bucket']\n",
    "\n",
    "# Specify the test size for the minority class\n",
    "test_size_minority = 0.3\n",
    "\n",
    "feature_names = x.columns.tolist()\n",
    "\n",
    "# Split the dataset into training and testing sets\n",
    "x_train, x_test, y_train, y_test = train_test_split(x, y, test_size=test_size_minority, stratify=y)"
   ]
  },
  {
   "cell_type": "code",
   "execution_count": 575,
   "metadata": {},
   "outputs": [
    {
     "name": "stdout",
     "output_type": "stream",
     "text": [
      "Before Upsampling, counts of label '0': 2073\n",
      "Before Upsampling, counts of label '1': 470 \n",
      "Before Upsampling, counts of label '2': 707\n",
      "\n",
      "After Upsampling, counts of label '0': 2073\n",
      "After Upsampling, counts of label '1': 2073 \n",
      "After Upsampling, counts of label '2': 2073\n",
      "\n"
     ]
    }
   ],
   "source": [
    "### -----> Applying SMOTE <----- ###\n",
    "\n",
    "from imblearn.over_sampling import RandomOverSampler\n",
    "from imblearn.under_sampling import RandomUnderSampler\n",
    "\n",
    "\n",
    "print(\"Before Upsampling, counts of label '0': {}\".format(sum(y_train==0))) \n",
    "print (\"Before Upsampling, counts of label '1': {} \".format(sum(y_train==1)))\n",
    "print(\"Before Upsampling, counts of label '2': {}\\n\".format(sum(y_train==2))) \n",
    "#print (\"Before Upsampling, counts of label '3': {} \\n\".format(sum(y_train==3)))\n",
    "#print(\"Before Upsampling, counts of label '4': {}\".format(sum(y_train==4))) \n",
    "\n",
    "# Perform undersampling on majority class\n",
    "rus = RandomUnderSampler(sampling_strategy='majority', random_state=42)\n",
    "x_train_balanced, y_train_balanced = rus.fit_resample(x_train_oversampled, y_train_oversampled)\n",
    "\n",
    "# Perform oversampling on minority classes\n",
    "ros = RandomOverSampler(sampling_strategy='not majority', random_state=42)\n",
    "x_train_oversampled, y_train_oversampled = ros.fit_resample(x_train, y_train)\n",
    "\n",
    "print(\"After Upsampling, counts of label '0': {}\".format(sum(y_train_balanced==0))) \n",
    "print (\"After Upsampling, counts of label '1': {} \".format(sum(y_train_balanced==1)))\n",
    "print(\"After Upsampling, counts of label '2': {}\\n\".format(sum(y_train_balanced==2))) \n",
    "#print (\"After Upsampling, counts of label '3': {} \\n\".format(sum(y_train_balanced==3)))\n",
    "#print(\"After Upsampling, counts of label '4': {}\".format(sum(y_train_balanced==4))) "
   ]
  },
  {
   "cell_type": "code",
   "execution_count": 576,
   "metadata": {},
   "outputs": [
    {
     "name": "stdout",
     "output_type": "stream",
     "text": [
      "Optimal number of features : 12\n"
     ]
    }
   ],
   "source": [
    "### ---------> RFE with Cross Validation <--------- #### \n",
    "\n",
    "from sklearn.feature_selection import RFE\n",
    "from sklearn.ensemble import RandomForestClassifier\n",
    "from sklearn.preprocessing import StandardScaler\n",
    "import time\n",
    "from sklearn.feature_selection import RFECV\n",
    "from sklearn.model_selection import StratifiedKFold\n",
    "\n",
    "model1 = RandomForestClassifier()\n",
    "\n",
    "# create RFE selector with cross-validation and fit it to the data\n",
    "rfecv = RFECV(estimator = model1, step=1, cv=StratifiedKFold(5), scoring='accuracy')\n",
    "rfecv.fit(x_train_balanced, y_train_balanced)   ## x_trin_balanced / y_train_balanced \n",
    "\n",
    "# print the optimal number of features\n",
    "print(\"Optimal number of features : %d\" % rfecv.n_features_) "
   ]
  },
  {
   "cell_type": "code",
   "execution_count": 577,
   "metadata": {},
   "outputs": [
    {
     "name": "stdout",
     "output_type": "stream",
     "text": [
      "RandomForestClassifier\n",
      "Selected Features from this model : \n",
      "               Selected Features\n",
      "0                   Hazard_type\n",
      "1         Hazard_identification\n",
      "2   hazard_identification_score\n",
      "3                potential_risk\n",
      "4          potential_risk_score\n",
      "5        immediate_action_taken\n",
      "6            recommended_action\n",
      "7        immediate_action_score\n",
      "8        completed_action_score\n",
      "9                          Site\n",
      "10                    SiteLevel\n",
      "11                    Workplace\n"
     ]
    }
   ],
   "source": [
    "### -------> Feature selection with RFE <-------- ###\n",
    "rfe = RFE(model1, n_features_to_select= 12)        \n",
    "X_train_rfe = rfe.fit_transform(x_train_balanced, y_train_balanced)\n",
    "X_test_rfe = rfe.transform(x_test) \n",
    "selected_features = [feature_names[i] for i in range(len(feature_names)) if rfe.support_[i]]\n",
    "selected_features_df = pd.DataFrame(selected_features, columns=['Selected Features'])\n",
    "\n",
    "print(f\"{type(model1).__name__}\")\n",
    "print(\"Selected Features from this model : \\n\", selected_features_df)"
   ]
  },
  {
   "cell_type": "code",
   "execution_count": 578,
   "metadata": {},
   "outputs": [
    {
     "name": "stdout",
     "output_type": "stream",
     "text": [
      "Execution time: 9.91 seconds\n",
      "RandomForestClassifier: Selected features = 12, Accuracy = 0.90, Precision = 0.9034725509770755\n",
      "Classification Report : \n",
      "               precision    recall  f1-score   support\n",
      "\n",
      "           0       0.92      0.95      0.94       889\n",
      "           1       0.87      0.85      0.86       201\n",
      "           2       0.87      0.80      0.83       303\n",
      "\n",
      "    accuracy                           0.90      1393\n",
      "   macro avg       0.89      0.87      0.88      1393\n",
      "weighted avg       0.90      0.90      0.90      1393\n",
      "\n"
     ]
    }
   ],
   "source": [
    "start_time = time.time() \n",
    "\n",
    "model = RandomForestClassifier(max_depth=50, min_samples_leaf=1, min_samples_split=2, n_estimators=1000)\n",
    "\n",
    "# Training the model\n",
    "model.fit(X_train_rfe, y_train_balanced)\n",
    "\n",
    "# Testing the model\n",
    "y_pred = model.predict(X_test_rfe)\n",
    "acc = accuracy_score(y_test, y_pred)\n",
    "prec = precision_score(y_test, y_pred, average='weighted')\n",
    "\n",
    "end_time = time.time()\n",
    "execution_time = end_time - start_time\n",
    "\n",
    "print(f\"Execution time: {execution_time:.2f} seconds\")\n",
    "\n",
    "print(f\"{type(model).__name__}: Selected features = {X_train_rfe.shape[1]}, Accuracy = {acc:.2f}, Precision = {prec}\") \n",
    "print(\"Classification Report : \\n\", classification_report(y_test, y_pred))  "
   ]
  },
  {
   "cell_type": "code",
   "execution_count": 592,
   "metadata": {},
   "outputs": [
    {
     "name": "stdout",
     "output_type": "stream",
     "text": [
      "Feature Importances:\n",
      "                        Feature  Importance\n",
      "6            recommended_action    0.175113\n",
      "11                    Workplace    0.169148\n",
      "10                    SiteLevel    0.146173\n",
      "1         Hazard_identification    0.097350\n",
      "9                          Site    0.070285\n",
      "5        immediate_action_taken    0.059054\n",
      "3                potential_risk    0.058716\n",
      "8        completed_action_score    0.052247\n",
      "2   hazard_identification_score    0.052048\n",
      "0                   Hazard_type    0.047477\n",
      "4          potential_risk_score    0.042228\n",
      "7        immediate_action_score    0.030162\n"
     ]
    },
    {
     "data": {
      "image/png": "[encoded data removed]",
      "text/plain": [
       "<Figure size 720x432 with 1 Axes>"
      ]
     },
     "metadata": {
      "needs_background": "light"
     },
     "output_type": "display_data"
    }
   ],
   "source": [
    "# Get feature importances\n",
    "importances = model.feature_importances_\n",
    "\n",
    "# Create a DataFrame with feature names and their corresponding importances\n",
    "feature_importances = pd.DataFrame({'Feature': selected_features, 'Importance': importances})\n",
    "\n",
    "# Sort the features by their importances in descending order\n",
    "feature_importances = feature_importances.sort_values('Importance', ascending=False)\n",
    "\n",
    "# Display the feature importances with names\n",
    "print(\"Feature Importances:\")\n",
    "print(feature_importances)\n",
    "\n",
    "# Create a bar plot to visualize the importances\n",
    "plt.figure(figsize=(10, 6))\n",
    "plt.barh(range(len(importances)), importances)\n",
    "plt.yticks(range(len(importances)), feature_importances['Feature'])\n",
    "plt.xlabel('Importance')\n",
    "plt.ylabel('Feature')\n",
    "plt.title('Feature Importances')\n",
    "plt.show()\n"
   ]
  },
  {
   "cell_type": "markdown",
   "metadata": {},
   "source": [
    "## ML Model : Logicstic Regreesion"
   ]
  },
  {
   "cell_type": "code",
   "execution_count": 644,
   "metadata": {},
   "outputs": [],
   "source": [
    "from sklearn.linear_model import LogisticRegression\n",
    "from sklearn.metrics import precision_score, recall_score, f1_score, accuracy_score\n",
    "from sklearn.inspection import permutation_importance\n",
    "from sklearn.metrics import classification_report"
   ]
  },
  {
   "cell_type": "code",
   "execution_count": 645,
   "metadata": {},
   "outputs": [
    {
     "name": "stdout",
     "output_type": "stream",
     "text": [
      "<class 'pandas.core.frame.DataFrame'>\n",
      "Int64Index: 4643 entries, 0 to 13292\n",
      "Data columns (total 52 columns):\n",
      " #   Column                       Non-Null Count  Dtype  \n",
      "---  ------                       --------------  -----  \n",
      " 0   hazard_identification_score  4643 non-null   float64\n",
      " 1   potential_risk               4643 non-null   float64\n",
      " 2   potential_risk_score         4643 non-null   float64\n",
      " 3   further_action_required      4643 non-null   float64\n",
      " 4   immediate_action_score       4643 non-null   float64\n",
      " 5   completed_action_score       4643 non-null   float64\n",
      " 6   ReportSent                   4643 non-null   float64\n",
      " 7   sha_enable                   4643 non-null   int64  \n",
      " 8   Completion_Time_Bucket       4643 non-null   int64  \n",
      " 9   Hazard_type_0                4643 non-null   uint8  \n",
      " 10  Hazard_type_1                4643 non-null   uint8  \n",
      " 11  Hazard_type_2                4643 non-null   uint8  \n",
      " 12  Hazard_type_3                4643 non-null   uint8  \n",
      " 13  Hazard_type_4                4643 non-null   uint8  \n",
      " 14  Hazard_type_5                4643 non-null   uint8  \n",
      " 15  Hazard_identification_0      4643 non-null   uint8  \n",
      " 16  Hazard_identification_1      4643 non-null   uint8  \n",
      " 17  Hazard_identification_2      4643 non-null   uint8  \n",
      " 18  Hazard_identification_3      4643 non-null   uint8  \n",
      " 19  Hazard_identification_4      4643 non-null   uint8  \n",
      " 20  Hazard_identification_5      4643 non-null   uint8  \n",
      " 21  Hazard_identification_6      4643 non-null   uint8  \n",
      " 22  Hazard_identification_7      4643 non-null   uint8  \n",
      " 23  Hazard_identification_8      4643 non-null   uint8  \n",
      " 24  Hazard_identification_9      4643 non-null   uint8  \n",
      " 25  Hazard_identification_10     4643 non-null   uint8  \n",
      " 26  Hazard_identification_11     4643 non-null   uint8  \n",
      " 27  Hazard_identification_12     4643 non-null   uint8  \n",
      " 28  Hazard_identification_13     4643 non-null   uint8  \n",
      " 29  Hazard_identification_14     4643 non-null   uint8  \n",
      " 30  Hazard_identification_15     4643 non-null   uint8  \n",
      " 31  Hazard_identification_16     4643 non-null   uint8  \n",
      " 32  Hazard_identification_17     4643 non-null   uint8  \n",
      " 33  Hazard_identification_18     4643 non-null   uint8  \n",
      " 34  Hazard_identification_19     4643 non-null   uint8  \n",
      " 35  Hazard_identification_20     4643 non-null   uint8  \n",
      " 36  Hazard_identification_21     4643 non-null   uint8  \n",
      " 37  Hazard_identification_22     4643 non-null   uint8  \n",
      " 38  Hazard_identification_23     4643 non-null   uint8  \n",
      " 39  Hazard_identification_24     4643 non-null   uint8  \n",
      " 40  Hazard_identification_25     4643 non-null   uint8  \n",
      " 41  Hazard_identification_26     4643 non-null   uint8  \n",
      " 42  Hazard_identification_27     4643 non-null   uint8  \n",
      " 43  Hazard_identification_28     4643 non-null   uint8  \n",
      " 44  Hazard_identification_29     4643 non-null   uint8  \n",
      " 45  Hazard_identification_30     4643 non-null   uint8  \n",
      " 46  Hazard_identification_31     4643 non-null   uint8  \n",
      " 47  Hazard_identification_32     4643 non-null   uint8  \n",
      " 48  Hazard_identification_33     4643 non-null   uint8  \n",
      " 49  Hazard_identification_34     4643 non-null   uint8  \n",
      " 50  Hazard_identification_35     4643 non-null   uint8  \n",
      " 51  Hazard_identification_36     4643 non-null   uint8  \n",
      "dtypes: float64(7), int64(2), uint8(43)\n",
      "memory usage: 557.7 KB\n"
     ]
    }
   ],
   "source": [
    "hazardData.info()"
   ]
  },
  {
   "cell_type": "code",
   "execution_count": 646,
   "metadata": {},
   "outputs": [
    {
     "ename": "KeyError",
     "evalue": "\"['immediate_action_taken', 'recommended_action', 'Workplace', 'immediate_action_required_and_performed', 'Site', 'SiteLevel', 'per_gender', 'Supervisor_Name', 'action_status'] not found in axis\"",
     "output_type": "error",
     "traceback": [
      "\u001b[0;31m---------------------------------------------------------------------------\u001b[0m",
      "\u001b[0;31mKeyError\u001b[0m                                  Traceback (most recent call last)",
      "\u001b[1;32m/Users/pratik_4511/Desktop/Northeastern University /Quarter_5A:B/Capstone/CapstoneProject.ipynb Cell 71\u001b[0m in \u001b[0;36m<cell line: 3>\u001b[0;34m()\u001b[0m\n\u001b[1;32m      <a href='vscode-notebook-cell:/Users/pratik_4511/Desktop/Northeastern%20University%20/Quarter_5A%3AB/Capstone/CapstoneProject.ipynb#ch0000102?line=0'>1</a>\u001b[0m \u001b[39m### ---> Dropping unnecessary columns <--- ###\u001b[39;00m\n\u001b[0;32m----> <a href='vscode-notebook-cell:/Users/pratik_4511/Desktop/Northeastern%20University%20/Quarter_5A%3AB/Capstone/CapstoneProject.ipynb#ch0000102?line=2'>3</a>\u001b[0m hazardData\u001b[39m.\u001b[39;49mdrop(columns\u001b[39m=\u001b[39;49m[\n\u001b[1;32m      <a href='vscode-notebook-cell:/Users/pratik_4511/Desktop/Northeastern%20University%20/Quarter_5A%3AB/Capstone/CapstoneProject.ipynb#ch0000102?line=3'>4</a>\u001b[0m     \u001b[39m'\u001b[39;49m\u001b[39mimmediate_action_taken\u001b[39;49m\u001b[39m'\u001b[39;49m, \n\u001b[1;32m      <a href='vscode-notebook-cell:/Users/pratik_4511/Desktop/Northeastern%20University%20/Quarter_5A%3AB/Capstone/CapstoneProject.ipynb#ch0000102?line=4'>5</a>\u001b[0m     \u001b[39m'\u001b[39;49m\u001b[39mrecommended_action\u001b[39;49m\u001b[39m'\u001b[39;49m, \n\u001b[1;32m      <a href='vscode-notebook-cell:/Users/pratik_4511/Desktop/Northeastern%20University%20/Quarter_5A%3AB/Capstone/CapstoneProject.ipynb#ch0000102?line=5'>6</a>\u001b[0m     \u001b[39m'\u001b[39;49m\u001b[39mWorkplace\u001b[39;49m\u001b[39m'\u001b[39;49m, \n\u001b[1;32m      <a href='vscode-notebook-cell:/Users/pratik_4511/Desktop/Northeastern%20University%20/Quarter_5A%3AB/Capstone/CapstoneProject.ipynb#ch0000102?line=6'>7</a>\u001b[0m     \u001b[39m'\u001b[39;49m\u001b[39mimmediate_action_required_and_performed\u001b[39;49m\u001b[39m'\u001b[39;49m,\n\u001b[1;32m      <a href='vscode-notebook-cell:/Users/pratik_4511/Desktop/Northeastern%20University%20/Quarter_5A%3AB/Capstone/CapstoneProject.ipynb#ch0000102?line=7'>8</a>\u001b[0m     \u001b[39m'\u001b[39;49m\u001b[39mSite\u001b[39;49m\u001b[39m'\u001b[39;49m,\n\u001b[1;32m      <a href='vscode-notebook-cell:/Users/pratik_4511/Desktop/Northeastern%20University%20/Quarter_5A%3AB/Capstone/CapstoneProject.ipynb#ch0000102?line=8'>9</a>\u001b[0m     \u001b[39m'\u001b[39;49m\u001b[39mSiteLevel\u001b[39;49m\u001b[39m'\u001b[39;49m,\n\u001b[1;32m     <a href='vscode-notebook-cell:/Users/pratik_4511/Desktop/Northeastern%20University%20/Quarter_5A%3AB/Capstone/CapstoneProject.ipynb#ch0000102?line=9'>10</a>\u001b[0m     \u001b[39m'\u001b[39;49m\u001b[39mper_gender\u001b[39;49m\u001b[39m'\u001b[39;49m,\n\u001b[1;32m     <a href='vscode-notebook-cell:/Users/pratik_4511/Desktop/Northeastern%20University%20/Quarter_5A%3AB/Capstone/CapstoneProject.ipynb#ch0000102?line=10'>11</a>\u001b[0m     \u001b[39m'\u001b[39;49m\u001b[39mSupervisor_Name\u001b[39;49m\u001b[39m'\u001b[39;49m,\n\u001b[1;32m     <a href='vscode-notebook-cell:/Users/pratik_4511/Desktop/Northeastern%20University%20/Quarter_5A%3AB/Capstone/CapstoneProject.ipynb#ch0000102?line=11'>12</a>\u001b[0m     \u001b[39m'\u001b[39;49m\u001b[39maction_status\u001b[39;49m\u001b[39m'\u001b[39;49m,\n\u001b[1;32m     <a href='vscode-notebook-cell:/Users/pratik_4511/Desktop/Northeastern%20University%20/Quarter_5A%3AB/Capstone/CapstoneProject.ipynb#ch0000102?line=12'>13</a>\u001b[0m     ],inplace\u001b[39m=\u001b[39;49m\u001b[39mTrue\u001b[39;49;00m)\n",
      "File \u001b[0;32m/Library/Frameworks/Python.framework/Versions/3.10/lib/python3.10/site-packages/pandas/util/_decorators.py:311\u001b[0m, in \u001b[0;36mdeprecate_nonkeyword_arguments.<locals>.decorate.<locals>.wrapper\u001b[0;34m(*args, **kwargs)\u001b[0m\n\u001b[1;32m    305\u001b[0m \u001b[39mif\u001b[39;00m \u001b[39mlen\u001b[39m(args) \u001b[39m>\u001b[39m num_allow_args:\n\u001b[1;32m    306\u001b[0m     warnings\u001b[39m.\u001b[39mwarn(\n\u001b[1;32m    307\u001b[0m         msg\u001b[39m.\u001b[39mformat(arguments\u001b[39m=\u001b[39marguments),\n\u001b[1;32m    308\u001b[0m         \u001b[39mFutureWarning\u001b[39;00m,\n\u001b[1;32m    309\u001b[0m         stacklevel\u001b[39m=\u001b[39mstacklevel,\n\u001b[1;32m    310\u001b[0m     )\n\u001b[0;32m--> 311\u001b[0m \u001b[39mreturn\u001b[39;00m func(\u001b[39m*\u001b[39;49margs, \u001b[39m*\u001b[39;49m\u001b[39m*\u001b[39;49mkwargs)\n",
      "File \u001b[0;32m/Library/Frameworks/Python.framework/Versions/3.10/lib/python3.10/site-packages/pandas/core/frame.py:4954\u001b[0m, in \u001b[0;36mDataFrame.drop\u001b[0;34m(self, labels, axis, index, columns, level, inplace, errors)\u001b[0m\n\u001b[1;32m   4806\u001b[0m \u001b[39m@deprecate_nonkeyword_arguments\u001b[39m(version\u001b[39m=\u001b[39m\u001b[39mNone\u001b[39;00m, allowed_args\u001b[39m=\u001b[39m[\u001b[39m\"\u001b[39m\u001b[39mself\u001b[39m\u001b[39m\"\u001b[39m, \u001b[39m\"\u001b[39m\u001b[39mlabels\u001b[39m\u001b[39m\"\u001b[39m])\n\u001b[1;32m   4807\u001b[0m \u001b[39mdef\u001b[39;00m \u001b[39mdrop\u001b[39m(\n\u001b[1;32m   4808\u001b[0m     \u001b[39mself\u001b[39m,\n\u001b[0;32m   (...)\u001b[0m\n\u001b[1;32m   4815\u001b[0m     errors: \u001b[39mstr\u001b[39m \u001b[39m=\u001b[39m \u001b[39m\"\u001b[39m\u001b[39mraise\u001b[39m\u001b[39m\"\u001b[39m,\n\u001b[1;32m   4816\u001b[0m ):\n\u001b[1;32m   4817\u001b[0m     \u001b[39m\"\"\"\u001b[39;00m\n\u001b[1;32m   4818\u001b[0m \u001b[39m    Drop specified labels from rows or columns.\u001b[39;00m\n\u001b[1;32m   4819\u001b[0m \n\u001b[0;32m   (...)\u001b[0m\n\u001b[1;32m   4952\u001b[0m \u001b[39m            weight  1.0     0.8\u001b[39;00m\n\u001b[1;32m   4953\u001b[0m \u001b[39m    \"\"\"\u001b[39;00m\n\u001b[0;32m-> 4954\u001b[0m     \u001b[39mreturn\u001b[39;00m \u001b[39msuper\u001b[39;49m()\u001b[39m.\u001b[39;49mdrop(\n\u001b[1;32m   4955\u001b[0m         labels\u001b[39m=\u001b[39;49mlabels,\n\u001b[1;32m   4956\u001b[0m         axis\u001b[39m=\u001b[39;49maxis,\n\u001b[1;32m   4957\u001b[0m         index\u001b[39m=\u001b[39;49mindex,\n\u001b[1;32m   4958\u001b[0m         columns\u001b[39m=\u001b[39;49mcolumns,\n\u001b[1;32m   4959\u001b[0m         level\u001b[39m=\u001b[39;49mlevel,\n\u001b[1;32m   4960\u001b[0m         inplace\u001b[39m=\u001b[39;49minplace,\n\u001b[1;32m   4961\u001b[0m         errors\u001b[39m=\u001b[39;49merrors,\n\u001b[1;32m   4962\u001b[0m     )\n",
      "File \u001b[0;32m/Library/Frameworks/Python.framework/Versions/3.10/lib/python3.10/site-packages/pandas/core/generic.py:4267\u001b[0m, in \u001b[0;36mNDFrame.drop\u001b[0;34m(self, labels, axis, index, columns, level, inplace, errors)\u001b[0m\n\u001b[1;32m   4265\u001b[0m \u001b[39mfor\u001b[39;00m axis, labels \u001b[39min\u001b[39;00m axes\u001b[39m.\u001b[39mitems():\n\u001b[1;32m   4266\u001b[0m     \u001b[39mif\u001b[39;00m labels \u001b[39mis\u001b[39;00m \u001b[39mnot\u001b[39;00m \u001b[39mNone\u001b[39;00m:\n\u001b[0;32m-> 4267\u001b[0m         obj \u001b[39m=\u001b[39m obj\u001b[39m.\u001b[39;49m_drop_axis(labels, axis, level\u001b[39m=\u001b[39;49mlevel, errors\u001b[39m=\u001b[39;49merrors)\n\u001b[1;32m   4269\u001b[0m \u001b[39mif\u001b[39;00m inplace:\n\u001b[1;32m   4270\u001b[0m     \u001b[39mself\u001b[39m\u001b[39m.\u001b[39m_update_inplace(obj)\n",
      "File \u001b[0;32m/Library/Frameworks/Python.framework/Versions/3.10/lib/python3.10/site-packages/pandas/core/generic.py:4311\u001b[0m, in \u001b[0;36mNDFrame._drop_axis\u001b[0;34m(self, labels, axis, level, errors, consolidate, only_slice)\u001b[0m\n\u001b[1;32m   4309\u001b[0m         new_axis \u001b[39m=\u001b[39m axis\u001b[39m.\u001b[39mdrop(labels, level\u001b[39m=\u001b[39mlevel, errors\u001b[39m=\u001b[39merrors)\n\u001b[1;32m   4310\u001b[0m     \u001b[39melse\u001b[39;00m:\n\u001b[0;32m-> 4311\u001b[0m         new_axis \u001b[39m=\u001b[39m axis\u001b[39m.\u001b[39;49mdrop(labels, errors\u001b[39m=\u001b[39;49merrors)\n\u001b[1;32m   4312\u001b[0m     indexer \u001b[39m=\u001b[39m axis\u001b[39m.\u001b[39mget_indexer(new_axis)\n\u001b[1;32m   4314\u001b[0m \u001b[39m# Case for non-unique axis\u001b[39;00m\n\u001b[1;32m   4315\u001b[0m \u001b[39melse\u001b[39;00m:\n",
      "File \u001b[0;32m/Library/Frameworks/Python.framework/Versions/3.10/lib/python3.10/site-packages/pandas/core/indexes/base.py:6644\u001b[0m, in \u001b[0;36mIndex.drop\u001b[0;34m(self, labels, errors)\u001b[0m\n\u001b[1;32m   6642\u001b[0m \u001b[39mif\u001b[39;00m mask\u001b[39m.\u001b[39many():\n\u001b[1;32m   6643\u001b[0m     \u001b[39mif\u001b[39;00m errors \u001b[39m!=\u001b[39m \u001b[39m\"\u001b[39m\u001b[39mignore\u001b[39m\u001b[39m\"\u001b[39m:\n\u001b[0;32m-> 6644\u001b[0m         \u001b[39mraise\u001b[39;00m \u001b[39mKeyError\u001b[39;00m(\u001b[39mf\u001b[39m\u001b[39m\"\u001b[39m\u001b[39m{\u001b[39;00m\u001b[39mlist\u001b[39m(labels[mask])\u001b[39m}\u001b[39;00m\u001b[39m not found in axis\u001b[39m\u001b[39m\"\u001b[39m)\n\u001b[1;32m   6645\u001b[0m     indexer \u001b[39m=\u001b[39m indexer[\u001b[39m~\u001b[39mmask]\n\u001b[1;32m   6646\u001b[0m \u001b[39mreturn\u001b[39;00m \u001b[39mself\u001b[39m\u001b[39m.\u001b[39mdelete(indexer)\n",
      "\u001b[0;31mKeyError\u001b[0m: \"['immediate_action_taken', 'recommended_action', 'Workplace', 'immediate_action_required_and_performed', 'Site', 'SiteLevel', 'per_gender', 'Supervisor_Name', 'action_status'] not found in axis\""
     ]
    }
   ],
   "source": [
    "### ---> Dropping unnecessary columns <--- ###\n",
    "\n",
    "hazardData.drop(columns=[\n",
    "    'immediate_action_taken', \n",
    "    'recommended_action', \n",
    "    'Workplace', \n",
    "    'immediate_action_required_and_performed',\n",
    "    'Site',\n",
    "    'SiteLevel',\n",
    "    'per_gender',\n",
    "    'Supervisor_Name',\n",
    "    'action_status',\n",
    "    ],inplace=True)\n",
    "\n"
   ]
  },
  {
   "cell_type": "code",
   "execution_count": 631,
   "metadata": {},
   "outputs": [],
   "source": [
    "hazardData.drop(columns='action_completed_date',inplace = True)"
   ]
  },
  {
   "cell_type": "code",
   "execution_count": 647,
   "metadata": {},
   "outputs": [
    {
     "ename": "KeyError",
     "evalue": "\"None of [Index(['Hazard_type', 'Hazard_identification'], dtype='object')] are in the [columns]\"",
     "output_type": "error",
     "traceback": [
      "\u001b[0;31m---------------------------------------------------------------------------\u001b[0m",
      "\u001b[0;31mKeyError\u001b[0m                                  Traceback (most recent call last)",
      "\u001b[1;32m/Users/pratik_4511/Desktop/Northeastern University /Quarter_5A:B/Capstone/CapstoneProject.ipynb Cell 73\u001b[0m in \u001b[0;36m<cell line: 4>\u001b[0;34m()\u001b[0m\n\u001b[1;32m      <a href='vscode-notebook-cell:/Users/pratik_4511/Desktop/Northeastern%20University%20/Quarter_5A%3AB/Capstone/CapstoneProject.ipynb#ch0000104?line=0'>1</a>\u001b[0m \u001b[39m### ---> Getting dummies <--- ###\u001b[39;00m\n\u001b[1;32m      <a href='vscode-notebook-cell:/Users/pratik_4511/Desktop/Northeastern%20University%20/Quarter_5A%3AB/Capstone/CapstoneProject.ipynb#ch0000104?line=1'>2</a>\u001b[0m \n\u001b[1;32m      <a href='vscode-notebook-cell:/Users/pratik_4511/Desktop/Northeastern%20University%20/Quarter_5A%3AB/Capstone/CapstoneProject.ipynb#ch0000104?line=2'>3</a>\u001b[0m \u001b[39m# Create dummies for Hazard_Type and Hazard_identification\u001b[39;00m\n\u001b[0;32m----> <a href='vscode-notebook-cell:/Users/pratik_4511/Desktop/Northeastern%20University%20/Quarter_5A%3AB/Capstone/CapstoneProject.ipynb#ch0000104?line=3'>4</a>\u001b[0m hazardData \u001b[39m=\u001b[39m pd\u001b[39m.\u001b[39;49mget_dummies(hazardData, columns\u001b[39m=\u001b[39;49m[\u001b[39m'\u001b[39;49m\u001b[39mHazard_type\u001b[39;49m\u001b[39m'\u001b[39;49m, \u001b[39m'\u001b[39;49m\u001b[39mHazard_identification\u001b[39;49m\u001b[39m'\u001b[39;49m])\n",
      "File \u001b[0;32m/Library/Frameworks/Python.framework/Versions/3.10/lib/python3.10/site-packages/pandas/core/reshape/reshape.py:931\u001b[0m, in \u001b[0;36mget_dummies\u001b[0;34m(data, prefix, prefix_sep, dummy_na, columns, sparse, drop_first, dtype)\u001b[0m\n\u001b[1;32m    929\u001b[0m     \u001b[39mraise\u001b[39;00m \u001b[39mTypeError\u001b[39;00m(\u001b[39m\"\u001b[39m\u001b[39mInput must be a list-like for parameter `columns`\u001b[39m\u001b[39m\"\u001b[39m)\n\u001b[1;32m    930\u001b[0m \u001b[39melse\u001b[39;00m:\n\u001b[0;32m--> 931\u001b[0m     data_to_encode \u001b[39m=\u001b[39m data[columns]\n\u001b[1;32m    933\u001b[0m \u001b[39m# validate prefixes and separator to avoid silently dropping cols\u001b[39;00m\n\u001b[1;32m    934\u001b[0m \u001b[39mdef\u001b[39;00m \u001b[39mcheck_len\u001b[39m(item, name):\n",
      "File \u001b[0;32m/Library/Frameworks/Python.framework/Versions/3.10/lib/python3.10/site-packages/pandas/core/frame.py:3511\u001b[0m, in \u001b[0;36mDataFrame.__getitem__\u001b[0;34m(self, key)\u001b[0m\n\u001b[1;32m   3509\u001b[0m     \u001b[39mif\u001b[39;00m is_iterator(key):\n\u001b[1;32m   3510\u001b[0m         key \u001b[39m=\u001b[39m \u001b[39mlist\u001b[39m(key)\n\u001b[0;32m-> 3511\u001b[0m     indexer \u001b[39m=\u001b[39m \u001b[39mself\u001b[39;49m\u001b[39m.\u001b[39;49mcolumns\u001b[39m.\u001b[39;49m_get_indexer_strict(key, \u001b[39m\"\u001b[39;49m\u001b[39mcolumns\u001b[39;49m\u001b[39m\"\u001b[39;49m)[\u001b[39m1\u001b[39m]\n\u001b[1;32m   3513\u001b[0m \u001b[39m# take() does not accept boolean indexers\u001b[39;00m\n\u001b[1;32m   3514\u001b[0m \u001b[39mif\u001b[39;00m \u001b[39mgetattr\u001b[39m(indexer, \u001b[39m\"\u001b[39m\u001b[39mdtype\u001b[39m\u001b[39m\"\u001b[39m, \u001b[39mNone\u001b[39;00m) \u001b[39m==\u001b[39m \u001b[39mbool\u001b[39m:\n",
      "File \u001b[0;32m/Library/Frameworks/Python.framework/Versions/3.10/lib/python3.10/site-packages/pandas/core/indexes/base.py:5782\u001b[0m, in \u001b[0;36mIndex._get_indexer_strict\u001b[0;34m(self, key, axis_name)\u001b[0m\n\u001b[1;32m   5779\u001b[0m \u001b[39melse\u001b[39;00m:\n\u001b[1;32m   5780\u001b[0m     keyarr, indexer, new_indexer \u001b[39m=\u001b[39m \u001b[39mself\u001b[39m\u001b[39m.\u001b[39m_reindex_non_unique(keyarr)\n\u001b[0;32m-> 5782\u001b[0m \u001b[39mself\u001b[39;49m\u001b[39m.\u001b[39;49m_raise_if_missing(keyarr, indexer, axis_name)\n\u001b[1;32m   5784\u001b[0m keyarr \u001b[39m=\u001b[39m \u001b[39mself\u001b[39m\u001b[39m.\u001b[39mtake(indexer)\n\u001b[1;32m   5785\u001b[0m \u001b[39mif\u001b[39;00m \u001b[39misinstance\u001b[39m(key, Index):\n\u001b[1;32m   5786\u001b[0m     \u001b[39m# GH 42790 - Preserve name from an Index\u001b[39;00m\n",
      "File \u001b[0;32m/Library/Frameworks/Python.framework/Versions/3.10/lib/python3.10/site-packages/pandas/core/indexes/base.py:5842\u001b[0m, in \u001b[0;36mIndex._raise_if_missing\u001b[0;34m(self, key, indexer, axis_name)\u001b[0m\n\u001b[1;32m   5840\u001b[0m     \u001b[39mif\u001b[39;00m use_interval_msg:\n\u001b[1;32m   5841\u001b[0m         key \u001b[39m=\u001b[39m \u001b[39mlist\u001b[39m(key)\n\u001b[0;32m-> 5842\u001b[0m     \u001b[39mraise\u001b[39;00m \u001b[39mKeyError\u001b[39;00m(\u001b[39mf\u001b[39m\u001b[39m\"\u001b[39m\u001b[39mNone of [\u001b[39m\u001b[39m{\u001b[39;00mkey\u001b[39m}\u001b[39;00m\u001b[39m] are in the [\u001b[39m\u001b[39m{\u001b[39;00maxis_name\u001b[39m}\u001b[39;00m\u001b[39m]\u001b[39m\u001b[39m\"\u001b[39m)\n\u001b[1;32m   5844\u001b[0m not_found \u001b[39m=\u001b[39m \u001b[39mlist\u001b[39m(ensure_index(key)[missing_mask\u001b[39m.\u001b[39mnonzero()[\u001b[39m0\u001b[39m]]\u001b[39m.\u001b[39munique())\n\u001b[1;32m   5845\u001b[0m \u001b[39mraise\u001b[39;00m \u001b[39mKeyError\u001b[39;00m(\u001b[39mf\u001b[39m\u001b[39m\"\u001b[39m\u001b[39m{\u001b[39;00mnot_found\u001b[39m}\u001b[39;00m\u001b[39m not in index\u001b[39m\u001b[39m\"\u001b[39m)\n",
      "\u001b[0;31mKeyError\u001b[0m: \"None of [Index(['Hazard_type', 'Hazard_identification'], dtype='object')] are in the [columns]\""
     ]
    }
   ],
   "source": [
    "### ---> Getting dummies <--- ###\n",
    "\n",
    "# Create dummies for Hazard_Type and Hazard_identification\n",
    "hazardData = pd.get_dummies(hazardData, columns=['Hazard_type', 'Hazard_identification'])"
   ]
  },
  {
   "cell_type": "code",
   "execution_count": 648,
   "metadata": {},
   "outputs": [
    {
     "data": {
      "text/plain": [
       "(4643, 52)"
      ]
     },
     "execution_count": 648,
     "metadata": {},
     "output_type": "execute_result"
    }
   ],
   "source": [
    "hazardData.shape"
   ]
  },
  {
   "cell_type": "code",
   "execution_count": 649,
   "metadata": {},
   "outputs": [],
   "source": [
    "#### ---------> Training and Testing split <----------- ###\n",
    "\n",
    "x = hazardData.drop(['Completion_Time_Bucket'],axis=1)\n",
    "y = hazardData['Completion_Time_Bucket']\n",
    "\n",
    "# Specify the test size for the minority class\n",
    "test_size_minority = 0.3\n",
    "\n",
    "feature_names = x.columns.tolist()\n",
    "\n",
    "# Split the dataset into training and testing sets\n",
    "x_train, x_test, y_train, y_test = train_test_split(x, y, test_size=test_size_minority, stratify=y)"
   ]
  }
 ],
 "metadata": {
  "kernelspec": {
   "display_name": "Python 3.10.5 64-bit",
   "language": "python",
   "name": "python3"
  },
  "language_info": {
   "codemirror_mode": {
    "name": "ipython",
    "version": 3
   },
   "file_extension": ".py",
   "mimetype": "text/x-python",
   "name": "python",
   "nbconvert_exporter": "python",
   "pygments_lexer": "ipython3",
   "version": "3.10.5"
  },
  "orig_nbformat": 4,
  "vscode": {
   "interpreter": {
    "hash": "aee8b7b246df8f9039afb4144a1f6fd8d2ca17a180786b69acc140d282b71a49"
   }
  }
 },
 "nbformat": 4,
 "nbformat_minor": 2
}
