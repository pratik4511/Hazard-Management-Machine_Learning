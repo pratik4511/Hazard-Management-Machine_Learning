{
 "cells": [
  {
   "cell_type": "markdown",
   "metadata": {},
   "source": [
    "## Importing Libraries"
   ]
  },
  {
   "cell_type": "code",
   "execution_count": 177,
   "metadata": {},
   "outputs": [],
   "source": [
    "import pandas as pd\n",
    "import numpy as np\n",
    "import matplotlib.pyplot as plt\n",
    "%matplotlib inline\n",
    "import seaborn as sns\n",
    "from plotly.offline import iplot\n",
    "import plotly as py\n",
    "import statsmodels.api as sm\n",
    "from sklearn import metrics"
   ]
  },
  {
   "cell_type": "markdown",
   "metadata": {},
   "source": [
    "## Reading Dataset"
   ]
  },
  {
   "cell_type": "code",
   "execution_count": 178,
   "metadata": {},
   "outputs": [
    {
     "data": {
      "text/html": [
       "<div>\n",
       "<style scoped>\n",
       "    .dataframe tbody tr th:only-of-type {\n",
       "        vertical-align: middle;\n",
       "    }\n",
       "\n",
       "    .dataframe tbody tr th {\n",
       "        vertical-align: top;\n",
       "    }\n",
       "\n",
       "    .dataframe thead th {\n",
       "        text-align: right;\n",
       "    }\n",
       "</style>\n",
       "<table border=\"1\" class=\"dataframe\">\n",
       "  <thead>\n",
       "    <tr style=\"text-align: right;\">\n",
       "      <th></th>\n",
       "      <th>Hazard_type</th>\n",
       "      <th>Hazard_identification</th>\n",
       "      <th>hazard_identification_score</th>\n",
       "      <th>Completion_Time_Bucket</th>\n",
       "      <th>potential_risk</th>\n",
       "      <th>potential_risk_score</th>\n",
       "      <th>further_action_required</th>\n",
       "      <th>immediate_action_required_and_performed</th>\n",
       "      <th>immediate_action_taken</th>\n",
       "      <th>recommended_action</th>\n",
       "      <th>...</th>\n",
       "      <th>per_first_name</th>\n",
       "      <th>per_last_name</th>\n",
       "      <th>per_gender</th>\n",
       "      <th>ReportSent</th>\n",
       "      <th>Supervisor</th>\n",
       "      <th>Supervisor_Name</th>\n",
       "      <th>action_status</th>\n",
       "      <th>sha_enable</th>\n",
       "      <th>immediate_action_taken.1</th>\n",
       "      <th>recommended_action.1</th>\n",
       "    </tr>\n",
       "  </thead>\n",
       "  <tbody>\n",
       "    <tr>\n",
       "      <th>0</th>\n",
       "      <td>Risk Assessment</td>\n",
       "      <td>Communication</td>\n",
       "      <td>2.0</td>\n",
       "      <td>Immediate</td>\n",
       "      <td>2199.0</td>\n",
       "      <td>1.0</td>\n",
       "      <td>0.0</td>\n",
       "      <td>0.0</td>\n",
       "      <td>NaN</td>\n",
       "      <td>Update JSHA to identify the hazard of slippery...</td>\n",
       "      <td>...</td>\n",
       "      <td>Adam</td>\n",
       "      <td>Brouse</td>\n",
       "      <td>6454.0</td>\n",
       "      <td>2.0</td>\n",
       "      <td>164</td>\n",
       "      <td>Adam Brouse</td>\n",
       "      <td>COMPLETE</td>\n",
       "      <td>1</td>\n",
       "      <td>NaN</td>\n",
       "      <td>Update JSHA to identify the hazard of slippery...</td>\n",
       "    </tr>\n",
       "    <tr>\n",
       "      <th>1</th>\n",
       "      <td>Near Miss</td>\n",
       "      <td>Water</td>\n",
       "      <td>4.0</td>\n",
       "      <td>Immediate</td>\n",
       "      <td>2201.0</td>\n",
       "      <td>5.0</td>\n",
       "      <td>0.0</td>\n",
       "      <td>1.0</td>\n",
       "      <td>Turn off water valve</td>\n",
       "      <td>Discuss with the crews the importance of turni...</td>\n",
       "      <td>...</td>\n",
       "      <td>Sean</td>\n",
       "      <td>Thibert</td>\n",
       "      <td>6454.0</td>\n",
       "      <td>2.0</td>\n",
       "      <td>1340</td>\n",
       "      <td>Sean Thibert</td>\n",
       "      <td>COMPLETE</td>\n",
       "      <td>1</td>\n",
       "      <td>Turn off water valve</td>\n",
       "      <td>Discuss with the crews the importance of turni...</td>\n",
       "    </tr>\n",
       "    <tr>\n",
       "      <th>2</th>\n",
       "      <td>Stop &amp; Correct</td>\n",
       "      <td>Working at Heights</td>\n",
       "      <td>3.0</td>\n",
       "      <td>Within 2 Months</td>\n",
       "      <td>2199.0</td>\n",
       "      <td>1.0</td>\n",
       "      <td>0.0</td>\n",
       "      <td>0.0</td>\n",
       "      <td>NaN</td>\n",
       "      <td>To not have to tie off when loading round out ...</td>\n",
       "      <td>...</td>\n",
       "      <td>Curtis</td>\n",
       "      <td>Giroux</td>\n",
       "      <td>6454.0</td>\n",
       "      <td>2.0</td>\n",
       "      <td>489</td>\n",
       "      <td>Curtis Giroux</td>\n",
       "      <td>COMPLETE</td>\n",
       "      <td>1</td>\n",
       "      <td>NaN</td>\n",
       "      <td>To not have to tie off when loading round out ...</td>\n",
       "    </tr>\n",
       "    <tr>\n",
       "      <th>3</th>\n",
       "      <td>Unsafe Act</td>\n",
       "      <td>Energy Sources</td>\n",
       "      <td>4.0</td>\n",
       "      <td>Within 1 Week</td>\n",
       "      <td>2201.0</td>\n",
       "      <td>5.0</td>\n",
       "      <td>1.0</td>\n",
       "      <td>1.0</td>\n",
       "      <td>Stopped work and had employee lock out.</td>\n",
       "      <td>Matt to email Bristol to inform them of incide...</td>\n",
       "      <td>...</td>\n",
       "      <td>Bradley</td>\n",
       "      <td>Hofford</td>\n",
       "      <td>6454.0</td>\n",
       "      <td>2.0</td>\n",
       "      <td>489</td>\n",
       "      <td>Bradley Hofford</td>\n",
       "      <td>COMPLETE</td>\n",
       "      <td>1</td>\n",
       "      <td>Stopped work and had employee lock out.</td>\n",
       "      <td>Matt to email Bristol to inform them of incide...</td>\n",
       "    </tr>\n",
       "    <tr>\n",
       "      <th>4</th>\n",
       "      <td>Unsafe Condition</td>\n",
       "      <td>Housekeeping</td>\n",
       "      <td>3.0</td>\n",
       "      <td>More than 1 Year</td>\n",
       "      <td>2199.0</td>\n",
       "      <td>1.0</td>\n",
       "      <td>0.0</td>\n",
       "      <td>1.0</td>\n",
       "      <td>Informed Pierre B and Curtis G of the hazard a...</td>\n",
       "      <td>NaN</td>\n",
       "      <td>...</td>\n",
       "      <td>Bradley</td>\n",
       "      <td>Hofford</td>\n",
       "      <td>6454.0</td>\n",
       "      <td>2.0</td>\n",
       "      <td>489</td>\n",
       "      <td>Bradley Hofford</td>\n",
       "      <td>Complete</td>\n",
       "      <td>1</td>\n",
       "      <td>Informed Pierre B and Curtis G of the hazard a...</td>\n",
       "      <td>NaN</td>\n",
       "    </tr>\n",
       "  </tbody>\n",
       "</table>\n",
       "<p>5 rows × 26 columns</p>\n",
       "</div>"
      ],
      "text/plain": [
       "        Hazard_type Hazard_identification  hazard_identification_score  \\\n",
       "0   Risk Assessment         Communication                          2.0   \n",
       "1         Near Miss                 Water                          4.0   \n",
       "2    Stop & Correct    Working at Heights                          3.0   \n",
       "3        Unsafe Act        Energy Sources                          4.0   \n",
       "4  Unsafe Condition          Housekeeping                          3.0   \n",
       "\n",
       "  Completion_Time_Bucket  potential_risk  potential_risk_score  \\\n",
       "0              Immediate          2199.0                   1.0   \n",
       "1              Immediate          2201.0                   5.0   \n",
       "2        Within 2 Months          2199.0                   1.0   \n",
       "3          Within 1 Week          2201.0                   5.0   \n",
       "4       More than 1 Year          2199.0                   1.0   \n",
       "\n",
       "   further_action_required  immediate_action_required_and_performed  \\\n",
       "0                      0.0                                      0.0   \n",
       "1                      0.0                                      1.0   \n",
       "2                      0.0                                      0.0   \n",
       "3                      1.0                                      1.0   \n",
       "4                      0.0                                      1.0   \n",
       "\n",
       "                              immediate_action_taken  \\\n",
       "0                                                NaN   \n",
       "1                               Turn off water valve   \n",
       "2                                                NaN   \n",
       "3            Stopped work and had employee lock out.   \n",
       "4  Informed Pierre B and Curtis G of the hazard a...   \n",
       "\n",
       "                                  recommended_action  ...  per_first_name  \\\n",
       "0  Update JSHA to identify the hazard of slippery...  ...            Adam   \n",
       "1  Discuss with the crews the importance of turni...  ...            Sean   \n",
       "2  To not have to tie off when loading round out ...  ...          Curtis   \n",
       "3  Matt to email Bristol to inform them of incide...  ...         Bradley   \n",
       "4                                                NaN  ...         Bradley   \n",
       "\n",
       "   per_last_name  per_gender  ReportSent Supervisor  Supervisor_Name  \\\n",
       "0         Brouse      6454.0         2.0        164      Adam Brouse   \n",
       "1        Thibert      6454.0         2.0       1340     Sean Thibert   \n",
       "2         Giroux      6454.0         2.0        489    Curtis Giroux   \n",
       "3        Hofford      6454.0         2.0        489  Bradley Hofford   \n",
       "4        Hofford      6454.0         2.0        489  Bradley Hofford   \n",
       "\n",
       "  action_status sha_enable                           immediate_action_taken.1  \\\n",
       "0      COMPLETE          1                                                NaN   \n",
       "1      COMPLETE          1                               Turn off water valve   \n",
       "2      COMPLETE          1                                                NaN   \n",
       "3      COMPLETE          1            Stopped work and had employee lock out.   \n",
       "4      Complete          1  Informed Pierre B and Curtis G of the hazard a...   \n",
       "\n",
       "                                recommended_action.1  \n",
       "0  Update JSHA to identify the hazard of slippery...  \n",
       "1  Discuss with the crews the importance of turni...  \n",
       "2  To not have to tie off when loading round out ...  \n",
       "3  Matt to email Bristol to inform them of incide...  \n",
       "4                                                NaN  \n",
       "\n",
       "[5 rows x 26 columns]"
      ]
     },
     "execution_count": 178,
     "metadata": {},
     "output_type": "execute_result"
    }
   ],
   "source": [
    "hazardData = pd.read_csv('/Users/pratik_4511/Desktop/Northeastern University /Quarter_5A/Capstone/final_final.csv')\n",
    "hazardData.head(5)"
   ]
  },
  {
   "cell_type": "code",
   "execution_count": 179,
   "metadata": {},
   "outputs": [
    {
     "data": {
      "text/plain": [
       "array(['Immediate', 'Within 2 Months', 'Within 1 Week',\n",
       "       'More than 1 Year', 'Within 2 Weeks', 'Within 1 Month',\n",
       "       'More than 2 Months'], dtype=object)"
      ]
     },
     "execution_count": 179,
     "metadata": {},
     "output_type": "execute_result"
    }
   ],
   "source": [
    "hazardData['Completion_Time_Bucket'].unique()"
   ]
  },
  {
   "cell_type": "code",
   "execution_count": 180,
   "metadata": {},
   "outputs": [],
   "source": [
    "hazardData['Completion_Time_Bucket'] = hazardData['Completion_Time_Bucket'].replace({'Within 1 Week': 'Immediate', 'Within 2 Weeks': 'Immediate' })"
   ]
  },
  {
   "cell_type": "markdown",
   "metadata": {},
   "source": [
    "## Cleaning Phase"
   ]
  },
  {
   "cell_type": "code",
   "execution_count": 181,
   "metadata": {},
   "outputs": [
    {
     "name": "stdout",
     "output_type": "stream",
     "text": [
      "<class 'pandas.core.frame.DataFrame'>\n",
      "RangeIndex: 14480 entries, 0 to 14479\n",
      "Data columns (total 26 columns):\n",
      " #   Column                                   Non-Null Count  Dtype  \n",
      "---  ------                                   --------------  -----  \n",
      " 0   Hazard_type                              14480 non-null  object \n",
      " 1   Hazard_identification                    14449 non-null  object \n",
      " 2   hazard_identification_score              14479 non-null  float64\n",
      " 3   Completion_Time_Bucket                   14480 non-null  object \n",
      " 4   potential_risk                           14429 non-null  float64\n",
      " 5   potential_risk_score                     14475 non-null  float64\n",
      " 6   further_action_required                  14467 non-null  float64\n",
      " 7   immediate_action_required_and_performed  14471 non-null  float64\n",
      " 8   immediate_action_taken                   8698 non-null   object \n",
      " 9   recommended_action                       7473 non-null   object \n",
      " 10  immediate_action_score                   12534 non-null  float64\n",
      " 11  completed_action_score                   14060 non-null  float64\n",
      " 12  Site                                     14480 non-null  int64  \n",
      " 13  SiteLevel                                14480 non-null  int64  \n",
      " 14  Workplace                                14479 non-null  object \n",
      " 15  Duration                                 8703 non-null   float64\n",
      " 16  per_first_name                           14480 non-null  object \n",
      " 17  per_last_name                            14480 non-null  object \n",
      " 18  per_gender                               14334 non-null  float64\n",
      " 19  ReportSent                               14187 non-null  float64\n",
      " 20  Supervisor                               14480 non-null  object \n",
      " 21  Supervisor_Name                          14480 non-null  object \n",
      " 22  action_status                            14108 non-null  object \n",
      " 23  sha_enable                               14480 non-null  int64  \n",
      " 24  immediate_action_taken.1                 8698 non-null   object \n",
      " 25  recommended_action.1                     7473 non-null   object \n",
      "dtypes: float64(10), int64(3), object(13)\n",
      "memory usage: 2.9+ MB\n"
     ]
    }
   ],
   "source": [
    "# -----> 1. data info <------ #\n",
    "hazardData.info()"
   ]
  },
  {
   "cell_type": "code",
   "execution_count": 182,
   "metadata": {},
   "outputs": [
    {
     "data": {
      "text/plain": [
       "79"
      ]
     },
     "execution_count": 182,
     "metadata": {},
     "output_type": "execute_result"
    }
   ],
   "source": [
    "### ------>  Dropping the Duplicate and unnecessary columns <----- ###\n",
    "\n",
    "# Drop columns from the DataFrame\n",
    "columns_to_drop = ['immediate_action_taken.1','recommended_action.1','Duration','Supervisor']\n",
    "\n",
    "hazardData.drop(columns=columns_to_drop, inplace=True)\n",
    "\n",
    "# Checking for duplicate values\n",
    "hazardData.duplicated().sum()\n"
   ]
  },
  {
   "cell_type": "code",
   "execution_count": 183,
   "metadata": {},
   "outputs": [
    {
     "data": {
      "text/html": [
       "<div>\n",
       "<style scoped>\n",
       "    .dataframe tbody tr th:only-of-type {\n",
       "        vertical-align: middle;\n",
       "    }\n",
       "\n",
       "    .dataframe tbody tr th {\n",
       "        vertical-align: top;\n",
       "    }\n",
       "\n",
       "    .dataframe thead th {\n",
       "        text-align: right;\n",
       "    }\n",
       "</style>\n",
       "<table border=\"1\" class=\"dataframe\">\n",
       "  <thead>\n",
       "    <tr style=\"text-align: right;\">\n",
       "      <th></th>\n",
       "      <th>Hazard_type</th>\n",
       "      <th>Hazard_identification</th>\n",
       "      <th>hazard_identification_score</th>\n",
       "      <th>Completion_Time_Bucket</th>\n",
       "      <th>potential_risk</th>\n",
       "      <th>potential_risk_score</th>\n",
       "      <th>further_action_required</th>\n",
       "      <th>immediate_action_required_and_performed</th>\n",
       "      <th>immediate_action_taken</th>\n",
       "      <th>recommended_action</th>\n",
       "      <th>...</th>\n",
       "      <th>Site</th>\n",
       "      <th>SiteLevel</th>\n",
       "      <th>Workplace</th>\n",
       "      <th>per_first_name</th>\n",
       "      <th>per_last_name</th>\n",
       "      <th>per_gender</th>\n",
       "      <th>ReportSent</th>\n",
       "      <th>Supervisor_Name</th>\n",
       "      <th>action_status</th>\n",
       "      <th>sha_enable</th>\n",
       "    </tr>\n",
       "  </thead>\n",
       "  <tbody>\n",
       "    <tr>\n",
       "      <th>0</th>\n",
       "      <td>Risk Assessment</td>\n",
       "      <td>Communication</td>\n",
       "      <td>2.0</td>\n",
       "      <td>Immediate</td>\n",
       "      <td>2199.0</td>\n",
       "      <td>1.0</td>\n",
       "      <td>0.0</td>\n",
       "      <td>0.0</td>\n",
       "      <td>NaN</td>\n",
       "      <td>Update JSHA to identify the hazard of slippery...</td>\n",
       "      <td>...</td>\n",
       "      <td>3311</td>\n",
       "      <td>4708</td>\n",
       "      <td>Main access drift</td>\n",
       "      <td>Adam</td>\n",
       "      <td>Brouse</td>\n",
       "      <td>6454.0</td>\n",
       "      <td>2.0</td>\n",
       "      <td>Adam Brouse</td>\n",
       "      <td>COMPLETE</td>\n",
       "      <td>1</td>\n",
       "    </tr>\n",
       "    <tr>\n",
       "      <th>1</th>\n",
       "      <td>Near Miss</td>\n",
       "      <td>Water</td>\n",
       "      <td>4.0</td>\n",
       "      <td>Immediate</td>\n",
       "      <td>2201.0</td>\n",
       "      <td>5.0</td>\n",
       "      <td>0.0</td>\n",
       "      <td>1.0</td>\n",
       "      <td>Turn off water valve</td>\n",
       "      <td>Discuss with the crews the importance of turni...</td>\n",
       "      <td>...</td>\n",
       "      <td>3317</td>\n",
       "      <td>4331</td>\n",
       "      <td>1860 up ramp</td>\n",
       "      <td>Sean</td>\n",
       "      <td>Thibert</td>\n",
       "      <td>6454.0</td>\n",
       "      <td>2.0</td>\n",
       "      <td>Sean Thibert</td>\n",
       "      <td>COMPLETE</td>\n",
       "      <td>1</td>\n",
       "    </tr>\n",
       "    <tr>\n",
       "      <th>2</th>\n",
       "      <td>Stop &amp; Correct</td>\n",
       "      <td>Working at Heights</td>\n",
       "      <td>3.0</td>\n",
       "      <td>Within 2 Months</td>\n",
       "      <td>2199.0</td>\n",
       "      <td>1.0</td>\n",
       "      <td>0.0</td>\n",
       "      <td>0.0</td>\n",
       "      <td>NaN</td>\n",
       "      <td>To not have to tie off when loading round out ...</td>\n",
       "      <td>...</td>\n",
       "      <td>3317</td>\n",
       "      <td>4320</td>\n",
       "      <td>Nickel Rim South</td>\n",
       "      <td>Curtis</td>\n",
       "      <td>Giroux</td>\n",
       "      <td>6454.0</td>\n",
       "      <td>2.0</td>\n",
       "      <td>Curtis Giroux</td>\n",
       "      <td>COMPLETE</td>\n",
       "      <td>1</td>\n",
       "    </tr>\n",
       "    <tr>\n",
       "      <th>3</th>\n",
       "      <td>Unsafe Act</td>\n",
       "      <td>Energy Sources</td>\n",
       "      <td>4.0</td>\n",
       "      <td>Immediate</td>\n",
       "      <td>2201.0</td>\n",
       "      <td>5.0</td>\n",
       "      <td>1.0</td>\n",
       "      <td>1.0</td>\n",
       "      <td>Stopped work and had employee lock out.</td>\n",
       "      <td>Matt to email Bristol to inform them of incide...</td>\n",
       "      <td>...</td>\n",
       "      <td>3317</td>\n",
       "      <td>4324</td>\n",
       "      <td>Shop, 1780L, 1820L, and Ramp</td>\n",
       "      <td>Bradley</td>\n",
       "      <td>Hofford</td>\n",
       "      <td>6454.0</td>\n",
       "      <td>2.0</td>\n",
       "      <td>Bradley Hofford</td>\n",
       "      <td>COMPLETE</td>\n",
       "      <td>1</td>\n",
       "    </tr>\n",
       "    <tr>\n",
       "      <th>4</th>\n",
       "      <td>Unsafe Condition</td>\n",
       "      <td>Housekeeping</td>\n",
       "      <td>3.0</td>\n",
       "      <td>More than 1 Year</td>\n",
       "      <td>2199.0</td>\n",
       "      <td>1.0</td>\n",
       "      <td>0.0</td>\n",
       "      <td>1.0</td>\n",
       "      <td>Informed Pierre B and Curtis G of the hazard a...</td>\n",
       "      <td>NaN</td>\n",
       "      <td>...</td>\n",
       "      <td>3317</td>\n",
       "      <td>4324</td>\n",
       "      <td>Shop, 1780L, 1820L, and Ramp</td>\n",
       "      <td>Bradley</td>\n",
       "      <td>Hofford</td>\n",
       "      <td>6454.0</td>\n",
       "      <td>2.0</td>\n",
       "      <td>Bradley Hofford</td>\n",
       "      <td>Complete</td>\n",
       "      <td>1</td>\n",
       "    </tr>\n",
       "  </tbody>\n",
       "</table>\n",
       "<p>5 rows × 22 columns</p>\n",
       "</div>"
      ],
      "text/plain": [
       "        Hazard_type Hazard_identification  hazard_identification_score  \\\n",
       "0   Risk Assessment         Communication                          2.0   \n",
       "1         Near Miss                 Water                          4.0   \n",
       "2    Stop & Correct    Working at Heights                          3.0   \n",
       "3        Unsafe Act        Energy Sources                          4.0   \n",
       "4  Unsafe Condition          Housekeeping                          3.0   \n",
       "\n",
       "  Completion_Time_Bucket  potential_risk  potential_risk_score  \\\n",
       "0              Immediate          2199.0                   1.0   \n",
       "1              Immediate          2201.0                   5.0   \n",
       "2        Within 2 Months          2199.0                   1.0   \n",
       "3              Immediate          2201.0                   5.0   \n",
       "4       More than 1 Year          2199.0                   1.0   \n",
       "\n",
       "   further_action_required  immediate_action_required_and_performed  \\\n",
       "0                      0.0                                      0.0   \n",
       "1                      0.0                                      1.0   \n",
       "2                      0.0                                      0.0   \n",
       "3                      1.0                                      1.0   \n",
       "4                      0.0                                      1.0   \n",
       "\n",
       "                              immediate_action_taken  \\\n",
       "0                                                NaN   \n",
       "1                               Turn off water valve   \n",
       "2                                                NaN   \n",
       "3            Stopped work and had employee lock out.   \n",
       "4  Informed Pierre B and Curtis G of the hazard a...   \n",
       "\n",
       "                                  recommended_action  ...  Site  SiteLevel  \\\n",
       "0  Update JSHA to identify the hazard of slippery...  ...  3311       4708   \n",
       "1  Discuss with the crews the importance of turni...  ...  3317       4331   \n",
       "2  To not have to tie off when loading round out ...  ...  3317       4320   \n",
       "3  Matt to email Bristol to inform them of incide...  ...  3317       4324   \n",
       "4                                                NaN  ...  3317       4324   \n",
       "\n",
       "                      Workplace  per_first_name per_last_name per_gender  \\\n",
       "0             Main access drift            Adam        Brouse     6454.0   \n",
       "1                  1860 up ramp            Sean       Thibert     6454.0   \n",
       "2              Nickel Rim South          Curtis        Giroux     6454.0   \n",
       "3  Shop, 1780L, 1820L, and Ramp         Bradley       Hofford     6454.0   \n",
       "4  Shop, 1780L, 1820L, and Ramp         Bradley       Hofford     6454.0   \n",
       "\n",
       "  ReportSent  Supervisor_Name  action_status sha_enable  \n",
       "0        2.0      Adam Brouse       COMPLETE          1  \n",
       "1        2.0     Sean Thibert       COMPLETE          1  \n",
       "2        2.0    Curtis Giroux       COMPLETE          1  \n",
       "3        2.0  Bradley Hofford       COMPLETE          1  \n",
       "4        2.0  Bradley Hofford       Complete          1  \n",
       "\n",
       "[5 rows x 22 columns]"
      ]
     },
     "execution_count": 183,
     "metadata": {},
     "output_type": "execute_result"
    }
   ],
   "source": [
    "hazardData = hazardData.drop_duplicates()\n",
    "hazardData.head(5)"
   ]
  },
  {
   "cell_type": "code",
   "execution_count": 185,
   "metadata": {},
   "outputs": [
    {
     "name": "stdout",
     "output_type": "stream",
     "text": [
      "Not Specified                                                                                                                                                                                                                                                                                                              5761\n",
      "Yes                                                                                                                                                                                                                                                                                                                          27\n",
      " test immediate action taken                                                                                                                                                                                                                                                                                                 17\n",
      "Yes                                                                                                                                                                                                                                                                                                                          15\n",
      "Selenium test immediate action taken                                                                                                                                                                                                                                                                                         14\n",
      "                                                                                                                                                                                                                                                                                                                           ... \n",
      "Had crew clean out back of Minecat                                                                                                                                                                                                                                                                                            1\n",
      "Myself and Ken Stevens stopped the inspection and took the time to properly organize and dispose the scrap that was left behind by some of our people.                                                                                                                                                                        1\n",
      "Spent half of the shift coaching and showing the proper way to set work areas up for success installed proper barricade, hung sandpiper pumps on the wall, properly ran hoses and hung on cab hooks not pieces of damaged screen, explained to the guys what expectations I personally have a supervisor and as a team.       1\n",
      "Deck cleaned and set up correctly                                                                                                                                                                                                                                                                                             1\n",
      "Left a message to warn people                                                                                                                                                                                                                                                                                                 1\n",
      "Name: immediate_action_taken, Length: 8299, dtype: int64\n",
      "Not Specified                                                                                                                                                                                                                6949\n",
      " test recommended action taken                                                                                                                                                                                                 34\n",
      "Selenium test recommended action taken                                                                                                                                                                                         28\n",
      "Testing                                                                                                                                                                                                                        23\n",
      "Do something                                                                                                                                                                                                                    9\n",
      "                                                                                                                                                                                                                             ... \n",
      "Provided the safety glasses that he was fit tested for                                                                                                                                                                          1\n",
      "Crews PC'd on only using P locations to pull off ramp                                                                                                                                                                           1\n",
      "A written warning will be issued to scissor truck operator for not stopping and calling his supervisor for assistance.                                                                                                          1\n",
      "Coach supervisor when lineing up employees and you are sending someone to an unfamiliar area to work or pick up equipment or material a discussion must take place with regards to the hazard the employee may encounter.       1\n",
      "Fix the table                                                                                                                                                                                                                   1\n",
      "Name: recommended_action, Length: 7251, dtype: int64\n"
     ]
    }
   ],
   "source": [
    "### ------> instead of dropping the null values we are replacing with 'Not Specified' <------- ###   \n",
    "\n",
    "import pandas as pd\n",
    "\n",
    "# Replace NaN values in 'immediate_action_taken' column with 'Not Specified'\n",
    "hazardData['immediate_action_taken'].fillna('Not Specified', inplace=True)\n",
    "\n",
    "# Verify the changes\n",
    "print(hazardData['immediate_action_taken'].value_counts())\n",
    "\n",
    "# ---------------------------------------------------------------------------------- #\n",
    "\n",
    "# Replace NaN values in 'recommended_action' column with 'Not Specified'\n",
    "hazardData['recommended_action'].fillna('Not Specified', inplace=True)\n",
    "\n",
    "# Verify the changes\n",
    "print(hazardData['recommended_action'].value_counts())"
   ]
  },
  {
   "cell_type": "code",
   "execution_count": 186,
   "metadata": {},
   "outputs": [
    {
     "name": "stdout",
     "output_type": "stream",
     "text": [
      "Check duplicates:\n",
      " 0 \n",
      "\n",
      "Check missing values:\n",
      " Hazard_type                                   0\n",
      "Hazard_identification                        31\n",
      "hazard_identification_score                   1\n",
      "Completion_Time_Bucket                        0\n",
      "potential_risk                               51\n",
      "potential_risk_score                          5\n",
      "further_action_required                      13\n",
      "immediate_action_required_and_performed       9\n",
      "immediate_action_taken                        0\n",
      "recommended_action                            0\n",
      "immediate_action_score                     1938\n",
      "completed_action_score                      413\n",
      "Site                                          0\n",
      "SiteLevel                                     0\n",
      "Workplace                                     1\n",
      "per_first_name                                0\n",
      "per_last_name                                 0\n",
      "per_gender                                  140\n",
      "ReportSent                                  293\n",
      "Supervisor_Name                               0\n",
      "action_status                               367\n",
      "sha_enable                                    0\n",
      "dtype: int64 \n",
      "\n",
      "Missing data:\n",
      "                                     Feature  Missing Values  \\\n",
      "0                     Hazard_identification              31   \n",
      "1               hazard_identification_score               1   \n",
      "2                            potential_risk              51   \n",
      "3                      potential_risk_score               5   \n",
      "4                   further_action_required              13   \n",
      "5   immediate_action_required_and_performed               9   \n",
      "6                    immediate_action_score            1938   \n",
      "7                    completed_action_score             413   \n",
      "8                                 Workplace               1   \n",
      "9                                per_gender             140   \n",
      "10                               ReportSent             293   \n",
      "11                            action_status             367   \n",
      "\n",
      "    Percentage of Missing Values  \n",
      "0                           0.22  \n",
      "1                           0.01  \n",
      "2                           0.35  \n",
      "3                           0.03  \n",
      "4                           0.09  \n",
      "5                           0.06  \n",
      "6                          13.46  \n",
      "7                           2.87  \n",
      "8                           0.01  \n",
      "9                           0.97  \n",
      "10                          2.03  \n",
      "11                          2.55   \n",
      "\n"
     ]
    },
    {
     "data": {
      "image/png": "[encoded data removed]",
      "text/plain": [
       "<Figure size 864x576 with 1 Axes>"
      ]
     },
     "metadata": {
      "needs_background": "light"
     },
     "output_type": "display_data"
    }
   ],
   "source": [
    "### -----> Dealing with Duplicates <------ ###\n",
    "\n",
    "\n",
    "def missing_data(df):\n",
    "    print(\"Check duplicates:\\n\", df.duplicated().sum(), \"\\n\")\n",
    "    print(\"Check missing values:\\n\", df.isna().sum(), \"\\n\")\n",
    "    \n",
    "    # Analyzing missing data\n",
    "    missing_data = df.isnull().sum().reset_index()\n",
    "    missing_data.columns = ['Feature', 'Missing Values']\n",
    "    missing_data = missing_data[missing_data['Missing Values'] > 0].reset_index(drop=True)\n",
    "    missing_data['Percentage of Missing Values'] = round((missing_data['Missing Values'] / len(df)) * 100, 2)\n",
    "    print(\"Missing data:\\n\", missing_data, \"\\n\")\n",
    "    \n",
    "    # Plot missing data\n",
    "    fig, ax = plt.subplots(figsize=(12, 8))\n",
    "    colors = sns.color_palette(\"Blues\", len(missing_data))\n",
    "    sns.barplot(x='Feature', y='Percentage of Missing Values', data=missing_data, ax=ax, palette=colors)\n",
    "    ax.set_ylim(0, 100)\n",
    "    ax.set_title('Distribution of Missing Values', fontsize=16)\n",
    "    ax.set_xlabel('Features', fontsize=12)\n",
    "    ax.set_ylabel('Percentage of Missing Values', fontsize=12)\n",
    "    \n",
    "    # Add percentage labels to the bars\n",
    "    for i, bar in enumerate(ax.patches):\n",
    "        height = bar.get_height()\n",
    "        ax.text(bar.get_x() + bar.get_width() / 2, height + 1,\n",
    "                f\"{missing_data['Percentage of Missing Values'].values[i]}%\",\n",
    "                ha='center', va='bottom', fontsize=10)\n",
    "\n",
    "    plt.xticks(rotation=90)\n",
    "    plt.tight_layout()\n",
    "    plt.show()\n",
    "\n",
    "missing_data(hazardData)"
   ]
  },
  {
   "cell_type": "code",
   "execution_count": 187,
   "metadata": {},
   "outputs": [],
   "source": [
    "### ---> Dropping the NULL valeus <--- ###\n",
    "\n",
    "hazardData = hazardData.dropna(subset=['Hazard_identification', 'potential_risk','potential_risk_score','further_action_required',\n",
    "                                       'completed_action_score','Workplace','per_gender','ReportSent','action_status', 'immediate_action_score'])\n"
   ]
  },
  {
   "cell_type": "code",
   "execution_count": 188,
   "metadata": {},
   "outputs": [
    {
     "name": "stdout",
     "output_type": "stream",
     "text": [
      "Male      11251\n",
      "Female       74\n",
      "Name: per_gender, dtype: int64\n",
      "Null values :  0\n",
      "complete      11295\n",
      "incomplete       30\n",
      "Name: action_status, dtype: int64\n"
     ]
    }
   ],
   "source": [
    "### ----> Assigning the values to MALE/FEMALE <---- ###\n",
    "\n",
    "# Replace values in 'per_gender' column\n",
    "hazardData['per_gender'] = hazardData['per_gender'].replace({6454.0: 'Male', 8610.0: 'Female'})\n",
    "\n",
    "# Verify the updated DataFrame\n",
    "print(hazardData['per_gender'].value_counts())\n",
    "\n",
    "print(\"Null values : \",hazardData['per_gender'].isnull().sum())\n",
    "\n",
    "# Drop rows with null values in 'per_gender' column\n",
    "hazardData.dropna(subset=['per_gender'], inplace=True)\n",
    "\n",
    "# Drop rows with null values in 'immediate_action_score' column\n",
    "hazardData.dropna(subset=['immediate_action_score'], inplace=True)\n",
    "\n",
    "hazardData.shape\n",
    "\n",
    "#-------------------------------------------------------------#\n",
    "\n",
    "### ----> Making the 'action_status' in Lower case <---- ###\n",
    "\n",
    "# Convert 'action_status' values to lowercase\n",
    "hazardData['action_status'] = hazardData['action_status'].str.lower()\n",
    "\n",
    "# Verify the updated DataFrame\n",
    "print(hazardData['action_status'].value_counts())"
   ]
  },
  {
   "cell_type": "code",
   "execution_count": 189,
   "metadata": {},
   "outputs": [],
   "source": [
    "### ----> Dropping unnessary columns <----- ###\n",
    "\n",
    "columns_to_drop2 = ['per_gender','action_status']\n",
    "hazardData.drop(columns=columns_to_drop2, inplace=True)"
   ]
  },
  {
   "cell_type": "markdown",
   "metadata": {},
   "source": [
    "## Visualization"
   ]
  },
  {
   "cell_type": "code",
   "execution_count": 190,
   "metadata": {},
   "outputs": [
    {
     "data": {
      "image/png": "[encoded data removed]",
      "text/plain": [
       "<Figure size 1440x576 with 1 Axes>"
      ]
     },
     "metadata": {
      "needs_background": "light"
     },
     "output_type": "display_data"
    }
   ],
   "source": [
    "#1 \n",
    "\n",
    "# Bar chart for count of hazards based on Hazard Type\n",
    "plt.figure(figsize=(20, 8))\n",
    "ax = sns.countplot(x='Hazard_type', data=hazardData)\n",
    "\n",
    "# Add values on top of each bar\n",
    "for p in ax.patches:\n",
    "    ax.annotate(format(p.get_height(), '.0f'),\n",
    "                (p.get_x() + p.get_width() / 2., p.get_height()),\n",
    "                ha='center', va='center', xytext=(0, 5),\n",
    "                textcoords='offset points', fontsize=12)\n",
    "\n",
    "plt.title('Count of Hazards by Hazard Type')\n",
    "plt.show()"
   ]
  },
  {
   "cell_type": "code",
   "execution_count": 191,
   "metadata": {},
   "outputs": [
    {
     "data": {
      "image/png": "[encoded data removed]",
      "text/plain": [
       "<Figure size 1080x432 with 1 Axes>"
      ]
     },
     "metadata": {
      "needs_background": "light"
     },
     "output_type": "display_data"
    }
   ],
   "source": [
    "# Bar chart for count of hazards based on Completion_Time_Bucket\n",
    "plt.figure(figsize=(15, 6))\n",
    "ax = sns.countplot(x='Completion_Time_Bucket', data=hazardData)\n",
    "\n",
    "# Add values on top of each bar\n",
    "for p in ax.patches:\n",
    "    ax.annotate(format(p.get_height(), '.0f'),\n",
    "                (p.get_x() + p.get_width() / 2., p.get_height()),\n",
    "                ha='center', va='center', xytext=(0, 5),\n",
    "                textcoords='offset points', fontsize=12)\n",
    "\n",
    "plt.title('Count of Hazards by Completion Time Bucket')\n",
    "plt.show()"
   ]
  },
  {
   "cell_type": "code",
   "execution_count": 194,
   "metadata": {},
   "outputs": [
    {
     "data": {
      "image/png": "[encoded data removed]",
      "text/plain": [
       "<Figure size 576x432 with 1 Axes>"
      ]
     },
     "metadata": {
      "needs_background": "light"
     },
     "output_type": "display_data"
    }
   ],
   "source": [
    "# Box plot for hazard score distribution based on Hazard_type\n",
    "plt.figure(figsize=(8,6))\n",
    "sns.boxplot(x='Hazard_type', y='hazard_identification_score', data=hazardData)\n",
    "plt.title('Hazard Score Distribution by Hazard Type')\n",
    "plt.xticks(rotation=90)\n",
    "plt.show()"
   ]
  },
  {
   "cell_type": "code",
   "execution_count": 195,
   "metadata": {},
   "outputs": [
    {
     "data": {
      "image/png": "[encoded data removed]",
      "text/plain": [
       "<Figure size 504x288 with 1 Axes>"
      ]
     },
     "metadata": {
      "needs_background": "light"
     },
     "output_type": "display_data"
    }
   ],
   "source": [
    "# Histogram for immediate_action_score\n",
    "plt.figure(figsize=(7,4))\n",
    "sns.histplot(data=hazardData, x='immediate_action_score', kde=True)\n",
    "plt.title('Distribution of Immediate Action Score')\n",
    "plt.show()"
   ]
  },
  {
   "cell_type": "code",
   "execution_count": 192,
   "metadata": {},
   "outputs": [
    {
     "name": "stderr",
     "output_type": "stream",
     "text": [
      "No artists with labels found to put in legend.  Note that artists whose label start with an underscore are ignored when legend() is called with no argument.\n"
     ]
    },
    {
     "data": {
      "image/png": "[encoded data removed]",
      "text/plain": [
       "<Figure size 720x432 with 3 Axes>"
      ]
     },
     "metadata": {
      "needs_background": "light"
     },
     "output_type": "display_data"
    }
   ],
   "source": [
    "\n",
    "# Prepare the data for the bar chart\n",
    "bar_data = hazardData['Hazard_identification'].value_counts().sort_index()\n",
    "\n",
    "# Prepare the data for the line chart\n",
    "line_data = hazardData.groupby('Hazard_identification')['immediate_action_required_and_performed'].mean().sort_index()\n",
    "\n",
    "# Create the combination graph\n",
    "fig, ax1 = plt.subplots(figsize=(10, 6))  # Adjust the figure size as needed\n",
    "\n",
    "# Bar chart\n",
    "bar_data.plot(kind='bar', color='steelblue', alpha=0.7, label='Hazard Identification', ax=ax1)\n",
    "ax1.set_ylabel('Count')\n",
    "ax1.tick_params(axis='y')\n",
    "ax1.legend(loc='upper left')\n",
    "\n",
    "# Line chart\n",
    "ax2 = ax1.twinx()\n",
    "line_data.plot(secondary_y=True, color='darkorange', linestyle='--', marker='o', label='Avg. Immediate Action Required', ax=ax2)\n",
    "ax2.set_ylabel('Average Immediate Action Required')\n",
    "ax2.tick_params(axis='y')\n",
    "ax2.legend(loc='upper right')\n",
    "\n",
    "# Customize the graph\n",
    "plt.title('Hazard Identification and Average Immediate Action Required')\n",
    "plt.xlabel('Hazard Identification')\n",
    "plt.xticks(rotation=45)\n",
    "plt.grid(axis='y', linestyle='--')\n",
    "plt.tight_layout()\n",
    "\n",
    "plt.show()"
   ]
  },
  {
   "cell_type": "code",
   "execution_count": 193,
   "metadata": {},
   "outputs": [
    {
     "name": "stderr",
     "output_type": "stream",
     "text": [
      "No artists with labels found to put in legend.  Note that artists whose label start with an underscore are ignored when legend() is called with no argument.\n"
     ]
    },
    {
     "data": {
      "image/png": "[encoded data removed]",
      "text/plain": [
       "<Figure size 720x432 with 3 Axes>"
      ]
     },
     "metadata": {
      "needs_background": "light"
     },
     "output_type": "display_data"
    }
   ],
   "source": [
    "#5\n",
    "\n",
    "# Prepare the data for the bar chart\n",
    "bar_data = hazardData['Hazard_type'].value_counts().sort_values(ascending=False)\n",
    "\n",
    "# Prepare the data for the line chart\n",
    "line_data = hazardData.groupby('Hazard_type')['potential_risk'].mean().sort_values(ascending=False)\n",
    "\n",
    "# Create the combination graph\n",
    "fig, ax1 = plt.subplots(figsize=(10, 6))  # Adjust the figure size as needed\n",
    "\n",
    "# Bar chart\n",
    "bar_data.plot(kind='bar', color='steelblue', alpha=0.7, label='Hazard Type', ax=ax1)\n",
    "ax1.set_ylabel('Count')\n",
    "ax1.tick_params(axis='y')\n",
    "ax1.legend(loc='upper left')\n",
    "\n",
    "# Line chart\n",
    "ax2 = ax1.twinx()\n",
    "line_data.plot(secondary_y=True, color='darkorange', linestyle='--', marker='o', label='Average Potential Risk', ax=ax2)\n",
    "ax2.set_ylabel('Average Potential Risk')\n",
    "ax2.tick_params(axis='y')\n",
    "ax2.legend(loc='upper right')\n",
    "\n",
    "# Customize the graph\n",
    "plt.title('Hazard Type and Average Potential Risk')\n",
    "plt.xlabel('Hazard Type')\n",
    "plt.xticks(rotation=45)\n",
    "plt.grid(axis='y', linestyle='--')\n",
    "plt.tight_layout()\n",
    "\n",
    "plt.show()"
   ]
  },
  {
   "cell_type": "markdown",
   "metadata": {},
   "source": [
    "## Preparing for Machine Learning Model"
   ]
  },
  {
   "cell_type": "code",
   "execution_count": 196,
   "metadata": {},
   "outputs": [
    {
     "name": "stdout",
     "output_type": "stream",
     "text": [
      "Hazard_type                 12\n",
      "Hazard_identification       38\n",
      "Completion_Time_Bucket       5\n",
      "immediate_action_taken    7780\n",
      "recommended_action        5104\n",
      "Workplace                 3946\n",
      "Supervisor_Name            329\n",
      "dtype: int64\n"
     ]
    }
   ],
   "source": [
    "### -----> 'Hazard_Type' <------- ###\n",
    "\n",
    "cols = ['Hazard_type', 'Hazard_identification', 'Completion_Time_Bucket', 'immediate_action_taken', 'recommended_action', 'Workplace', 'Supervisor_Name']\n",
    "print(hazardData[cols].nunique())"
   ]
  },
  {
   "cell_type": "code",
   "execution_count": 197,
   "metadata": {},
   "outputs": [
    {
     "name": "stdout",
     "output_type": "stream",
     "text": [
      "       Hazard_type  Hazard_identification  hazard_identification_score  \\\n",
      "1                2                     34                          4.0   \n",
      "3               10                      8                          4.0   \n",
      "5               11                     17                          3.0   \n",
      "6               11                     10                          2.0   \n",
      "8               11                     26                          3.0   \n",
      "...            ...                    ...                          ...   \n",
      "14425            8                      1                          5.0   \n",
      "14427            2                      0                          4.0   \n",
      "14428            2                      0                          4.0   \n",
      "14438            5                      1                          5.0   \n",
      "14474            2                      0                          4.0   \n",
      "\n",
      "       Completion_Time_Bucket  potential_risk  potential_risk_score  \\\n",
      "1                           0          2201.0                   5.0   \n",
      "3                           0          2201.0                   5.0   \n",
      "5                           0          2199.0                   1.0   \n",
      "6                           0          2200.0                   3.0   \n",
      "8                           0          2200.0                   3.0   \n",
      "...                       ...             ...                   ...   \n",
      "14425                       0          3137.0                   8.0   \n",
      "14427                       1          3136.0                  10.0   \n",
      "14428                       1          3136.0                  10.0   \n",
      "14438                       1          3138.0                   1.0   \n",
      "14474                       1          3136.0                  10.0   \n",
      "\n",
      "       further_action_required  immediate_action_required_and_performed  \\\n",
      "1                          0.0                                      1.0   \n",
      "3                          1.0                                      1.0   \n",
      "5                          1.0                                      1.0   \n",
      "6                          1.0                                      1.0   \n",
      "8                          0.0                                      1.0   \n",
      "...                        ...                                      ...   \n",
      "14425                      1.0                                      1.0   \n",
      "14427                      0.0                                      1.0   \n",
      "14428                      0.0                                      1.0   \n",
      "14438                      1.0                                      1.0   \n",
      "14474                      1.0                                      0.0   \n",
      "\n",
      "       immediate_action_taken  recommended_action  immediate_action_score  \\\n",
      "1                        7138                1076                    10.0   \n",
      "3                        6394                2599                    10.0   \n",
      "5                        2765                1846                     3.0   \n",
      "6                        2768                1845                     3.0   \n",
      "8                        2373                2943                    10.0   \n",
      "...                       ...                 ...                     ...   \n",
      "14425                    6741                4721                     1.0   \n",
      "14427                    6746                2949                     8.0   \n",
      "14428                    6586                2949                     8.0   \n",
      "14438                    7274                1117                     1.0   \n",
      "14474                    3714                4725                     0.0   \n",
      "\n",
      "       completed_action_score  Site  SiteLevel  Workplace per_first_name  \\\n",
      "1                         3.0  3317       4331        381           Sean   \n",
      "3                         3.0  3317       4324       3001        Bradley   \n",
      "5                        10.0  3317       4329       2622        Bradley   \n",
      "6                         3.0  3317       4329       2622        Bradley   \n",
      "8                        10.0  3317       4329       2622        Bradley   \n",
      "...                       ...   ...        ...        ...            ...   \n",
      "14425                     0.0  3306       4386       3241           Adam   \n",
      "14427                     0.0  6697       6182       3882        Manmeet   \n",
      "14428                     0.0  6697       6182       3882        Manmeet   \n",
      "14438                     0.0  6697       6182       3242           Adam   \n",
      "14474                     0.0  6697       6182       3883        Manmeet   \n",
      "\n",
      "      per_last_name  ReportSent  Supervisor_Name  sha_enable  \n",
      "1           Thibert         2.0              296           1  \n",
      "3           Hofford         2.0               30           1  \n",
      "5           Hofford         2.0               30           1  \n",
      "6           Hofford         2.0               30           1  \n",
      "8           Hofford         2.0               30           1  \n",
      "...             ...         ...              ...         ...  \n",
      "14425          Best         0.0                2           1  \n",
      "14427        Duggal         0.0              193           1  \n",
      "14428        Duggal         0.0              193           1  \n",
      "14438          Best         0.0                2           1  \n",
      "14474        Duggal         0.0              193           1  \n",
      "\n",
      "[11325 rows x 20 columns]\n"
     ]
    }
   ],
   "source": [
    "### -----> All categorical variables ready for Lable Encode <---- ###\n",
    "\n",
    "from sklearn.preprocessing import LabelEncoder\n",
    "\n",
    "cols2 = ['Hazard_identification', 'immediate_action_taken', 'recommended_action', 'Workplace', 'Completion_Time_Bucket','Hazard_type', 'Supervisor_Name']\n",
    "encoder = LabelEncoder()\n",
    "for col in cols2:\n",
    "    hazardData[col] = encoder.fit_transform(hazardData[col])\n",
    "\n",
    "# Print the updated DataFrame\n",
    "print(hazardData)"
   ]
  },
  {
   "cell_type": "code",
   "execution_count": 198,
   "metadata": {},
   "outputs": [],
   "source": [
    "### ----> Dropping unnessary columns <----- ###\n",
    "\n",
    "columns_to_drop2 = ['per_first_name','per_last_name']\n",
    "hazardData.drop(columns=columns_to_drop2, inplace=True)"
   ]
  },
  {
   "cell_type": "code",
   "execution_count": 199,
   "metadata": {},
   "outputs": [
    {
     "name": "stdout",
     "output_type": "stream",
     "text": [
      "<class 'pandas.core.frame.DataFrame'>\n",
      "Int64Index: 11325 entries, 1 to 14474\n",
      "Data columns (total 18 columns):\n",
      " #   Column                                   Non-Null Count  Dtype  \n",
      "---  ------                                   --------------  -----  \n",
      " 0   Hazard_type                              11325 non-null  int64  \n",
      " 1   Hazard_identification                    11325 non-null  int64  \n",
      " 2   hazard_identification_score              11325 non-null  float64\n",
      " 3   Completion_Time_Bucket                   11325 non-null  int64  \n",
      " 4   potential_risk                           11325 non-null  float64\n",
      " 5   potential_risk_score                     11325 non-null  float64\n",
      " 6   further_action_required                  11325 non-null  float64\n",
      " 7   immediate_action_required_and_performed  11325 non-null  float64\n",
      " 8   immediate_action_taken                   11325 non-null  int64  \n",
      " 9   recommended_action                       11325 non-null  int64  \n",
      " 10  immediate_action_score                   11325 non-null  float64\n",
      " 11  completed_action_score                   11325 non-null  float64\n",
      " 12  Site                                     11325 non-null  int64  \n",
      " 13  SiteLevel                                11325 non-null  int64  \n",
      " 14  Workplace                                11325 non-null  int64  \n",
      " 15  ReportSent                               11325 non-null  float64\n",
      " 16  Supervisor_Name                          11325 non-null  int64  \n",
      " 17  sha_enable                               11325 non-null  int64  \n",
      "dtypes: float64(8), int64(10)\n",
      "memory usage: 1.6 MB\n"
     ]
    }
   ],
   "source": [
    "hazardData.info()"
   ]
  },
  {
   "cell_type": "code",
   "execution_count": 200,
   "metadata": {},
   "outputs": [
    {
     "data": {
      "text/plain": [
       "Hazard_type                                0\n",
       "Hazard_identification                      0\n",
       "hazard_identification_score                0\n",
       "Completion_Time_Bucket                     0\n",
       "potential_risk                             0\n",
       "potential_risk_score                       0\n",
       "further_action_required                    0\n",
       "immediate_action_required_and_performed    0\n",
       "immediate_action_taken                     0\n",
       "recommended_action                         0\n",
       "immediate_action_score                     0\n",
       "completed_action_score                     0\n",
       "Site                                       0\n",
       "SiteLevel                                  0\n",
       "Workplace                                  0\n",
       "ReportSent                                 0\n",
       "Supervisor_Name                            0\n",
       "sha_enable                                 0\n",
       "dtype: int64"
      ]
     },
     "execution_count": 200,
     "metadata": {},
     "output_type": "execute_result"
    }
   ],
   "source": [
    "### -----> This pure data without having nay null values <---- ###\n",
    "\n",
    "hazardData.isnull().sum()"
   ]
  },
  {
   "cell_type": "code",
   "execution_count": 201,
   "metadata": {},
   "outputs": [
    {
     "data": {
      "text/plain": [
       "1    6392\n",
       "0    3252\n",
       "3     657\n",
       "2     526\n",
       "4     498\n",
       "Name: Completion_Time_Bucket, dtype: int64"
      ]
     },
     "execution_count": 201,
     "metadata": {},
     "output_type": "execute_result"
    }
   ],
   "source": [
    "### ----> Prepration for Traget Variable : Completion_Time_Bucket <----- ###\n",
    "\n",
    "hazardData['Completion_Time_Bucket'].unique()\n",
    "hazardData['Completion_Time_Bucket'].value_counts()"
   ]
  },
  {
   "cell_type": "markdown",
   "metadata": {},
   "source": [
    "## ML Model : XG-Boost (1)"
   ]
  },
  {
   "cell_type": "code",
   "execution_count": 202,
   "metadata": {},
   "outputs": [],
   "source": [
    "from sklearn.model_selection import train_test_split\n",
    "from sklearn import datasets, linear_model\n",
    "from scipy import stats\n",
    "from sklearn.preprocessing import RobustScaler, StandardScaler\n",
    "from sklearn import svm\n",
    "from sklearn.metrics import precision_score, recall_score, f1_score, accuracy_score\n",
    "from sklearn.inspection import permutation_importance\n",
    "from sklearn.metrics import classification_report"
   ]
  },
  {
   "cell_type": "code",
   "execution_count": 203,
   "metadata": {},
   "outputs": [],
   "source": [
    "hazardData.drop(columns='Supervisor_Name', inplace=True)"
   ]
  },
  {
   "cell_type": "code",
   "execution_count": 204,
   "metadata": {},
   "outputs": [],
   "source": [
    "#### ---------> Training and Testing split <----------- ###\n",
    "\n",
    "x = hazardData.drop(['Completion_Time_Bucket'],axis=1)\n",
    "y = hazardData['Completion_Time_Bucket']\n",
    "\n",
    "feature_names = x.columns.tolist()\n",
    "x_train, x_test, y_train, y_test = train_test_split(x, y, test_size=0.30, random_state=42)"
   ]
  },
  {
   "cell_type": "code",
   "execution_count": 205,
   "metadata": {},
   "outputs": [
    {
     "name": "stdout",
     "output_type": "stream",
     "text": [
      "Before Upsampling, counts of label '0': 2264\n",
      "Before Upsampling, counts of label '01': 4498 \n",
      "\n",
      "Before Upsampling, counts of label '2': 359\n",
      "Before Upsampling, counts of label '3': 468 \n",
      "\n",
      "Before Upsampling, counts of label '4': 338\n",
      "After Upsampling, counts of label '0': 4498\n",
      "After Upsampling, counts of label '1': 4498 \n",
      "\n",
      "After Upsampling, counts of label '2': 4498\n",
      "After Upsampling, counts of label '3': 4498 \n",
      "\n",
      "After Upsampling, counts of label '4': 4498\n"
     ]
    }
   ],
   "source": [
    "### -----> Applying SMOTE <----- ###\n",
    "\n",
    "from imblearn.over_sampling import RandomOverSampler\n",
    "from imblearn.under_sampling import RandomUnderSampler\n",
    "\n",
    "\n",
    "print(\"Before Upsampling, counts of label '0': {}\".format(sum(y_train==0))) \n",
    "print (\"Before Upsampling, counts of label '01': {} \\n\".format(sum(y_train==1)))\n",
    "print(\"Before Upsampling, counts of label '2': {}\".format(sum(y_train==2))) \n",
    "print (\"Before Upsampling, counts of label '3': {} \\n\".format(sum(y_train==3)))\n",
    "print(\"Before Upsampling, counts of label '4': {}\".format(sum(y_train==4))) \n",
    "#print (\"Before Upsampling, counts of label '5': {} \\n\".format(sum(y_train==5)))\n",
    "#print (\"Before Upsampling, counts of label '6': {} \\n\".format(sum(y_train==6)))\n",
    "\n",
    "# Perform oversampling on minority classes\n",
    "ros = RandomOverSampler(sampling_strategy='not majority', random_state=42)\n",
    "x_train_oversampled, y_train_oversampled = ros.fit_resample(x_train, y_train)\n",
    "\n",
    "# Perform undersampling on majority class\n",
    "rus = RandomUnderSampler(sampling_strategy='majority', random_state=42)\n",
    "x_train_balanced, y_train_balanced = rus.fit_resample(x_train_oversampled, y_train_oversampled)\n",
    "\n",
    "print(\"After Upsampling, counts of label '0': {}\".format(sum(y_train_balanced==0))) \n",
    "print (\"After Upsampling, counts of label '1': {} \\n\".format(sum(y_train_balanced==1)))\n",
    "print(\"After Upsampling, counts of label '2': {}\".format(sum(y_train_balanced==2))) \n",
    "print (\"After Upsampling, counts of label '3': {} \\n\".format(sum(y_train_balanced==3)))\n",
    "print(\"After Upsampling, counts of label '4': {}\".format(sum(y_train_balanced==4))) \n",
    "#print (\"Before Upsampling, counts of label '5': {} \\n\".format(sum(y_train_balanced==5)))\n",
    "#print (\"Before Upsampling, counts of label '6': {} \\n\".format(sum(y_train_balanced==6)))"
   ]
  },
  {
   "cell_type": "code",
   "execution_count": 206,
   "metadata": {},
   "outputs": [
    {
     "name": "stdout",
     "output_type": "stream",
     "text": [
      "Optimal number of features : 7\n"
     ]
    }
   ],
   "source": [
    "### ---------> RFE with Cross Validation <--------- #### \n",
    "\n",
    "from sklearn.feature_selection import RFE\n",
    "from xgboost import XGBClassifier\n",
    "from sklearn.preprocessing import StandardScaler\n",
    "import time\n",
    "from sklearn.feature_selection import RFECV\n",
    "from sklearn.model_selection import StratifiedKFold\n",
    "\n",
    "model1 = XGBClassifier()\n",
    "\n",
    "# create RFE selector with cross-validation and fit it to the data\n",
    "rfecv = RFECV(estimator = model1, step=1, cv=StratifiedKFold(5), scoring='accuracy')\n",
    "rfecv.fit(x_train, y_train)   ## x_trin_balanced / y_train_balanced \n",
    "\n",
    "# print the optimal number of features\n",
    "print(\"Optimal number of features : %d\" % rfecv.n_features_)"
   ]
  },
  {
   "cell_type": "code",
   "execution_count": 207,
   "metadata": {},
   "outputs": [
    {
     "name": "stdout",
     "output_type": "stream",
     "text": [
      "XGBClassifier\n",
      "Selected Features from this model : \n",
      "                          Selected Features\n",
      "0                           potential_risk\n",
      "1                  further_action_required\n",
      "2  immediate_action_required_and_performed\n",
      "3                   completed_action_score\n",
      "4                                     Site\n",
      "5                                SiteLevel\n",
      "6                                Workplace\n"
     ]
    }
   ],
   "source": [
    "### -------> Feature selection with RFE <-------- ###\n",
    "rfe = RFE(model1, n_features_to_select=7)        \n",
    "X_train_rfe = rfe.fit_transform(x_train, y_train)\n",
    "X_test_rfe = rfe.transform(x_test) \n",
    "selected_features = [feature_names[i] for i in range(len(feature_names)) if rfe.support_[i]]\n",
    "selected_features_df = pd.DataFrame(selected_features, columns=['Selected Features'])\n",
    "\n",
    "print(f\"{type(model1).__name__}\")\n",
    "print(\"Selected Features from this model : \\n\", selected_features_df)"
   ]
  },
  {
   "cell_type": "code",
   "execution_count": 208,
   "metadata": {},
   "outputs": [
    {
     "name": "stdout",
     "output_type": "stream",
     "text": [
      "Execution time: 19.66 seconds\n",
      "XGBClassifier: Selected features = 7, Accuracy = 0.82, Precision = 0.8003708523379539\n",
      "Classification Report : \n",
      "               precision    recall  f1-score   support\n",
      "\n",
      "           0       0.70      0.85      0.77       988\n",
      "           1       0.98      0.98      0.98      1894\n",
      "           2       0.38      0.24      0.30       167\n",
      "           3       0.29      0.20      0.24       189\n",
      "           4       0.30      0.17      0.22       160\n",
      "\n",
      "    accuracy                           0.82      3398\n",
      "   macro avg       0.53      0.49      0.50      3398\n",
      "weighted avg       0.80      0.82      0.81      3398\n",
      "\n"
     ]
    }
   ],
   "source": [
    "start_time = time.time() \n",
    "\n",
    "model = XGBClassifier(learning_rate=0.1, max_depth=7, n_estimators=500)\n",
    "\n",
    "# Training the model\n",
    "model.fit(X_train_rfe, y_train)\n",
    "\n",
    "# Testing the model\n",
    "y_pred = model.predict(X_test_rfe)\n",
    "acc = accuracy_score(y_test, y_pred)\n",
    "prec = precision_score(y_test, y_pred, average='weighted')\n",
    "\n",
    "end_time = time.time()\n",
    "execution_time = end_time - start_time\n",
    "\n",
    "print(f\"Execution time: {execution_time:.2f} seconds\")\n",
    "\n",
    "print(f\"{type(model).__name__}: Selected features = {X_train_rfe.shape[1]}, Accuracy = {acc:.2f}, Precision = {prec}\") \n",
    "print(\"Classification Report : \\n\", classification_report(y_test, y_pred))  "
   ]
  },
  {
   "cell_type": "markdown",
   "metadata": {},
   "source": [
    "## ML Model : XG-Boost (2) - with balanced data"
   ]
  },
  {
   "cell_type": "code",
   "execution_count": 209,
   "metadata": {},
   "outputs": [],
   "source": [
    "from sklearn.model_selection import train_test_split\n",
    "from sklearn import datasets, linear_model\n",
    "from scipy import stats\n",
    "from sklearn.preprocessing import RobustScaler, StandardScaler\n",
    "from sklearn import svm\n",
    "from sklearn.metrics import precision_score, recall_score, f1_score, accuracy_score\n",
    "from sklearn.inspection import permutation_importance\n",
    "from sklearn.metrics import classification_report"
   ]
  },
  {
   "cell_type": "code",
   "execution_count": 210,
   "metadata": {},
   "outputs": [],
   "source": [
    "#### ---------> Training and Testing split <----------- ###\n",
    "\n",
    "x = hazardData.drop(['Completion_Time_Bucket'],axis=1)\n",
    "y = hazardData['Completion_Time_Bucket']\n",
    "\n",
    "feature_names = x.columns.tolist()\n",
    "x_train, x_test, y_train, y_test = train_test_split(x, y, test_size=0.30, random_state=42)"
   ]
  },
  {
   "cell_type": "code",
   "execution_count": 211,
   "metadata": {},
   "outputs": [
    {
     "name": "stdout",
     "output_type": "stream",
     "text": [
      "Before Upsampling, counts of label '0': 2264\n",
      "Before Upsampling, counts of label '01': 4498 \n",
      "\n",
      "Before Upsampling, counts of label '2': 359\n",
      "Before Upsampling, counts of label '3': 468 \n",
      "\n",
      "Before Upsampling, counts of label '4': 338\n",
      "After Upsampling, counts of label '0': 4498\n",
      "After Upsampling, counts of label '1': 4498 \n",
      "\n",
      "After Upsampling, counts of label '2': 4498\n",
      "After Upsampling, counts of label '3': 4498 \n",
      "\n",
      "After Upsampling, counts of label '4': 4498\n"
     ]
    }
   ],
   "source": [
    "### -----> Applying SMOTE <----- ###\n",
    "\n",
    "from imblearn.over_sampling import RandomOverSampler\n",
    "from imblearn.under_sampling import RandomUnderSampler\n",
    "\n",
    "\n",
    "print(\"Before Upsampling, counts of label '0': {}\".format(sum(y_train==0))) \n",
    "print (\"Before Upsampling, counts of label '01': {} \\n\".format(sum(y_train==1)))\n",
    "print(\"Before Upsampling, counts of label '2': {}\".format(sum(y_train==2))) \n",
    "print (\"Before Upsampling, counts of label '3': {} \\n\".format(sum(y_train==3)))\n",
    "print(\"Before Upsampling, counts of label '4': {}\".format(sum(y_train==4))) \n",
    "#print (\"Before Upsampling, counts of label '5': {} \\n\".format(sum(y_train==5)))\n",
    "#print (\"Before Upsampling, counts of label '6': {} \\n\".format(sum(y_train==6)))\n",
    "\n",
    "# Perform oversampling on minority classes\n",
    "ros = RandomOverSampler(sampling_strategy='not majority', random_state=42)\n",
    "x_train_oversampled, y_train_oversampled = ros.fit_resample(x_train, y_train)\n",
    "\n",
    "# Perform undersampling on majority class\n",
    "rus = RandomUnderSampler(sampling_strategy='majority', random_state=42)\n",
    "x_train_balanced, y_train_balanced = rus.fit_resample(x_train_oversampled, y_train_oversampled)\n",
    "\n",
    "print(\"After Upsampling, counts of label '0': {}\".format(sum(y_train_balanced==0))) \n",
    "print (\"After Upsampling, counts of label '1': {} \\n\".format(sum(y_train_balanced==1)))\n",
    "print(\"After Upsampling, counts of label '2': {}\".format(sum(y_train_balanced==2))) \n",
    "print (\"After Upsampling, counts of label '3': {} \\n\".format(sum(y_train_balanced==3)))\n",
    "print(\"After Upsampling, counts of label '4': {}\".format(sum(y_train_balanced==4))) \n",
    "#print (\"Before Upsampling, counts of label '5': {} \\n\".format(sum(y_train_balanced==5)))\n",
    "#print (\"Before Upsampling, counts of label '6': {} \\n\".format(sum(y_train_balanced==6)))"
   ]
  },
  {
   "cell_type": "code",
   "execution_count": 212,
   "metadata": {},
   "outputs": [
    {
     "name": "stdout",
     "output_type": "stream",
     "text": [
      "Optimal number of features : 13\n"
     ]
    }
   ],
   "source": [
    "### ---------> RFE with Cross Validation <--------- #### \n",
    "\n",
    "from sklearn.feature_selection import RFE\n",
    "from xgboost import XGBClassifier\n",
    "from sklearn.preprocessing import StandardScaler\n",
    "import time\n",
    "from sklearn.feature_selection import RFECV\n",
    "from sklearn.model_selection import StratifiedKFold\n",
    "\n",
    "model1 = XGBClassifier()\n",
    "\n",
    "# create RFE selector with cross-validation and fit it to the data\n",
    "rfecv = RFECV(estimator = model1, step=1, cv=StratifiedKFold(5), scoring='accuracy')\n",
    "rfecv.fit(x_train_balanced, y_train_balanced)   ## x_trin_balanced / y_train_balanced \n",
    "\n",
    "# print the optimal number of features\n",
    "print(\"Optimal number of features : %d\" % rfecv.n_features_)"
   ]
  },
  {
   "cell_type": "code",
   "execution_count": 132,
   "metadata": {},
   "outputs": [
    {
     "name": "stdout",
     "output_type": "stream",
     "text": [
      "XGBClassifier\n",
      "Selected Features from this model : \n",
      "                           Selected Features\n",
      "0                               Hazard_type\n",
      "1                     Hazard_identification\n",
      "2               hazard_identification_score\n",
      "3                            potential_risk\n",
      "4                   further_action_required\n",
      "5   immediate_action_required_and_performed\n",
      "6                    immediate_action_taken\n",
      "7                        recommended_action\n",
      "8                    immediate_action_score\n",
      "9                    completed_action_score\n",
      "10                                     Site\n",
      "11                                SiteLevel\n",
      "12                                Workplace\n"
     ]
    }
   ],
   "source": [
    "### -------> Feature selection with RFE <-------- ###\n",
    "\n",
    "rfe = RFE(model1, n_features_to_select=13)        \n",
    "X_train_rfe = rfe.fit_transform(x_train_balanced, y_train_balanced)\n",
    "X_test_rfe = rfe.transform(x_test) \n",
    "selected_features = [feature_names[i] for i in range(len(feature_names)) if rfe.support_[i]]\n",
    "selected_features_df = pd.DataFrame(selected_features, columns=['Selected Features'])\n",
    "\n",
    "print(f\"{type(model1).__name__}\")\n",
    "print(\"Selected Features from this model : \\n\", selected_features_df)"
   ]
  },
  {
   "cell_type": "code",
   "execution_count": 133,
   "metadata": {},
   "outputs": [
    {
     "name": "stdout",
     "output_type": "stream",
     "text": [
      "Execution time: 47.39 seconds\n",
      "XGBClassifier: Selected features = 13, Accuracy = 0.81, Precision = 0.7881629952884553\n",
      "Classification Report : \n",
      "               precision    recall  f1-score   support\n",
      "\n",
      "           0       0.69      0.82      0.75       988\n",
      "           1       0.99      0.97      0.98      1894\n",
      "           2       0.32      0.22      0.26       167\n",
      "           3       0.21      0.17      0.19       189\n",
      "           4       0.22      0.13      0.16       160\n",
      "\n",
      "    accuracy                           0.81      3398\n",
      "   macro avg       0.49      0.46      0.47      3398\n",
      "weighted avg       0.79      0.81      0.79      3398\n",
      "\n"
     ]
    }
   ],
   "source": [
    "start_time = time.time() \n",
    "\n",
    "model = XGBClassifier(learning_rate=0.1, max_depth=7, n_estimators=500)\n",
    "\n",
    "# Training the model\n",
    "model.fit(X_train_rfe, y_train_balanced)\n",
    "\n",
    "# Testing the model\n",
    "y_pred2 = model.predict(X_test_rfe)\n",
    "acc = accuracy_score(y_test, y_pred2)\n",
    "prec = precision_score(y_test, y_pred2, average='weighted')\n",
    "\n",
    "end_time = time.time()\n",
    "execution_time = end_time - start_time\n",
    "\n",
    "print(f\"Execution time: {execution_time:.2f} seconds\")\n",
    "\n",
    "print(f\"{type(model).__name__}: Selected features = {X_train_rfe.shape[1]}, Accuracy = {acc:.2f}, Precision = {prec}\") \n",
    "print(\"Classification Report : \\n\", classification_report(y_test, y_pred2))  "
   ]
  },
  {
   "cell_type": "markdown",
   "metadata": {},
   "source": [
    "## ML Model : Rabdom Forest (1)"
   ]
  },
  {
   "cell_type": "code",
   "execution_count": 213,
   "metadata": {},
   "outputs": [],
   "source": [
    "from sklearn.model_selection import train_test_split\n",
    "from sklearn import datasets, linear_model\n",
    "from scipy import stats\n",
    "from sklearn.preprocessing import RobustScaler, StandardScaler\n",
    "from sklearn import svm\n",
    "from sklearn.metrics import precision_score, recall_score, f1_score, accuracy_score\n",
    "from sklearn.inspection import permutation_importance\n",
    "from sklearn.metrics import classification_report"
   ]
  },
  {
   "cell_type": "code",
   "execution_count": 214,
   "metadata": {},
   "outputs": [],
   "source": [
    "#### ---------> Training and Testing split <----------- ###\n",
    "\n",
    "x = hazardData.drop(['Completion_Time_Bucket'],axis=1)\n",
    "y = hazardData['Completion_Time_Bucket']\n",
    "\n",
    "feature_names = x.columns.tolist()\n",
    "x_train, x_test, y_train, y_test = train_test_split(x, y, test_size=0.30, random_state=42)"
   ]
  },
  {
   "cell_type": "code",
   "execution_count": 215,
   "metadata": {},
   "outputs": [
    {
     "name": "stdout",
     "output_type": "stream",
     "text": [
      "Before Upsampling, counts of label '0': 2264\n",
      "Before Upsampling, counts of label '01': 4498 \n",
      "\n",
      "Before Upsampling, counts of label '2': 359\n",
      "Before Upsampling, counts of label '3': 468 \n",
      "\n",
      "Before Upsampling, counts of label '4': 338\n",
      "After Upsampling, counts of label '0': 4498\n",
      "After Upsampling, counts of label '1': 4498 \n",
      "\n",
      "After Upsampling, counts of label '2': 4498\n",
      "After Upsampling, counts of label '3': 4498 \n",
      "\n",
      "After Upsampling, counts of label '4': 4498\n"
     ]
    }
   ],
   "source": [
    "### -----> Applying SMOTE <----- ###\n",
    "\n",
    "from imblearn.over_sampling import RandomOverSampler\n",
    "from imblearn.under_sampling import RandomUnderSampler\n",
    "\n",
    "\n",
    "print(\"Before Upsampling, counts of label '0': {}\".format(sum(y_train==0))) \n",
    "print (\"Before Upsampling, counts of label '01': {} \\n\".format(sum(y_train==1)))\n",
    "print(\"Before Upsampling, counts of label '2': {}\".format(sum(y_train==2))) \n",
    "print (\"Before Upsampling, counts of label '3': {} \\n\".format(sum(y_train==3)))\n",
    "print(\"Before Upsampling, counts of label '4': {}\".format(sum(y_train==4))) \n",
    "#print (\"Before Upsampling, counts of label '5': {} \\n\".format(sum(y_train==5)))\n",
    "#print (\"Before Upsampling, counts of label '6': {} \\n\".format(sum(y_train==6)))\n",
    "\n",
    "# Perform oversampling on minority classes\n",
    "ros = RandomOverSampler(sampling_strategy='not majority', random_state=42)\n",
    "x_train_oversampled, y_train_oversampled = ros.fit_resample(x_train, y_train)\n",
    "\n",
    "# Perform undersampling on majority class\n",
    "rus = RandomUnderSampler(sampling_strategy='majority', random_state=42)\n",
    "x_train_balanced, y_train_balanced = rus.fit_resample(x_train_oversampled, y_train_oversampled)\n",
    "\n",
    "print(\"After Upsampling, counts of label '0': {}\".format(sum(y_train_balanced==0))) \n",
    "print (\"After Upsampling, counts of label '1': {} \\n\".format(sum(y_train_balanced==1)))\n",
    "print(\"After Upsampling, counts of label '2': {}\".format(sum(y_train_balanced==2))) \n",
    "print (\"After Upsampling, counts of label '3': {} \\n\".format(sum(y_train_balanced==3)))\n",
    "print(\"After Upsampling, counts of label '4': {}\".format(sum(y_train_balanced==4))) "
   ]
  },
  {
   "cell_type": "code",
   "execution_count": 216,
   "metadata": {},
   "outputs": [
    {
     "name": "stdout",
     "output_type": "stream",
     "text": [
      "Optimal number of features : 9\n"
     ]
    }
   ],
   "source": [
    "### ---------> RFE with Cross Validation <--------- #### \n",
    "\n",
    "from sklearn.feature_selection import RFE\n",
    "from sklearn.ensemble import RandomForestClassifier\n",
    "from sklearn.preprocessing import StandardScaler\n",
    "import time\n",
    "from sklearn.feature_selection import RFECV\n",
    "from sklearn.model_selection import StratifiedKFold\n",
    "\n",
    "model1 = RandomForestClassifier()\n",
    "\n",
    "# create RFE selector with cross-validation and fit it to the data\n",
    "rfecv = RFECV(estimator = model1, step=1, cv=StratifiedKFold(5), scoring='accuracy')\n",
    "rfecv.fit(x_train, y_train)   ## x_trin_balanced / y_train_balanced \n",
    "\n",
    "# print the optimal number of features\n",
    "print(\"Optimal number of features : %d\" % rfecv.n_features_)"
   ]
  },
  {
   "cell_type": "code",
   "execution_count": 218,
   "metadata": {},
   "outputs": [
    {
     "name": "stdout",
     "output_type": "stream",
     "text": [
      "RandomForestClassifier\n",
      "Selected Features from this model : \n",
      "                          Selected Features\n",
      "0                    Hazard_identification\n",
      "1                           potential_risk\n",
      "2                  further_action_required\n",
      "3  immediate_action_required_and_performed\n",
      "4                       recommended_action\n",
      "5                   immediate_action_score\n",
      "6                   completed_action_score\n",
      "7                                SiteLevel\n",
      "8                                Workplace\n"
     ]
    }
   ],
   "source": [
    "### -------> Feature selection with RFE <-------- ###\n",
    "rfe = RFE(model1, n_features_to_select=9)        \n",
    "X_train_rfe = rfe.fit_transform(x_train, y_train)\n",
    "X_test_rfe = rfe.transform(x_test) \n",
    "selected_features = [feature_names[i] for i in range(len(feature_names)) if rfe.support_[i]]\n",
    "selected_features_df = pd.DataFrame(selected_features, columns=['Selected Features'])\n",
    "\n",
    "print(f\"{type(model1).__name__}\")\n",
    "print(\"Selected Features from this model : \\n\", selected_features_df)"
   ]
  },
  {
   "cell_type": "code",
   "execution_count": 219,
   "metadata": {},
   "outputs": [
    {
     "name": "stdout",
     "output_type": "stream",
     "text": [
      "Execution time: 11.94 seconds\n",
      "RandomForestClassifier: Selected features = 9, Accuracy = 0.82, Precision = 0.7907270348939855\n",
      "Classification Report : \n",
      "               precision    recall  f1-score   support\n",
      "\n",
      "           0       0.66      0.93      0.77       988\n",
      "           1       0.99      0.97      0.98      1894\n",
      "           2       0.31      0.08      0.13       167\n",
      "           3       0.24      0.07      0.11       189\n",
      "           4       0.39      0.09      0.15       160\n",
      "\n",
      "    accuracy                           0.82      3398\n",
      "   macro avg       0.52      0.43      0.43      3398\n",
      "weighted avg       0.79      0.82      0.79      3398\n",
      "\n"
     ]
    }
   ],
   "source": [
    "start_time = time.time() \n",
    "\n",
    "model = RandomForestClassifier(max_depth=50, min_samples_leaf=1, min_samples_split=2, n_estimators=1000)\n",
    "\n",
    "# Training the model\n",
    "model.fit(X_train_rfe, y_train)\n",
    "\n",
    "# Testing the model\n",
    "y_pred = model.predict(X_test_rfe)\n",
    "acc = accuracy_score(y_test, y_pred)\n",
    "prec = precision_score(y_test, y_pred, average='weighted')\n",
    "\n",
    "end_time = time.time()\n",
    "execution_time = end_time - start_time\n",
    "\n",
    "print(f\"Execution time: {execution_time:.2f} seconds\")\n",
    "\n",
    "print(f\"{type(model).__name__}: Selected features = {X_train_rfe.shape[1]}, Accuracy = {acc:.2f}, Precision = {prec}\") \n",
    "print(\"Classification Report : \\n\", classification_report(y_test, y_pred))  "
   ]
  },
  {
   "cell_type": "markdown",
   "metadata": {},
   "source": [
    "## ML Model : Random Forest - (2) - with balanced data"
   ]
  },
  {
   "cell_type": "code",
   "execution_count": 220,
   "metadata": {},
   "outputs": [],
   "source": [
    "from sklearn.model_selection import train_test_split\n",
    "from sklearn import datasets, linear_model\n",
    "from scipy import stats\n",
    "from sklearn.preprocessing import RobustScaler, StandardScaler\n",
    "from sklearn import svm\n",
    "from sklearn.metrics import precision_score, recall_score, f1_score, accuracy_score\n",
    "from sklearn.inspection import permutation_importance\n",
    "from sklearn.metrics import classification_report"
   ]
  },
  {
   "cell_type": "code",
   "execution_count": 221,
   "metadata": {},
   "outputs": [],
   "source": [
    "#### ---------> Training and Testing split <----------- ###\n",
    "\n",
    "x = hazardData.drop(['Completion_Time_Bucket'],axis=1)\n",
    "y = hazardData['Completion_Time_Bucket']\n",
    "\n",
    "feature_names = x.columns.tolist()\n",
    "x_train, x_test, y_train, y_test = train_test_split(x, y, test_size=0.30, random_state=42)"
   ]
  },
  {
   "cell_type": "code",
   "execution_count": 222,
   "metadata": {},
   "outputs": [
    {
     "name": "stdout",
     "output_type": "stream",
     "text": [
      "Before Upsampling, counts of label '0': 2264\n",
      "Before Upsampling, counts of label '01': 4498 \n",
      "\n",
      "Before Upsampling, counts of label '2': 359\n",
      "Before Upsampling, counts of label '3': 468 \n",
      "\n",
      "Before Upsampling, counts of label '4': 338\n",
      "After Upsampling, counts of label '0': 4498\n",
      "After Upsampling, counts of label '1': 4498 \n",
      "\n",
      "After Upsampling, counts of label '2': 4498\n",
      "After Upsampling, counts of label '3': 4498 \n",
      "\n",
      "After Upsampling, counts of label '4': 4498\n"
     ]
    }
   ],
   "source": [
    "### -----> Applying SMOTE <----- ###\n",
    "\n",
    "from imblearn.over_sampling import RandomOverSampler\n",
    "from imblearn.under_sampling import RandomUnderSampler\n",
    "\n",
    "\n",
    "print(\"Before Upsampling, counts of label '0': {}\".format(sum(y_train==0))) \n",
    "print (\"Before Upsampling, counts of label '01': {} \\n\".format(sum(y_train==1)))\n",
    "print(\"Before Upsampling, counts of label '2': {}\".format(sum(y_train==2))) \n",
    "print (\"Before Upsampling, counts of label '3': {} \\n\".format(sum(y_train==3)))\n",
    "print(\"Before Upsampling, counts of label '4': {}\".format(sum(y_train==4))) \n",
    "\n",
    "# Perform oversampling on minority classes\n",
    "ros = RandomOverSampler(sampling_strategy='not majority', random_state=42)\n",
    "x_train_oversampled, y_train_oversampled = ros.fit_resample(x_train, y_train)\n",
    "\n",
    "# Perform undersampling on majority class\n",
    "rus = RandomUnderSampler(sampling_strategy='majority', random_state=42)\n",
    "x_train_balanced, y_train_balanced = rus.fit_resample(x_train_oversampled, y_train_oversampled)\n",
    "\n",
    "print(\"After Upsampling, counts of label '0': {}\".format(sum(y_train_balanced==0))) \n",
    "print (\"After Upsampling, counts of label '1': {} \\n\".format(sum(y_train_balanced==1)))\n",
    "print(\"After Upsampling, counts of label '2': {}\".format(sum(y_train_balanced==2))) \n",
    "print (\"After Upsampling, counts of label '3': {} \\n\".format(sum(y_train_balanced==3)))\n",
    "print(\"After Upsampling, counts of label '4': {}\".format(sum(y_train_balanced==4))) "
   ]
  },
  {
   "cell_type": "code",
   "execution_count": 223,
   "metadata": {},
   "outputs": [
    {
     "name": "stdout",
     "output_type": "stream",
     "text": [
      "Optimal number of features : 8\n"
     ]
    }
   ],
   "source": [
    "### ---------> RFE with Cross Validation <--------- #### \n",
    "\n",
    "from sklearn.feature_selection import RFE\n",
    "from sklearn.ensemble import RandomForestClassifier\n",
    "from sklearn.preprocessing import StandardScaler\n",
    "import time\n",
    "from sklearn.feature_selection import RFECV\n",
    "from sklearn.model_selection import StratifiedKFold\n",
    "\n",
    "model1 = RandomForestClassifier()\n",
    "\n",
    "# create RFE selector with cross-validation and fit it to the data\n",
    "rfecv = RFECV(estimator = model1, step=1, cv=StratifiedKFold(5), scoring='accuracy')\n",
    "rfecv.fit(x_train_balanced, y_train_balanced)   ## x_trin_balanced / y_train_balanced \n",
    "\n",
    "# print the optimal number of features\n",
    "print(\"Optimal number of features : %d\" % rfecv.n_features_)"
   ]
  },
  {
   "cell_type": "code",
   "execution_count": 224,
   "metadata": {},
   "outputs": [
    {
     "name": "stdout",
     "output_type": "stream",
     "text": [
      "RandomForestClassifier\n",
      "Selected Features from this model : \n",
      "          Selected Features\n",
      "0    Hazard_identification\n",
      "1           potential_risk\n",
      "2  further_action_required\n",
      "3   immediate_action_taken\n",
      "4       recommended_action\n",
      "5   completed_action_score\n",
      "6                SiteLevel\n",
      "7                Workplace\n"
     ]
    }
   ],
   "source": [
    "### -------> Feature selection with RFE <-------- ###\n",
    "rfe = RFE(model1, n_features_to_select= 8)        \n",
    "X_train_rfe = rfe.fit_transform(x_train_balanced, y_train_balanced)\n",
    "X_test_rfe = rfe.transform(x_test) \n",
    "selected_features = [feature_names[i] for i in range(len(feature_names)) if rfe.support_[i]]\n",
    "selected_features_df = pd.DataFrame(selected_features, columns=['Selected Features'])\n",
    "\n",
    "print(f\"{type(model1).__name__}\")\n",
    "print(\"Selected Features from this model : \\n\", selected_features_df)"
   ]
  },
  {
   "cell_type": "code",
   "execution_count": 225,
   "metadata": {},
   "outputs": [
    {
     "name": "stdout",
     "output_type": "stream",
     "text": [
      "Execution time: 24.31 seconds\n",
      "RandomForestClassifier: Selected features = 8, Accuracy = 0.82, Precision = 0.7862357054611656\n",
      "Classification Report : \n",
      "               precision    recall  f1-score   support\n",
      "\n",
      "           0       0.66      0.91      0.76       988\n",
      "           1       1.00      0.97      0.98      1894\n",
      "           2       0.28      0.10      0.15       167\n",
      "           3       0.20      0.08      0.12       189\n",
      "           4       0.30      0.12      0.17       160\n",
      "\n",
      "    accuracy                           0.82      3398\n",
      "   macro avg       0.49      0.44      0.44      3398\n",
      "weighted avg       0.79      0.82      0.79      3398\n",
      "\n"
     ]
    }
   ],
   "source": [
    "start_time = time.time() \n",
    "\n",
    "model = RandomForestClassifier(max_depth=50, min_samples_leaf=1, min_samples_split=2, n_estimators=1000)\n",
    "\n",
    "# Training the model\n",
    "model.fit(X_train_rfe, y_train_balanced)\n",
    "\n",
    "# Testing the model\n",
    "y_pred = model.predict(X_test_rfe)\n",
    "acc = accuracy_score(y_test, y_pred)\n",
    "prec = precision_score(y_test, y_pred, average='weighted')\n",
    "\n",
    "end_time = time.time()\n",
    "execution_time = end_time - start_time\n",
    "\n",
    "print(f\"Execution time: {execution_time:.2f} seconds\")\n",
    "\n",
    "print(f\"{type(model).__name__}: Selected features = {X_train_rfe.shape[1]}, Accuracy = {acc:.2f}, Precision = {prec}\") \n",
    "print(\"Classification Report : \\n\", classification_report(y_test, y_pred))  "
   ]
  }
 ],
 "metadata": {
  "kernelspec": {
   "display_name": "Python 3.10.5 64-bit",
   "language": "python",
   "name": "python3"
  },
  "language_info": {
   "codemirror_mode": {
    "name": "ipython",
    "version": 3
   },
   "file_extension": ".py",
   "mimetype": "text/x-python",
   "name": "python",
   "nbconvert_exporter": "python",
   "pygments_lexer": "ipython3",
   "version": "3.10.5"
  },
  "orig_nbformat": 4,
  "vscode": {
   "interpreter": {
    "hash": "aee8b7b246df8f9039afb4144a1f6fd8d2ca17a180786b69acc140d282b71a49"
   }
  }
 },
 "nbformat": 4,
 "nbformat_minor": 2
}
